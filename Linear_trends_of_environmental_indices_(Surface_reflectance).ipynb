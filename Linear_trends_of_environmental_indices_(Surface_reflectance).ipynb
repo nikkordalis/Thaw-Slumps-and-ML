{
 "cells": [
  {
   "cell_type": "code",
   "execution_count": 1,
   "metadata": {},
   "outputs": [
    {
     "data": {
      "text/html": [
       "<p>To authorize access needed by Earth Engine, open the following\n",
       "        URL in a web browser and follow the instructions:</p>\n",
       "        <p><a href=https://accounts.google.com/o/oauth2/auth?client_id=517222506229-vsmmajv00ul0bs7p89v5m89qs8eb9359.apps.googleusercontent.com&scope=https%3A%2F%2Fwww.googleapis.com%2Fauth%2Fearthengine+https%3A%2F%2Fwww.googleapis.com%2Fauth%2Fdevstorage.full_control&redirect_uri=urn%3Aietf%3Awg%3Aoauth%3A2.0%3Aoob&response_type=code&code_challenge=oBy7SFqi9HLzI4Xu51skOq9AO2YZhmlCEWj8qBIwQVo&code_challenge_method=S256>https://accounts.google.com/o/oauth2/auth?client_id=517222506229-vsmmajv00ul0bs7p89v5m89qs8eb9359.apps.googleusercontent.com&scope=https%3A%2F%2Fwww.googleapis.com%2Fauth%2Fearthengine+https%3A%2F%2Fwww.googleapis.com%2Fauth%2Fdevstorage.full_control&redirect_uri=urn%3Aietf%3Awg%3Aoauth%3A2.0%3Aoob&response_type=code&code_challenge=oBy7SFqi9HLzI4Xu51skOq9AO2YZhmlCEWj8qBIwQVo&code_challenge_method=S256</a></p>\n",
       "        <p>The authorization workflow will generate a code, which you\n",
       "        should paste in the box below</p>\n",
       "        "
      ],
      "text/plain": [
       "<IPython.core.display.HTML object>"
      ]
     },
     "metadata": {},
     "output_type": "display_data"
    },
    {
     "name": "stdout",
     "output_type": "stream",
     "text": [
      "Enter verification code: 4/1AY0e-g6uQNiurf7HPap_iTh-pNx2pFbLQFs361Yu89juAezNm6EGWfNyT-w\n",
      "\n",
      "Successfully saved authorization token.\n"
     ]
    }
   ],
   "source": [
    "import ee\n",
    "# Trigger the authentication flow.\n",
    "ee.Authenticate()\n",
    "\n",
    "# Initialize the library.\n",
    "ee.Initialize()"
   ]
  },
  {
   "cell_type": "code",
   "execution_count": 2,
   "metadata": {},
   "outputs": [],
   "source": [
    "from geetools import tools, utils\n",
    "import geedatasets\n",
    "import utils\n",
    "import pandas as pd\n",
    "import altair as alt\n",
    "import numpy as np\n",
    "import geopandas as gpd\n",
    "import folium\n",
    "from geopandas import GeoDataFrame\n",
    "from shapely.geometry import Point,Polygon\n",
    "#import numpy\n",
    "import numpy as np\n",
    "from functools import reduce\n",
    "import matplotlib.pyplot as plt"
   ]
  },
  {
   "cell_type": "code",
   "execution_count": 4,
   "metadata": {},
   "outputs": [],
   "source": [
    "collectionName_L5 = \"LANDSAT/LT05/C02/T2_L2\" "
   ]
  },
  {
   "cell_type": "code",
   "execution_count": 3,
   "metadata": {},
   "outputs": [],
   "source": [
    "#NDVI\n",
    "\n",
    "### Landsat\n",
    "def NDVI_L5(image):\n",
    "    ndvi = image.normalizedDifference(['B4', 'B3']).rename('NDVI').set('system:time_start', image.get('system:time_start'))\n",
    "    return image.addBands(ndvi)\n",
    "\n",
    "\n",
    "#-----------------------------------------------------------------------------------------------------------------#\n",
    "def NDMI_L5(image):\n",
    "    ndmi = image.normalizedDifference(['B4', 'B5']).rename('NDMI').set('system:time_start', image.get('system:time_start'))\n",
    "    return image.addBands(ndmi)\n",
    "\n",
    "\n",
    "#-----------------------------------------------------------------------------------------------------------------#\n",
    "\n",
    "def NDWI_L5(image):\n",
    "    ndwi = image.normalizedDifference(['B2', 'B4']).rename('NDWI').set('system:time_start', image.get('system:time_start'))\n",
    "    return image.addBands(ndwi)\n",
    "\n",
    "\n",
    "#-----------------------------------------------------------------------------------------------------------------#\n",
    "\n",
    "# Formula of MSI = MidIR / NIR\n",
    "# MSI (Landsat 4 – 7) = B5 / B4\n",
    "\n",
    "def MSI_L5(image):\n",
    "    return ee.Image(0).expression(\n",
    "      'swir/ nir',\n",
    "      {\n",
    "          'nir': image.select('B4'),\n",
    "          'swir': image.select('B5'),\n",
    "      }).set('system:time_start', image.get('system:time_start')).rename('MSI')\n",
    "\n",
    "\n",
    "\n",
    "#-----------------------------------------------------------------------------------------------------------------#\n",
    "#NDII =(NIR −SWIR1)/(NIR +SWIR1)\n",
    "def NDII_L5(image):\n",
    "    return ee.Image(0).expression(\n",
    "      '(nir-swir)/ (nir+swir)',\n",
    "      {\n",
    "          'nir': image.select('B4'),\n",
    "          'swir': image.select('B5'),\n",
    "      }).set('system:time_start', image.get('system:time_start')).rename('NDII')\n",
    "\n",
    "\n",
    "\n",
    "\n",
    "#-----------------------------------------------------------------------------------------------------------------#\n",
    "          \n",
    "def SAVI_L5(image):\n",
    "  \"\"\"A function to compute Soil Adjusted Vegetation Index.\"\"\"\n",
    "  return ee.Image(0).expression(\n",
    "      'Gain * float(nir - red)/ (nir + red + L)',\n",
    "      {\n",
    "          'Gain': ee.Number(1.5),\n",
    "          'nir': image.select('B4'),\n",
    "          'red': image.select('B3'),\n",
    "          'L': 5000\n",
    "      }).set('system:time_start', image.get('system:time_start')).rename('SAVI')\n",
    "\n",
    "\n",
    "#-----------------------------------------------------------------------------------------------------------------#\n",
    "\n",
    "\n",
    "\n",
    "# In Landsat 4-7, EVI = 2.5 * ((Band 4 – Band 3) / (Band 4 + 6 * Band 3 – 7.5 * Band 1 + 1)).\n",
    "#\"\"\"A function to compute Enhanced Vegetation Index.\"\"\"\n",
    "def EVI_L5(image):\n",
    "    return ee.Image(0).expression(\n",
    "      'Gain*((NIR-R)/(NIR + C1*R - C2*B + L))',\n",
    "      {\n",
    "      'Gain': ee.Number(2.5),\n",
    "      'B': image.select('B1'),\n",
    "      'R': image.select('B3'),\n",
    "      'NIR': image.select('B4'),\n",
    "      'L': ee.Number(1),\n",
    "      'C1': ee.Number(6),\n",
    "      'C2': ee.Number(7.5)\n",
    "      }).set('system:time_start', image.get('system:time_start')).rename('EVI')\n",
    "\n",
    "\n",
    "\n",
    "#-----------------------------------------------------------------------------------------------------------------#\n",
    "#In Landsat 4-7, MSAVI = (2 * Band 4 + 1 – sqrt ((2 * Band 4 + 1)2 – 8 * (Band 4 – Band 3))) / 2.\n",
    "def MSAVI_L5(image):\n",
    "    return ee.Image(0).expression(\n",
    "      '(Gain * NIR + L - sqrt(pow((Gain * NIR + L), 2) - C * (NIR - R)) ) / Gain',\n",
    "      {\n",
    "      'Gain': ee.Number(2),\n",
    "      'R': image.select('B3'),\n",
    "      'NIR': image.select('B4'),\n",
    "      'L': ee.Number(1),\n",
    "      'C': ee.Number(8)\n",
    "      }).set('system:time_start', image.get('system:time_start')).rename('MSAVI')\n",
    "\n",
    "\n",
    "\n",
    "#-----------------------------------------------------------------------------------------------------------------#\n",
    "\n",
    "#The formula of NDWI modified by Xu (2005).\n",
    "#It uses Green and SWIR band.\n",
    "# MNDWI = (Green – SWIR) / (Green + SWIR)\n",
    "def MNDWI_L5(image):\n",
    "    mndwi = image.normalizedDifference(['B2', 'B5']).rename('MNDWI').set('system:time_start', image.get('system:time_start'))\n",
    "    return image.addBands(mndwi)\n",
    "\n",
    "#-----------------------------------------------------------------------------------------------------------------#\n",
    "def SWIR_L5(image):\n",
    "    swir = image.select('B5').rename('SWIR').set('system:time_start', image.get('system:time_start'))\n",
    "    return image.addBands(swir)\n",
    "\n",
    "\n",
    "#-----------------------------------------------------------------------------------------------------------------#\n",
    "#Mask cloud and Shadow for Landsat images L5,7\n",
    "\n",
    "\n",
    "def cloudMaskL457(image):\n",
    "    qa = image.select('pixel_qa')\n",
    "    #If the cloud bit (5) is set and the cloud confidence (7) is high\n",
    "    #or the cloud shadow bit is set (3), then it's a bad pixel.\n",
    "    cloud = qa.bitwiseAnd(1 << 5).And(qa.bitwiseAnd(1 << 7)).Or(qa.bitwiseAnd(1 << 3))\n",
    "    #Remove edge pixels that don't occur in all bands\n",
    "    mask2 = image.mask().reduce(ee.Reducer.min())\n",
    "    return image.updateMask(cloud.Not()).updateMask(mask2)\n",
    "\n",
    "\n",
    "\n",
    "# Look for the bitmasks in\n",
    "# https://developers.google.com/earth-engine/datasets/catalog/LANDSAT_LT05_C02_T2_L2?hl=en\n",
    "def mask_water(image):\n",
    "    #Get the pixel QA band.\n",
    "    qa = image.select('pixel_qa')\n",
    "    mask = qa.bitwiseAnd(2).neq(0)\n",
    "    mask2 = image.mask().reduce(ee.Reducer.min())\n",
    "    return image.updateMask(mask).updateMask(mask2)\n",
    "\n",
    "# def mask_water2(image):\n",
    "#     qa = image.select('pixel_qa')\n",
    "#     mask = qa.bitwiseAnd(1<< 2)\n",
    "#     #Remove edge pixels that don't occur in all bands\n",
    "#     mask2 = image.mask().reduce(ee.Reducer.min())\n",
    "#     return image.updateMask(mask.Not()).updateMask(mask2)\n",
    "\n",
    "def mask_snow(image):\n",
    "    qa = image.select('pixel_qa')\n",
    "    cloud = qa.bitwiseAnd(1 << 4)\n",
    "    mask2 = image.mask().reduce(ee.Reducer.min())\n",
    "    return image.updateMask(cloud.Not()).updateMask(mask2)\n",
    "\n",
    "\n",
    "# def mask_snow(image):\n",
    "#     #Get the pixel QA band.\n",
    "#     qa = image.select('pixel_qa')\n",
    "#     snowBitMask = (1 << 4)\n",
    "#     mask = qa.bitwiseAnd(snowBitMask).eq(0);\n",
    "#     mask2 = image.mask().reduce(ee.Reducer.min())\n",
    "#     return image.updateMask(mask).updateMask(mask2)"
   ]
  },
  {
   "cell_type": "code",
   "execution_count": 6,
   "metadata": {},
   "outputs": [],
   "source": [
    "def run_export(image, crs, filename, scale, region, maxPixels=1e13):\n",
    "    '''\n",
    "    Runs an export function on GEE servers\n",
    "    '''\n",
    "    task_config = {'fileNamePrefix': filename,'crs': crs,'scale': scale,'maxPixels': maxPixels,'fileFormat': 'GeoTIFF','region': region,}\n",
    "    task = ee.batch.Export.image.toDrive(image, filename, **task_config)\n",
    "    task.start()"
   ]
  },
  {
   "cell_type": "code",
   "execution_count": 7,
   "metadata": {},
   "outputs": [],
   "source": [
    "def gee_geometry_from_shapely(geom, crs='epsg:4326'):\n",
    "    \"\"\" \n",
    "    Simple helper function to take a shapely geometry and a coordinate system and convert them to a \n",
    "    Google Earth Engine Geometry.\n",
    "    \"\"\"\n",
    "    from shapely.geometry import mapping\n",
    "    ty = geom.type\n",
    "    if ty == 'Polygon':\n",
    "        return ee.Geometry.Polygon(ee.List(mapping(geom)['coordinates']), proj=crs, evenOdd=False)\n",
    "    elif ty == 'Point':\n",
    "        return ee.Geometry.Point(ee.List(mapping(geom)['coordinates']), proj=crs, evenOdd=False)    \n",
    "    elif ty == 'MultiPolygon':\n",
    "        return ee.Geometry.MultiPolygon(ee.List(mapping(geom)['coordinates']), proj=crs, evenOdd=False)"
   ]
  },
  {
   "cell_type": "markdown",
   "metadata": {},
   "source": [
    "**system:time_start**\n",
    "<br>The Earth Engine time stamp in milliseconds since the UNIX epoch. See this link (https://en.wikipedia.org/wiki/Unix_time) for more information. The time stamp is set to the nominal image acquisition time for single scenes. It is set to the nominal composite start period for temporal composites."
   ]
  },
  {
   "cell_type": "code",
   "execution_count": 8,
   "metadata": {},
   "outputs": [],
   "source": [
    "#Returns the difference between two Dates in the specified units; \n",
    "#the result is floating-point and based on the average length of the unit.\n",
    "#ee.Date.difference(start, unit)\n",
    "# Arguments:\n",
    "# this:date (Date)\n",
    "# start (Date)\n",
    "# unit (String):\n",
    "# One of 'year', 'month' 'week', 'day', 'hour', 'minute', or 'second'.\n",
    "#Returns: Float\n",
    "    \n",
    "    \n",
    "def addDate(image):\n",
    "        date = ee.Date(image.get('system:time_start'))\n",
    "        years = date.difference(ee.Date('1984-01-01'), 'year');\n",
    "        return image.addBands(ee.Image.constant(years)).addBands(ee.Image(years).rename('t')).float()"
   ]
  },
  {
   "cell_type": "code",
   "execution_count": 9,
   "metadata": {},
   "outputs": [],
   "source": [
    "#Load Image Collection\n",
    "collection_L5 = ee.ImageCollection(collectionName_L5)"
   ]
  },
  {
   "cell_type": "code",
   "execution_count": 10,
   "metadata": {},
   "outputs": [],
   "source": [
    "# Define the area of interest\n",
    "\n",
    "from shapely.geometry import Polygon\n",
    "\n",
    "geom = Polygon([[-122.7609625539781,71.0248652750595],\n",
    "                [-121.7502203664781,71.35078807875405],\n",
    "                [-121.0031500539781,71.37185539607945],\n",
    "                [-120.3219977102281,71.53956940315283],\n",
    "                [-120.3000250539781,71.98650637573677],\n",
    "                [-119.8825445852281,72.18251814893772],\n",
    "                [-119.2233648977281,72.33650688912165],\n",
    "                [-119.0695563039781,72.62751123507817],\n",
    "                [-118.3664313039781,72.77777272011134],\n",
    "                [-117.4216070852281,73.02327346292203],\n",
    "                [-116.7624273977281,73.12562314751086],\n",
    "                [-115.6637945852281,73.35372393902468],\n",
    "                [-115.1803961477281,73.49164105978065],\n",
    "                [-117.2238531789781,74.21859485977957],\n",
    "                [-118.1247320852281,74.30204109643341],\n",
    "                [-118.8498297414781,74.23054216680322],\n",
    "                [-119.5749273977281,74.24844660046523],\n",
    "                [-121.2448492727281,74.56735766699148],\n",
    "                [-121.7941656789781,74.57904742715868],\n",
    "                [-122.3654547414781,74.4970373362395],\n",
    "                [-124.8483648977281,74.36730409994937],\n",
    "                [-124.6066656789781,74.1226983323726],\n",
    "                [-124.1672125539781,73.81934897680587],\n",
    "                [-124.0793219289781,73.57882746350154],\n",
    "                [-124.4528570852281,73.39772768318414],\n",
    "                [-124.8263922414781,73.21468747419634],\n",
    "                [-124.9802008352281,72.96543724049849], \n",
    "                [-125.3097906789781,72.81676365632822],\n",
    "                [-125.1999273977281,72.620949382208],\n",
    "                [-125.9469977102281,72.08139173142834],\n",
    "                [-125.8371344289781,71.9116129732407],\n",
    "                [-125.3976813039781,71.93206824488587],\n",
    "                [-124.4308844289781,71.71961482925289],\n",
    "                [-123.9914313039781,71.56737970042492],\n",
    "                [-123.7057867727281,71.39289975804704],\n",
    "                [-123.4421148977281,71.06055580588858],\n",
    "                [-122.7609625539781,71.0248652750595] ])\n",
    "search_area = gee_geometry_from_shapely(geom)"
   ]
  },
  {
   "cell_type": "code",
   "execution_count": 11,
   "metadata": {},
   "outputs": [],
   "source": [
    "# Filter the collections\n",
    "collection_5 = ee.ImageCollection(collection_L5).filter(ee.Filter.date('1984-01-01', '2014-01-01')\n",
    "     .calendarRange(6,8, 'month'))\\\n",
    "    .filterBounds(search_area)\\\n",
    "    .filter(ee.Filter.lt('CLOUD_COVER', 30))\\\n",
    "    .map(cloudMaskL457)\\\n",
    "    .map(mask_water)\\\n",
    "    .map(mask_snow)\\\n",
    "    .sort('system:time_start')"
   ]
  },
  {
   "cell_type": "code",
   "execution_count": 12,
   "metadata": {},
   "outputs": [],
   "source": [
    "#Calculate NDVI and and add Date band(=doy)\n",
    "NDVI_5=collection_5.map(NDVI_L5)\n",
    "NDVI_5_date=NDVI_5.map(addDate);\n",
    "\n",
    "\n",
    "#Calculate EVI and and add Date band(=doy)\n",
    "EVI_5 = collection_5.map(EVI_L5)\n",
    "EVI_5_date = EVI_5.map(addDate);\n",
    "\n",
    "\n",
    "#Calculate MSI and and add Date band(=doy)\n",
    "MSI_5 = collection_5.map(MSI_L5)\n",
    "MSI_5_date = MSI_5.map(addDate);\n",
    "\n",
    "\n",
    "#Calculate NDII and and add Date band(=doy)\n",
    "NDII_5 = collection_5.map(NDII_L5)\n",
    "NDII_5_date = NDII_5.map(addDate);\n",
    "\n",
    "\n",
    "# #Calculate SAVI and and add Date band(=doy)\n",
    "SAVI_5 = collection_5.map(SAVI_L5)\n",
    "SAVI_5_date = SAVI_5.map(addDate);\n",
    "\n",
    "\n",
    "#Calculate MSAVI and and add Date band(=doy)\n",
    "MSAVI_5 = collection_5.map(MSAVI_L5)\n",
    "MSAVI_5_date = MSAVI_5.map(addDate);\n",
    "\n",
    "\n",
    "#Calculate NDMI and and add Date band(=doy)\n",
    "NDMI_5 = collection_5.map(NDMI_L5)\n",
    "NDMI_5_date = NDMI_5.map(addDate);\n",
    "\n",
    "\n",
    "#Calculate NDWI and and add Date band(=doy)\n",
    "NDWI_5 = collection_5.map(NDWI_L5)\n",
    "NDWI_5_date = NDWI_5.map(addDate);\n",
    "\n",
    "\n",
    "#Calculate MNDWI and add Date band(=doy)\n",
    "MNDWI_5 = collection_5.map(MNDWI_L5)\n",
    "MNDWI_5_date = MNDWI_5.map(addDate);\n",
    "\n",
    "\n",
    "#Short Wave\n",
    "SWIR_5 = collection_5.map(SWIR_L5);\n",
    "SWIR_5_date = SWIR_5.map(addDate);"
   ]
  },
  {
   "cell_type": "markdown",
   "metadata": {},
   "source": [
    "**ee.Reducer.linearFit()**\n",
    "<br>Computes the least squares estimate of a linear function of one variable with a constant term.\n",
    "<br>The data should be set up as a two-band input image, where the first band is the independent variable (time) and the <br>second band is the dependent variable. \n",
    "<br>https://developers.google.com/earth-engine/guides/reducers_regression"
   ]
  },
  {
   "cell_type": "code",
   "execution_count": 13,
   "metadata": {},
   "outputs": [],
   "source": [
    "# Calculate the linear fit \n",
    "linear_fit_NDVI = NDVI_5_date.select(['t', 'NDVI']).reduce(ee.Reducer.linearFit()).select(['scale', 'offset'])\n",
    "linear_fit_EVI = EVI_5_date.select(['t', 'EVI']).reduce(ee.Reducer.linearFit()).select(['scale', 'offset'])\n",
    "linear_fit_MSI = MSI_5_date.select(['t', 'MSI']).reduce(ee.Reducer.linearFit()).select(['scale', 'offset'])\n",
    "\n",
    "linear_fit_NDII = NDII_5_date.select(['t', 'NDII']).reduce(ee.Reducer.linearFit()).select(['scale', 'offset'])\n",
    "linear_fit_SAVI = SAVI_5_date.select(['t', 'SAVI']).reduce(ee.Reducer.linearFit()).select(['scale', 'offset'])\n",
    "linear_fit_MSAVI = MSAVI_5_date.select(['t', 'MSAVI']).reduce(ee.Reducer.linearFit()).select(['scale', 'offset'])\n",
    "\n",
    "linear_fit_NDMI = NDMI_5_date.select(['t', 'NDMI']).reduce(ee.Reducer.linearFit()).select(['scale', 'offset'])\n",
    "linear_fit_NDWI = NDWI_5_date.select(['t', 'NDWI']).reduce(ee.Reducer.linearFit()).select(['scale', 'offset'])\n",
    "\n",
    "linear_fit_MNDWI = MNDWI_5_date.select(['t', 'MNDWI']).reduce(ee.Reducer.linearFit()).select(['scale', 'offset'])\n",
    "linear_fit_SWIR = SWIR_5_date.select(['t', 'SWIR']).reduce(ee.Reducer.linearFit()).select(['scale', 'offset'])\n"
   ]
  },
  {
   "cell_type": "code",
   "execution_count": 14,
   "metadata": {},
   "outputs": [],
   "source": [
    "#NDVI_5_7_8_date.getInfo()"
   ]
  },
  {
   "cell_type": "code",
   "execution_count": 15,
   "metadata": {},
   "outputs": [],
   "source": [
    "#Export the images to google drive"
   ]
  },
  {
   "cell_type": "code",
   "execution_count": 16,
   "metadata": {},
   "outputs": [],
   "source": [
    "run_export(linear_fit_NDVI, 'epsg:4326', 'Lin_NDVI_1984_2011_L5_30Cl', scale=30, region=search_area, maxPixels=1e13)"
   ]
  },
  {
   "cell_type": "code",
   "execution_count": null,
   "metadata": {},
   "outputs": [],
   "source": [
    "run_export(linear_fit_MSI, 'epsg:4326', 'lin_MSI_1984_2011_L5_30Cl', scale=30, region=search_area, maxPixels=1e13)"
   ]
  },
  {
   "cell_type": "code",
   "execution_count": null,
   "metadata": {},
   "outputs": [],
   "source": [
    "run_export(linear_fit_EVI, 'epsg:4326', 'Lin_EVI_1984_2011_L5_30Cl', scale=30, region=search_area, maxPixels=1e13)"
   ]
  },
  {
   "cell_type": "code",
   "execution_count": null,
   "metadata": {},
   "outputs": [],
   "source": [
    "run_export(linear_fit_NDII, 'epsg:4326', 'Lin_NDII_1984_2011_L5_30Cl', scale=30, region=search_area, maxPixels=1e13)"
   ]
  },
  {
   "cell_type": "code",
   "execution_count": null,
   "metadata": {},
   "outputs": [],
   "source": [
    "run_export(linear_fit_SAVI, 'epsg:4326', 'Lin_SAVI_1984_2011_L5_30Cl', scale=30, region=search_area, maxPixels=1e13)"
   ]
  },
  {
   "cell_type": "code",
   "execution_count": null,
   "metadata": {},
   "outputs": [],
   "source": [
    "run_export(linear_fit_NDMI, 'epsg:4326', 'Lin_NDMI_1984_2011_L5_30Cl', scale=30, region=search_area, maxPixels=1e13)"
   ]
  },
  {
   "cell_type": "code",
   "execution_count": null,
   "metadata": {},
   "outputs": [],
   "source": [
    "run_export(linear_fit_SWIR, 'epsg:4326', 'Lin_SWIR_1984_2011_L5_30Cl', scale=30, region=search_area, maxPixels=1e13)"
   ]
  },
  {
   "cell_type": "code",
   "execution_count": null,
   "metadata": {},
   "outputs": [],
   "source": [
    "run_export(linear_fit_MSAVI, 'epsg:4326', 'Lin_MSAVI_1984_2011_L5_30Cl', scale=30, region=search_area, maxPixels=1e13)"
   ]
  },
  {
   "cell_type": "code",
   "execution_count": null,
   "metadata": {},
   "outputs": [],
   "source": [
    "run_export(linear_fit_NDWI, 'epsg:4326', 'Lin_NDWI_1984_2011_L5_30Cl', scale=30, region=search_area, maxPixels=1e13)"
   ]
  },
  {
   "cell_type": "code",
   "execution_count": null,
   "metadata": {},
   "outputs": [],
   "source": [
    "run_export(linear_fit_MNDWI, 'epsg:4326', 'Lin_MNDWI_1984_2011_L5_30Cl', scale=30, region=search_area, maxPixels=1e13)"
   ]
  },
  {
   "cell_type": "code",
   "execution_count": null,
   "metadata": {},
   "outputs": [],
   "source": [
    "def dates_available(geCollection):\n",
    "    \"\"\"\n",
    "    Returns a list of the dates available for this collection.\n",
    "    geCollection: ee.ImageCollection object\n",
    "    Returns a list of date strings in YYYY-MM-DD format.\n",
    "    \"\"\"\n",
    "\n",
    "    timestamps =  geCollection.aggregate_array('system:time_start').getInfo()\n",
    "    dateformat_array = [timestamp_to_datetime(t) for t in timestamps]\n",
    "\n",
    "    return  dateformat_array"
   ]
  },
  {
   "cell_type": "code",
   "execution_count": null,
   "metadata": {},
   "outputs": [],
   "source": [
    "def timestamp_to_datetime(timestamp, time_format = '%Y-%m-%d'):\n",
    "    \"\"\"\n",
    "    Converts the UNIX epoch timestamp used by the Earth Engine database into a\n",
    "    format readable by humans (and also the format used by the Earth Engine\n",
    "    date filters)\n",
    "    timestamp: UNIX time epoch\n",
    "    time_format: optional datetime format\n",
    "    Returns a datetime string.\n",
    "    \"\"\"\n",
    "    return datetime.datetime.fromtimestamp(timestamp/1000).strftime(time_format)"
   ]
  },
  {
   "cell_type": "code",
   "execution_count": null,
   "metadata": {},
   "outputs": [],
   "source": [
    "def collection_length(image_collection):\n",
    "    return image_collection.size().getInfo()"
   ]
  },
  {
   "cell_type": "code",
   "execution_count": null,
   "metadata": {},
   "outputs": [],
   "source": [
    "# import datetime\n",
    "# # which dates are available in a collection.\n",
    "# dates_of_images = dates_available(SWIR_5_date)\n",
    "# print (\"Dates available:\",dates_of_images)"
   ]
  },
  {
   "cell_type": "code",
   "execution_count": null,
   "metadata": {},
   "outputs": [],
   "source": [
    "def available_bands(image_collection):\n",
    "    \"\"\"\n",
    "    Determines which bands are available in the image collection.\n",
    "    Since the images in a specific collection are not guarenteeded to all\n",
    "    share the same bands, this function looks at the bands in the first image, and\n",
    "    then calculates how many images in the collection include that band.\n",
    "    Since the band names are determined from a single image, the bands that\n",
    "    are returned may only be a subset of all the bands present in a collection.\n",
    "    However, this function is helpful to at least determine the naming scheme\n",
    "    used in a collecion, and whether it is safe to assume that certain bands\n",
    "    are included in every image in the collection.\n",
    "    image_collection: ee.ImageCollection object\n",
    "    Hits the server 1+number_of_bands times\n",
    "    Returns a dictionary in format\n",
    "    { \"band1\": { \"number_available\" : number of images that contain band1,\n",
    "                 \"percent_available\" : percent of all images in collection that contain band1 }\n",
    "                },\n",
    "      \"band2\": {...\n",
    "    }\n",
    "    \"\"\"\n",
    "    band_ids = [band_info['id']\n",
    "                for band_info\n",
    "                in image_collection.first().getInfo()['bands']]\n",
    "\n",
    "    collection_size = image_collection.size().getInfo()\n",
    "\n",
    "    availability_dict = {}\n",
    "    for b in band_ids:\n",
    "        imgs_available = image_collection.select(b).size().getInfo()\n",
    "        percent_available = imgs_available/collection_size*100\n",
    "        availability_dict[b] = {\n",
    "            \"number_available\": imgs_available,\n",
    "            \"percent_available\": percent_available\n",
    "        }\n",
    "        # print \"'\"+b+\"' available in \"+ str(imgs_available) + \" images. (\"+str(percent_available)+\"%)\"\n",
    "\n",
    "    return availability_dict"
   ]
  },
  {
   "cell_type": "code",
   "execution_count": null,
   "metadata": {},
   "outputs": [],
   "source": [
    "def date_slices(geImageCollection, bounds_geometry, descending=False):\n",
    "    \"\"\"\n",
    "    Returns a list of non-overlapping date ranges where every date range\n",
    "    covers the bounds_geometry.\n",
    "    This function is not very efficient takes a loong time.\n",
    "    \"\"\"\n",
    "\n",
    "    date_slices = []\n",
    "    date_list = list(set(dates_available(geImageCollection)))\n",
    "    date_list.sort()\n",
    "    print (len(date_list), \"unique dates found.\")\n",
    "    # convert these strings into Date objects\n",
    "    date_list = [ee.Date(d) for d in date_list]\n",
    "    start_date = date_list[0]\n",
    "\n",
    "    for i in range(len(date_list)):\n",
    "        # We're using an integer iterator because we want some lookahead later on\n",
    "        end_date = date_list[i].advance(1, 'day')\n",
    "        potential_slice_collection = geImageCollection.filter(ee.Filter.date(start_date, end_date))\n",
    "\n",
    "        # If this date slice covers the image 100%, add it to the date_slices list\n",
    "        # and increment the start date to the next available date\n",
    "        if collection_fills_bounds(potential_slice_collection, bounds_geometry):\n",
    "            date_slices.append((start_date, end_date))\n",
    "            try:\n",
    "                start_date = date_list[i+1]\n",
    "            except IndexError:\n",
    "                pass\n",
    "\n",
    "        #print (i)\n",
    "\n",
    "    return date_slices"
   ]
  }
 ],
 "metadata": {
  "kernelspec": {
   "display_name": "Python 3 (ipykernel)",
   "language": "python",
   "name": "python3"
  },
  "language_info": {
   "codemirror_mode": {
    "name": "ipython",
    "version": 3
   },
   "file_extension": ".py",
   "mimetype": "text/x-python",
   "name": "python",
   "nbconvert_exporter": "python",
   "pygments_lexer": "ipython3",
   "version": "3.8.12"
  },
  "toc": {
   "base_numbering": 1,
   "nav_menu": {},
   "number_sections": true,
   "sideBar": true,
   "skip_h1_title": false,
   "title_cell": "Table of Contents",
   "title_sidebar": "Contents",
   "toc_cell": false,
   "toc_position": {},
   "toc_section_display": true,
   "toc_window_display": false
  },
  "varInspector": {
   "cols": {
    "lenName": 16,
    "lenType": 16,
    "lenVar": 40
   },
   "kernels_config": {
    "python": {
     "delete_cmd_postfix": "",
     "delete_cmd_prefix": "del ",
     "library": "var_list.py",
     "varRefreshCmd": "print(var_dic_list())"
    },
    "r": {
     "delete_cmd_postfix": ") ",
     "delete_cmd_prefix": "rm(",
     "library": "var_list.r",
     "varRefreshCmd": "cat(var_dic_list()) "
    }
   },
   "types_to_exclude": [
    "module",
    "function",
    "builtin_function_or_method",
    "instance",
    "_Feature"
   ],
   "window_display": false
  }
 },
 "nbformat": 4,
 "nbformat_minor": 4
}
