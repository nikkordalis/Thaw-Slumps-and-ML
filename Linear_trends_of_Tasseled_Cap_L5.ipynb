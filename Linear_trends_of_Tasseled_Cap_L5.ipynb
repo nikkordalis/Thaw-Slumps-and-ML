{
 "cells": [
  {
   "cell_type": "code",
   "execution_count": 698,
   "metadata": {},
   "outputs": [
    {
     "data": {
      "text/html": [
       "<p>To authorize access needed by Earth Engine, open the following\n",
       "        URL in a web browser and follow the instructions:</p>\n",
       "        <p><a href=https://accounts.google.com/o/oauth2/auth?client_id=517222506229-vsmmajv00ul0bs7p89v5m89qs8eb9359.apps.googleusercontent.com&scope=https%3A%2F%2Fwww.googleapis.com%2Fauth%2Fearthengine+https%3A%2F%2Fwww.googleapis.com%2Fauth%2Fdevstorage.full_control&redirect_uri=urn%3Aietf%3Awg%3Aoauth%3A2.0%3Aoob&response_type=code&code_challenge=3nGylpI0obv9vtY4NQuOjgF-Wb-x0ZrI0S-VKnzEv7w&code_challenge_method=S256>https://accounts.google.com/o/oauth2/auth?client_id=517222506229-vsmmajv00ul0bs7p89v5m89qs8eb9359.apps.googleusercontent.com&scope=https%3A%2F%2Fwww.googleapis.com%2Fauth%2Fearthengine+https%3A%2F%2Fwww.googleapis.com%2Fauth%2Fdevstorage.full_control&redirect_uri=urn%3Aietf%3Awg%3Aoauth%3A2.0%3Aoob&response_type=code&code_challenge=3nGylpI0obv9vtY4NQuOjgF-Wb-x0ZrI0S-VKnzEv7w&code_challenge_method=S256</a></p>\n",
       "        <p>The authorization workflow will generate a code, which you\n",
       "        should paste in the box below</p>\n",
       "        "
      ],
      "text/plain": [
       "<IPython.core.display.HTML object>"
      ]
     },
     "metadata": {},
     "output_type": "display_data"
    },
    {
     "name": "stdout",
     "output_type": "stream",
     "text": [
      "Enter verification code: 4/1AY0e-g4RqYr9VFVNXm3EVQ2O8q3tEDEHjdYugslOtIOEogZTwVb9hX8iVTw\n",
      "\n",
      "Successfully saved authorization token.\n"
     ]
    }
   ],
   "source": [
    "import ee\n",
    "# Trigger the authentication flow.\n",
    "ee.Authenticate()\n",
    "\n",
    "# Initialize the library.\n",
    "ee.Initialize()"
   ]
  },
  {
   "cell_type": "code",
   "execution_count": 699,
   "metadata": {},
   "outputs": [],
   "source": [
    "from geetools import tools, utils\n",
    "import geedatasets\n",
    "import utils\n",
    "import pandas as pd\n",
    "import altair as alt\n",
    "import numpy as np\n",
    "import geopandas as gpd\n",
    "import folium\n",
    "from geopandas import GeoDataFrame\n",
    "from shapely.geometry import Point,Polygon\n",
    "#import numpy\n",
    "import numpy as np\n",
    "from functools import reduce\n",
    "import matplotlib.pyplot as plt"
   ]
  },
  {
   "cell_type": "code",
   "execution_count": 744,
   "metadata": {},
   "outputs": [],
   "source": [
    "collectionName_L5 = \"LANDSAT/LT05/C01/T1_TOA\" "
   ]
  },
  {
   "cell_type": "code",
   "execution_count": 700,
   "metadata": {},
   "outputs": [],
   "source": [
    "#Tasseled caps\n",
    "\n",
    "#Calculate the Tasseled cap indices according the following transformations :\n",
    "#Transformations:\n",
    "#landsat 5 Crist (1985)\n",
    "#Landsat 7 Huang et al. (2002)\n",
    "#landsat 8 Baig et al. (2014)\n",
    "\n",
    "#Tasseled cap brightness\n",
    "def tasseled_b_L5(image):\n",
    "    return ee.Image(0).expression(\n",
    "           '((B1 * c1) + (B2*c2) + (B3*c3) + (B4*c4) + (B5*c5) + (B7*c7))',\n",
    "         {\n",
    "             'B1':image.select('B1'),\n",
    "             'B2':image.select('B2'),\n",
    "             'B3':image.select('B3'),\n",
    "             'B4':image.select('B4'),\n",
    "             'B5':image.select('B5'),\n",
    "             'B7':image.select('B7'),\n",
    "             'c1': ee.Number(0.2043),\n",
    "             'c2': ee.Number(0.4158),\n",
    "             'c3': ee.Number(0.5524),\n",
    "             'c4': ee.Number(0.5741),\n",
    "             'c5': ee.Number(0.3124),\n",
    "             'c7': ee.Number(0.2303)\n",
    "        }).set('system:time_start', image.get('system:time_start')).rename('brightness')\n",
    "\n",
    "\n",
    "#-----------------------------------------------------------------------------------------------------------------#\n",
    "\n",
    "#Tasseled cap greenness\n",
    "def tasseled_g_L5(image):\n",
    "    return ee.Image(0).expression(\n",
    "           '((B1 * c1) + (B2*c2) + (B3*c3) + (B4*c4) + (B5*c5) + (B7*c7))',\n",
    "         {\n",
    "             'B1':image.select('B1'),\n",
    "             'B2':image.select('B2'),\n",
    "             'B3':image.select('B3'),\n",
    "             'B4':image.select('B4'),\n",
    "             'B5':image.select('B5'),\n",
    "             'B7':image.select('B7'),\n",
    "             'c1': ee.Number(-0.16033),\n",
    "             'c2': ee.Number(-0.2819),\n",
    "             'c3': ee.Number(-0.4934),\n",
    "             'c4': ee.Number(0.7940),\n",
    "             'c5': ee.Number(-0.0002),\n",
    "             'c7': ee.Number(-0.1446)\n",
    "        }).set('system:time_start', image.get('system:time_start')).rename('greenness')\n",
    "\n",
    "\n",
    "#----------------------------------------------------------------------------------------------------------------#\n",
    "\n",
    "#Tasseled cap wetness    \n",
    "def tasseled_w_L5(image):\n",
    "    return ee.Image(0).expression(\n",
    "           '((B1 * c1) + (B2*c2) + (B3*c3) + (B4*c4) + (B5*c5) + (B7*c7))',\n",
    "         {\n",
    "             'B1':image.select('B1'),\n",
    "             'B2':image.select('B2'),\n",
    "             'B3':image.select('B3'),\n",
    "             'B4':image.select('B4'),\n",
    "             'B5':image.select('B5'),\n",
    "             'B7':image.select('B7'),\n",
    "             'c1': ee.Number(0.0315),\n",
    "             'c2': ee.Number(0.2021),\n",
    "             'c3': ee.Number(0.3102),\n",
    "             'c4': ee.Number(0.1594),\n",
    "             'c5': ee.Number(-0.6806),\n",
    "             'c7': ee.Number(-0.6109)\n",
    "        }).set('system:time_start', image.get('system:time_start')).rename('wetness')\n",
    "        \n",
    "\n",
    "#----------------------------------------------------------------------------------------------------------------#\n",
    "#Mask cloud and Shadow for Landsat images L5 TOA\n",
    "\n",
    "def cloudMaskL457(image):\n",
    "    qa = image.select('BQA')\n",
    "    #If the cloud bit (4) is set and the cloud confidence (6) is high\n",
    "    #or the cloud shadow bit is set (8), then it's a bad pixel.\n",
    "    cloud = qa.bitwiseAnd(1 << 4).And(qa.bitwiseAnd(1 << 6)).Or(qa.bitwiseAnd(1 << 8))\n",
    "    #Remove edge pixels that don't occur in all bands\n",
    "    mask2 = image.mask().reduce(ee.Reducer.min())\n",
    "    return image.updateMask(cloud.Not()).updateMask(mask2)\n",
    "\n",
    "\n",
    "def NDWI_mask(image):\n",
    "    ndwi_mask = image.normalizedDifference(['B2', 'B4']).rename('NDWI').set('system:time_start', image.get('system:time_start'))\n",
    "    mask2 = image.mask().reduce(ee.Reducer.min())\n",
    "    return image.updateMask(ndwi_mask.lte(0.3).Not()).updateMask(mask2)\n",
    "\n",
    "\n",
    "def NDVI_mask(image):\n",
    "    ndvi_mask = image.normalizedDifference(['B4', 'B3']).rename('NDVI').set('system:time_start', image.get('system:time_start'))\n",
    "    mask2 = image.mask().reduce(ee.Reducer.min())\n",
    "    return image.updateMask(ndvi_mask.lt(0).Not()).updateMask(mask2)\n",
    "\n",
    "# def snowMaskL457(image):\n",
    "#     qa = image.select('BQA')\n",
    "#     #If the cloud bit (5) is set and the cloud confidence (7) is high\n",
    "#     #or the cloud shadow bit is set (3), then it's a bad pixel.\n",
    "#     cloud = qa.bitwiseAnd(1 << 9).And(qa.bitwiseAnd(1 << 10))\n",
    "#     #Remove edge pixels that don't occur in all bands\n",
    "#     mask2 = image.mask().reduce(ee.Reducer.min())\n",
    "#     return image.updateMask(cloud.Not()).updateMask(mask2)\n",
    "\n",
    "\n",
    "\n",
    "# def mask_water2(image):\n",
    "#     #Get the pixel QA band.\n",
    "#     qa = image.select('BQA')\n",
    "#     mask = qa.bitwiseAnd(10).neq(0)\n",
    "#     mask2 = image.mask().reduce(ee.Reducer.min())\n",
    "#     return image.updateMask(mask).updateMask(mask2)\n"
   ]
  },
  {
   "cell_type": "markdown",
   "metadata": {},
   "source": [
    "**Bitmask for BQA**\n",
    "<br>Bit 0: Designated Fill\n",
    "<br>0: No\n",
    "<br>1: Yes\n",
    "<br>Bit 1: Designated Pixel\n",
    "<br>0: No\n",
    "<br>1: Yes\n",
    "<br>Bits 2-3: Radiometric Saturation\n",
    "<br>0: No bands contain saturation\n",
    "<br>1: 1-2 bands contain saturation\n",
    "<br>2: 3-4 bands contain saturation\n",
    "<br>3: 5 or more bands contain saturation\n",
    "<br>Bit 4: Cloud\n",
    "<br>0: No\n",
    "<br>1: Yes\n",
    "<br>Bits 5-6: Cloud Confidence\n",
    "<br>0: Not Determined / Condition does not exist.\n",
    "<br>1: Low, (0-33 percent confidence)\n",
    "<br>2: Medium, (34-66 percent confidence)\n",
    "<br>3: High, (67-100 percent confidence)\n",
    "<br>Bits 7-8: Cloud Shadow Confidence\n",
    "<br>0: Not Determined / Condition does not exist.\n",
    "<br>1: Low, (0-33 percent confidence)\n",
    "<br>2: Medium, (34-66 percent confidence)\n",
    "<br>3: High, (67-100 percent confidence)\n",
    "<br>Bits 9-10: Snow / Ice Confidence\n",
    "<br>0: Not Determined / Condition does not exist.\n",
    "<br>1: Low, (0-33 percent confidence)\n",
    "<br>2: Medium, (34-66 percent confidence)\n",
    "<br>3: High, (67-100 percent confidence)"
   ]
  },
  {
   "cell_type": "code",
   "execution_count": 746,
   "metadata": {},
   "outputs": [],
   "source": [
    "def run_export(image, crs, filename, scale, region, maxPixels=1e13):\n",
    "    '''\n",
    "    Runs an export function on GEE servers\n",
    "    '''\n",
    "    task_config = {'fileNamePrefix': filename,'crs': crs,'scale': scale,'maxPixels': maxPixels,'fileFormat': 'GeoTIFF','region': region,}\n",
    "    task = ee.batch.Export.image.toDrive(image, filename, **task_config)\n",
    "    task.start()"
   ]
  },
  {
   "cell_type": "code",
   "execution_count": 747,
   "metadata": {},
   "outputs": [],
   "source": [
    "def gee_geometry_from_shapely(geom, crs='epsg:4326'):\n",
    "    \"\"\" \n",
    "    Simple helper function to take a shapely geometry and a coordinate system and convert them to a \n",
    "    Google Earth Engine Geometry.\n",
    "    \"\"\"\n",
    "    from shapely.geometry import mapping\n",
    "    ty = geom.type\n",
    "    if ty == 'Polygon':\n",
    "        return ee.Geometry.Polygon(ee.List(mapping(geom)['coordinates']), proj=crs, evenOdd=False)\n",
    "    elif ty == 'Point':\n",
    "        return ee.Geometry.Point(ee.List(mapping(geom)['coordinates']), proj=crs, evenOdd=False)    \n",
    "    elif ty == 'MultiPolygon':\n",
    "        return ee.Geometry.MultiPolygon(ee.List(mapping(geom)['coordinates']), proj=crs, evenOdd=False)"
   ]
  },
  {
   "cell_type": "markdown",
   "metadata": {},
   "source": [
    "**system:time_start**\n",
    "<br>The Earth Engine time stamp in milliseconds since the UNIX epoch. See this link (https://en.wikipedia.org/wiki/Unix_time) for more information. The time stamp is set to the nominal image acquisition time for single scenes. It is set to the nominal composite start period for temporal composites."
   ]
  },
  {
   "cell_type": "code",
   "execution_count": 748,
   "metadata": {},
   "outputs": [],
   "source": [
    "#Returns the difference between two Dates in the specified units; \n",
    "#the result is floating-point and based on the average length of the unit.\n",
    "#ee.Date.difference(start, unit)\n",
    "# Arguments:\n",
    "# this:date (Date)\n",
    "# start (Date)\n",
    "# unit (String):\n",
    "# One of 'year', 'month' 'week', 'day', 'hour', 'minute', or 'second'.\n",
    "#Returns: Float\n",
    "    \n",
    "    \n",
    "def addDate(image):\n",
    "        date = ee.Date(image.get('system:time_start')) #\n",
    "        years = date.difference(ee.Date('1984-01-01'), 'year');\n",
    "        return image.addBands(ee.Image.constant(years)).addBands(ee.Image(years).rename('t')).float()"
   ]
  },
  {
   "cell_type": "code",
   "execution_count": 749,
   "metadata": {},
   "outputs": [],
   "source": [
    "#Load Image Collection\n",
    "collection_L5 = ee.ImageCollection(collectionName_L5)"
   ]
  },
  {
   "cell_type": "code",
   "execution_count": 756,
   "metadata": {},
   "outputs": [],
   "source": [
    "# Define the area of interest\n",
    "\n",
    "from shapely.geometry import Polygon\n",
    "    \n",
    "geom = Polygon([[-122.7609625539781,71.0248652750595],\n",
    "                [-121.7502203664781,71.35078807875405],\n",
    "                [-121.0031500539781,71.37185539607945],\n",
    "                [-120.3219977102281,71.53956940315283],\n",
    "                [-120.3000250539781,71.98650637573677],\n",
    "                [-119.8825445852281,72.18251814893772],\n",
    "                [-119.2233648977281,72.33650688912165],\n",
    "                [-119.0695563039781,72.62751123507817],\n",
    "                [-118.3664313039781,72.77777272011134],\n",
    "                [-117.4216070852281,73.02327346292203],\n",
    "                [-116.7624273977281,73.12562314751086],\n",
    "                [-115.6637945852281,73.35372393902468],\n",
    "                [-115.1803961477281,73.49164105978065],\n",
    "                [-117.2238531789781,74.21859485977957],\n",
    "                [-118.1247320852281,74.30204109643341],\n",
    "                [-118.8498297414781,74.23054216680322],\n",
    "                [-119.5749273977281,74.24844660046523],\n",
    "                [-121.2448492727281,74.56735766699148],\n",
    "                [-121.7941656789781,74.57904742715868],\n",
    "                [-122.3654547414781,74.4970373362395],\n",
    "                [-124.8483648977281,74.36730409994937],\n",
    "                [-124.6066656789781,74.1226983323726],\n",
    "                [-124.1672125539781,73.81934897680587],\n",
    "                [-124.0793219289781,73.57882746350154],\n",
    "                [-124.4528570852281,73.39772768318414],\n",
    "                [-124.8263922414781,73.21468747419634],\n",
    "                [-124.9802008352281,72.96543724049849], \n",
    "                [-125.3097906789781,72.81676365632822],\n",
    "                [-125.1999273977281,72.620949382208],\n",
    "                [-125.9469977102281,72.08139173142834],\n",
    "                [-125.8371344289781,71.9116129732407],\n",
    "                [-125.3976813039781,71.93206824488587],\n",
    "                [-124.4308844289781,71.71961482925289],\n",
    "                [-123.9914313039781,71.56737970042492],\n",
    "                [-123.7057867727281,71.39289975804704],\n",
    "                [-123.4421148977281,71.06055580588858],\n",
    "                [-122.7609625539781,71.0248652750595] ])\n",
    "search_area = gee_geometry_from_shapely(geom)"
   ]
  },
  {
   "cell_type": "code",
   "execution_count": 757,
   "metadata": {},
   "outputs": [],
   "source": [
    "# Filter the collections\n",
    "collection_5 = ee.ImageCollection(collection_L5).filter(ee.Filter.date('1984-01-01', '2014-01-01')\n",
    "     .calendarRange(6,8, 'month'))\\\n",
    "    .filterBounds(search_area)\\\n",
    "    .filter(ee.Filter.lt('CLOUD_COVER', 30))\\\n",
    "    .map(maskCL)\\\n",
    "    .map(NDVI_mask)\\\n",
    "    .sort('system:time_start')"
   ]
  },
  {
   "cell_type": "code",
   "execution_count": 758,
   "metadata": {},
   "outputs": [],
   "source": [
    "#Tasseled cap\n",
    "#Call the function that calculate TCB, TCG and TCW for Landsat 5 and add a date band\n",
    "\n",
    "#TCB\n",
    "tcb_5=collection_5.map(tasseled_b_L5)\n",
    "tcb_5_date=tcb_5.map(addDate);\n",
    "\n",
    "#TCG\n",
    "tcg_5=collection_5.map(tasseled_g_L5)\n",
    "tcg_5_date=tcg_5.map(addDate);\n",
    "\n",
    "\n",
    "#TCW\n",
    "tcw_5=collection_5.map(tasseled_w_L5)\n",
    "tcw_5_date=tcw_5.map(addDate);\n"
   ]
  },
  {
   "cell_type": "code",
   "execution_count": 1,
   "metadata": {},
   "outputs": [],
   "source": [
    "#tcg_5_date.getInfo()"
   ]
  },
  {
   "cell_type": "markdown",
   "metadata": {},
   "source": [
    "**ee.Reducer.linearFit()**\n",
    "<br>Computes the least squares estimate of a linear function of one variable with a constant term.\n",
    "<br>The data should be set up as a two-band input image, where the first band is the independent variable (time) and the <br>second band is the dependent variable. \n",
    "<br>https://developers.google.com/earth-engine/guides/reducers_regression"
   ]
  },
  {
   "cell_type": "code",
   "execution_count": 759,
   "metadata": {},
   "outputs": [],
   "source": [
    "# linear fit TCG,TCB,TCW\n",
    "linear_fit_TCG = tcg_5_date.select(['t', 'greenness']).reduce(ee.Reducer.linearFit()).select(['scale', 'offset'])\n",
    "linear_fit_TCB = tcb_5_date.select(['t', 'brightness']).reduce(ee.Reducer.linearFit()).select(['scale', 'offset'])\n",
    "linear_fit_TCW = tcw_5_date.select(['t', 'wetness']).reduce(ee.Reducer.linearFit()).select(['scale', 'offset'])"
   ]
  },
  {
   "cell_type": "code",
   "execution_count": 760,
   "metadata": {},
   "outputs": [],
   "source": [
    "#Export the images to google drive"
   ]
  },
  {
   "cell_type": "code",
   "execution_count": 761,
   "metadata": {},
   "outputs": [],
   "source": [
    "run_export(linear_fit_TCG, 'epsg:4326', 'Lin_TCG_1984_2011_Summer_snow', scale=30, region=search_area, maxPixels=1e13)"
   ]
  },
  {
   "cell_type": "code",
   "execution_count": 762,
   "metadata": {},
   "outputs": [],
   "source": [
    "run_export(linear_fit_TCB, 'epsg:4326', 'Lin_TCB_1984_2011_Summer_snow', scale=30, region=search_area, maxPixels=1e13)"
   ]
  },
  {
   "cell_type": "code",
   "execution_count": 763,
   "metadata": {},
   "outputs": [],
   "source": [
    "run_export(linear_fit_TCW, 'epsg:4326', 'Lin_TCW_1984_2011_Summer_snow', scale=30, region=search_area, maxPixels=1e13)"
   ]
  },
  {
   "cell_type": "code",
   "execution_count": null,
   "metadata": {},
   "outputs": [],
   "source": [
    "# print('linear_fit_TCW estimates:', linear_fit_TCW);\n",
    "# print('y-intercept:', linear_fit_TCW.get('offset'));\n",
    "# print('Slope:', linear_fit_TCW.get('scale'));"
   ]
  },
  {
   "cell_type": "code",
   "execution_count": 2,
   "metadata": {},
   "outputs": [],
   "source": [
    "#tcw_5_date.getInfo()"
   ]
  },
  {
   "cell_type": "code",
   "execution_count": null,
   "metadata": {},
   "outputs": [],
   "source": []
  }
 ],
 "metadata": {
  "kernelspec": {
   "display_name": "Python 3 (ipykernel)",
   "language": "python",
   "name": "python3"
  },
  "language_info": {
   "codemirror_mode": {
    "name": "ipython",
    "version": 3
   },
   "file_extension": ".py",
   "mimetype": "text/x-python",
   "name": "python",
   "nbconvert_exporter": "python",
   "pygments_lexer": "ipython3",
   "version": "3.8.12"
  },
  "toc": {
   "base_numbering": 1,
   "nav_menu": {},
   "number_sections": true,
   "sideBar": true,
   "skip_h1_title": false,
   "title_cell": "Table of Contents",
   "title_sidebar": "Contents",
   "toc_cell": false,
   "toc_position": {},
   "toc_section_display": true,
   "toc_window_display": false
  },
  "varInspector": {
   "cols": {
    "lenName": 16,
    "lenType": 16,
    "lenVar": 40
   },
   "kernels_config": {
    "python": {
     "delete_cmd_postfix": "",
     "delete_cmd_prefix": "del ",
     "library": "var_list.py",
     "varRefreshCmd": "print(var_dic_list())"
    },
    "r": {
     "delete_cmd_postfix": ") ",
     "delete_cmd_prefix": "rm(",
     "library": "var_list.r",
     "varRefreshCmd": "cat(var_dic_list()) "
    }
   },
   "types_to_exclude": [
    "module",
    "function",
    "builtin_function_or_method",
    "instance",
    "_Feature"
   ],
   "window_display": false
  }
 },
 "nbformat": 4,
 "nbformat_minor": 4
}
