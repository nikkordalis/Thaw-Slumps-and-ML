{
 "cells": [
  {
   "cell_type": "markdown",
   "metadata": {},
   "source": [
    "## Pixel  Classification - Detection of thaw slumps in Banks Island."
   ]
  },
  {
   "cell_type": "markdown",
   "metadata": {},
   "source": [
    "We use labels from the multi-band image, which contains the **linear trends** of several environmental indices + SWIR band, and the slope(DEM)+topofrafhic parametres, to train the model(s). The multi-band image covers a part of the Banks Island at the East. Τhe models are trained on the basis of linear trends originating from this small area in the east and the predictions are applied to the whole island."
   ]
  },
  {
   "cell_type": "code",
   "execution_count": 3,
   "metadata": {},
   "outputs": [
    {
     "name": "stderr",
     "output_type": "stream",
     "text": [
      "2022-08-24 22:02:41.067412: W tensorflow/stream_executor/platform/default/dso_loader.cc:64] Could not load dynamic library 'libcudart.so.11.0'; dlerror: libcudart.so.11.0: cannot open shared object file: No such file or directory\n",
      "2022-08-24 22:02:41.067475: I tensorflow/stream_executor/cuda/cudart_stub.cc:29] Ignore above cudart dlerror if you do not have a GPU set up on your machine.\n"
     ]
    }
   ],
   "source": [
    "# import some modules\n",
    "import numpy as np\n",
    "import pandas as pd\n",
    "import rasterio\n",
    "from rasterio.mask import mask\n",
    "import geopandas as gpd\n",
    "from shapely.geometry import mapping\n",
    "import matplotlib.pyplot as plt\n",
    "import matplotlib.image as mpimg\n",
    "import matplotlib as mpl\n",
    "import os\n",
    "# utility\n",
    "from sklearn.preprocessing import StandardScaler, QuantileTransformer, PolynomialFeatures\n",
    "from sklearn.pipeline import make_pipeline\n",
    "from sklearn.model_selection import cross_val_score, cross_val_predict,GridSearchCV, StratifiedShuffleSplit, StratifiedKFold\n",
    "from sklearn.model_selection import train_test_split\n",
    "# models\n",
    "from sklearn.ensemble import RandomForestClassifier\n",
    "from sklearn.neighbors import KNeighborsClassifier\n",
    "from sklearn.svm import SVC\n",
    "from sklearn import svm\n",
    "from sklearn.linear_model import Perceptron\n",
    "from sklearn.neural_network import MLPClassifier\n",
    "import tensorflow as tf\n",
    "import warnings\n",
    "warnings.filterwarnings('ignore');\n",
    "%matplotlib inline\n",
    "#plt.rcParams[\"figure.figsize\"] = (12, 5)\n",
    "#mpl.rcParams['figure.dpi']= 300\n",
    "import rasterio\n",
    "from sklearn.metrics import plot_confusion_matrix"
   ]
  },
  {
   "cell_type": "markdown",
   "metadata": {},
   "source": [
    "# Prepare the dataset"
   ]
  },
  {
   "cell_type": "code",
   "execution_count": 4,
   "metadata": {},
   "outputs": [],
   "source": [
    "# Variables for data filepaths\n",
    "\n",
    "# the multi-band image which contains linear trends (12 bands) and topographic characteristics (8 bands)\n",
    "multi='East_multi_20b_10m.tif' \n",
    "# the labels (rectangulars)\n",
    "label_fp = '15Χ15m_end_2004_start_2009_4326B_3.shp' \n",
    "# variable with band list\n",
    "band_list = ['TCB','TCG','TCW','NDWI','MNDWI','EVI','NDVI','SAVI','MSAVI','MSI','NDMI','SWIR','Slope','Profile curvature','Tangential curvature',\"dx E-W slope\", \"dy N-S slope\",\"dxx\",\"dyy\",\"dxy\"]"
   ]
  },
  {
   "cell_type": "code",
   "execution_count": 5,
   "metadata": {},
   "outputs": [
    {
     "data": {
      "text/plain": [
       "20"
      ]
     },
     "execution_count": 5,
     "metadata": {},
     "output_type": "execute_result"
    }
   ],
   "source": [
    "# load the Landsat scene and print the metadata\n",
    "full_dataset = rasterio.open(multi) #\n",
    "# assign the number of bands to a variable\n",
    "n_bands = full_dataset.count\n",
    "n_bands"
   ]
  },
  {
   "cell_type": "markdown",
   "metadata": {},
   "source": [
    "We will apply/test the model and make the predictions on the following 3 images:\n",
    "<br>full_dataset2, full_dataset3, full_dataset4 \n",
    "<br>These 3 images correspond to the south, north and central part of the Banks Island.\n",
    "<br>For the creation of the model we use the following 12 bands out of 20: <br>'TCB','TCG','TCW','NDWI','MNDWI','EVI','NDVI','SAVI','MSAVI','MSI','NDMI','SWIR'"
   ]
  },
  {
   "cell_type": "code",
   "execution_count": null,
   "metadata": {},
   "outputs": [],
   "source": [
    "#Predicted image \n",
    "#The island splitted into 3 zones (3 images)\n",
    "# Read the image for the southern part of the island\n",
    "full_dataset2 = rasterio.open('multi_32B_South.tif') #\n",
    "# assign the number of bands to a variable\n",
    "n_bands2 = full_dataset2.count\n",
    "#n_bands2\n",
    "\n",
    "#Read the image for the central part of the Island\n",
    "full_dataset3 = rasterio.open('Multi_bands_central.tif') #\n",
    "# assign the number of bands to a variable\n",
    "n_bands3 = full_dataset3.count\n",
    "#n_bands3\n",
    "\n",
    "# Read the image for the northern part of the island\n",
    "full_dataset4 = rasterio.open('Multi_bands_north.tif') #\n",
    "# assign the number of bands to a variable\n",
    "n_bands4 = full_dataset4.count\n",
    "#n_bands4"
   ]
  },
  {
   "cell_type": "code",
   "execution_count": 9,
   "metadata": {},
   "outputs": [
    {
     "name": "stdout",
     "output_type": "stream",
     "text": [
      "{'driver': 'GTiff', 'dtype': 'float32', 'nodata': nan, 'width': 21852, 'height': 4205, 'count': 31, 'crs': CRS.from_epsg(4326), 'transform': Affine(0.0002694945852553547, 0.0, -126.010835142,\n",
      "       0.0, -0.0002694942756242596, 72.20892)}\n"
     ]
    }
   ],
   "source": [
    "print(full_dataset2.meta)"
   ]
  },
  {
   "cell_type": "markdown",
   "metadata": {},
   "source": [
    "**Image**"
   ]
  },
  {
   "cell_type": "code",
   "execution_count": 10,
   "metadata": {},
   "outputs": [],
   "source": [
    "# show the raster\n",
    "img_all2= full_dataset2.read()\n",
    "print(img_all2.shape) # (20,4205,21852)"
   ]
  },
  {
   "cell_type": "code",
   "execution_count": null,
   "metadata": {},
   "outputs": [],
   "source": [
    "# show the raster\n",
    "img_all3= full_dataset3.read()\n",
    "print(img_all3.shape) #(20, 4024, 34973)"
   ]
  },
  {
   "cell_type": "code",
   "execution_count": null,
   "metadata": {},
   "outputs": [],
   "source": [
    "# show the raster\n",
    "img_all4= full_dataset4.read()\n",
    "print(img_all4.shape) # (20, 4756, 35216 )"
   ]
  },
  {
   "cell_type": "code",
   "execution_count": 14,
   "metadata": {},
   "outputs": [
    {
     "name": "stdout",
     "output_type": "stream",
     "text": [
      "\n",
      "There are 197 labels for the image\n",
      "the labels are ['no' 'yes']\n",
      "The projection is: epsg:4326\n"
     ]
    }
   ],
   "source": [
    "#load the shapefile\n",
    "shapefile = gpd.read_file(label_fp)\n",
    "# print the  projections and the labels\n",
    "print('\\nThere are {} labels for the image'.format(len(shapefile)))\n",
    "print('the labels are {}'.format(np.unique(shapefile.classname)))\n",
    "print('The projection is: {}'.format(shapefile.crs))"
   ]
  },
  {
   "cell_type": "code",
   "execution_count": 15,
   "metadata": {},
   "outputs": [
    {
     "name": "stdout",
     "output_type": "stream",
     "text": [
      "   Longitude  Latitude  Number Type  First year  End date classname  \\\n",
      "0 -120.77874  71.98997  1891.0    S      1999.0    2100.0       yes   \n",
      "1 -120.55518  71.77429   300.0    R      1999.0    2100.0       yes   \n",
      "2 -120.44616  71.98908  1959.0    R      1999.0    2100.0       yes   \n",
      "3 -120.98573  71.68062  1412.0    R      2006.0    2100.0       yes   \n",
      "4 -120.86970  71.99448  1878.0    L      1999.0    2100.0       yes   \n",
      "\n",
      "                                            geometry  \n",
      "0  POLYGON ((-120.77829 71.99010, -120.77832 71.9...  \n",
      "1  POLYGON ((-120.55473 71.77442, -120.55477 71.7...  \n",
      "2  POLYGON ((-120.44694 71.98958, -120.44698 71.9...  \n",
      "3  POLYGON ((-120.98518 71.68104, -120.98521 71.6...  \n",
      "4  POLYGON ((-120.86967 71.99480, -120.86970 71.9...  \n",
      "\n",
      "there are 197 labels\n",
      "\n",
      "the labels are ['no' 'yes']\n",
      "\n",
      "projection is: epsg:4326\n"
     ]
    }
   ],
   "source": [
    "# now load the shapefile using geopandas and check it's projection\n",
    "# shapefile = gpd.read_file(label_fp)\n",
    "\n",
    "# print the head\n",
    "print(shapefile.head())\n",
    "print('\\nthere are {} labels'.format(len(shapefile)))\n",
    "print('\\nthe labels are {}'.format(np.unique(shapefile.classname)))\n",
    "# shapefile = shapefile.to_crs({'init': 'epsg:4326'})\n",
    "print('\\nprojection is: {}'.format(shapefile.crs))"
   ]
  },
  {
   "cell_type": "code",
   "execution_count": 16,
   "metadata": {},
   "outputs": [
    {
     "data": {
      "image/svg+xml": [
       "<svg xmlns=\"http://www.w3.org/2000/svg\" xmlns:xlink=\"http://www.w3.org/1999/xlink\" width=\"100.0\" height=\"100.0\" viewBox=\"-120.41360570798845 71.83244843821115 0.00194004727963204 0.0007041568778873852\" preserveAspectRatio=\"xMinYMin meet\"><g transform=\"matrix(1,0,0,-1,0,143.66560103330016)\"><path fill-rule=\"evenodd\" fill=\"#66cc99\" stroke=\"#555555\" stroke-width=\"3.8800945592640804e-05\" opacity=\"0.6\" d=\"M -120.41345992629068,71.83308074148609 L -120.41173751431177,71.83305766824425 L -120.4118114915023,71.83252029181409 L -120.4135338543855,71.83254336432715 L -120.41345992629068,71.83308074148609 z\" /></g></svg>"
      ],
      "text/plain": [
       "<shapely.geometry.polygon.Polygon at 0x7fd832038710>"
      ]
     },
     "execution_count": 16,
     "metadata": {},
     "output_type": "execute_result"
    }
   ],
   "source": [
    "# this generates a list of shapely geometries\n",
    "geoms = shapefile.geometry.values \n",
    "geometry = geoms[79] \n",
    "geometry"
   ]
  },
  {
   "cell_type": "code",
   "execution_count": 17,
   "metadata": {},
   "outputs": [],
   "source": [
    "# transform to GeoJSON format using rasterio 'mapping' function\n",
    "feature = [mapping(geometry)]"
   ]
  },
  {
   "cell_type": "code",
   "execution_count": 18,
   "metadata": {},
   "outputs": [],
   "source": [
    "# pixels for training\n",
    "X = np.array([], dtype=np.float32).reshape(n_bands, -1)\n",
    "# labels for training\n",
    "y = np.array([], dtype=np.string_)"
   ]
  },
  {
   "cell_type": "code",
   "execution_count": 23,
   "metadata": {},
   "outputs": [],
   "source": [
    "# looping over geometries\n",
    "#we \"take\" the values from the pixels using the shapefile(labels)\n",
    "#we use the image \"full_dataset\" (smaller image from the East part of the Island)\n",
    "\n",
    "for index, geom in enumerate(geoms):\n",
    "    # get the current polygon\n",
    "    feature = [mapping(geom)]\n",
    "    # get the classname for the polygon\n",
    "    classname = shapefile['classname'][index]\n",
    "    # the mask function returns an array of the raster pixels within this polygon and set nodata =10000\n",
    "    out_image = mask(full_dataset, feature, nodata=10000, crop=True)[0]\n",
    "#     # eliminate all the pixels with 0 values for all bands - AKA not actually part of the shapefile\n",
    "    out_image = out_image[:, ~np.all(out_image == 10000 , axis=0)]\n",
    "#     # append the labels to the y array\n",
    "    y = np.append(y, [classname] * out_image.shape[1]) \n",
    "#     # stack the pixels onto the pixel array\n",
    "    X = np.hstack((X, out_image))\n"
   ]
  },
  {
   "cell_type": "code",
   "execution_count": 24,
   "metadata": {},
   "outputs": [
    {
     "data": {
      "text/plain": [
       "(20, 4015)"
      ]
     },
     "execution_count": 24,
     "metadata": {},
     "output_type": "execute_result"
    }
   ],
   "source": [
    "#X #pixels for training\n",
    "X.shape"
   ]
  },
  {
   "cell_type": "code",
   "execution_count": 25,
   "metadata": {},
   "outputs": [
    {
     "data": {
      "text/plain": [
       "(4015,)"
      ]
     },
     "execution_count": 25,
     "metadata": {},
     "output_type": "execute_result"
    }
   ],
   "source": [
    "#y #labels for training\n",
    "y.shape"
   ]
  },
  {
   "cell_type": "code",
   "execution_count": 26,
   "metadata": {},
   "outputs": [
    {
     "name": "stdout",
     "output_type": "stream",
     "text": [
      "The training data include 2 classes: ['no' 'yes']\n",
      "Our X matrix is sized: (20, 4015)\n",
      "Our y array is sized: (4015,)\n",
      "\n"
     ]
    }
   ],
   "source": [
    "labels = np.unique(shapefile[\"classname\"])\n",
    "print('The training data include {} classes: {}'.format(labels.size, labels))\n",
    "# We will need a \"X\" matrix containing our features, and a \"y\" array containing our labels\n",
    "print('Our X matrix is sized: {}'.format(X.shape))\n",
    "print('Our y array is sized: {}\\n'.format(y.shape))"
   ]
  },
  {
   "cell_type": "code",
   "execution_count": 27,
   "metadata": {},
   "outputs": [
    {
     "name": "stdout",
     "output_type": "stream",
     "text": [
      "Masked area shape is: (20, 5, 11)\n",
      "\n",
      "So this clip (with class no) is a 5 by 11 pixel stack of the 20 groub bands.\n",
      "\n",
      "And the first band looks like so:\n"
     ]
    },
    {
     "data": {
      "text/plain": [
       "Text(0.5, 1.0, 'TCB')"
      ]
     },
     "execution_count": 27,
     "metadata": {},
     "output_type": "execute_result"
    },
    {
     "data": {
      "image/png": "[encoded data removed]",
      "text/plain": [
       "<Figure size 432x288 with 2 Axes>"
      ]
     },
     "metadata": {
      "needs_background": "light"
     },
     "output_type": "display_data"
    }
   ],
   "source": [
    "# transform to GeoJSON format using rasterio 'mapping' function\n",
    "feature = [mapping(geometry)]\n",
    "\n",
    "# and finaly pull out the the pixel values with mask\n",
    "out_image = mask(full_dataset, feature, crop=True, filled=True)[0]\n",
    "print('Masked area shape is: {}'.format(out_image.shape))\n",
    "\n",
    "print('\\nSo this clip (with class {}) is a {} by {} pixel stack of the {} groub bands.'\n",
    "      .format(classname, out_image.shape[1], out_image.shape[2], out_image.shape[0]))\n",
    "\n",
    "print('\\nAnd the first band looks like so:')\n",
    "\n",
    "fig, ax = plt.subplots(1,1)\n",
    "im = ax.imshow(out_image[0], cmap='gray')\n",
    "fig.colorbar(im, ax=ax, label='value')\n",
    "ax.set_title('{}'.format(band_list[0]))"
   ]
  },
  {
   "cell_type": "code",
   "execution_count": 28,
   "metadata": {},
   "outputs": [
    {
     "name": "stdout",
     "output_type": "stream",
     "text": [
      "(20, 4015) (4015, 20)\n"
     ]
    }
   ],
   "source": [
    "# first reshape the X array for passing to classifiers\n",
    "X_reshape = X.T      # \n",
    "\n",
    "print(X.shape, X_reshape.shape)"
   ]
  },
  {
   "cell_type": "code",
   "execution_count": 29,
   "metadata": {},
   "outputs": [],
   "source": [
    "# now save out the pixel values\n",
    "with open('multi_pixel_bands.npy', 'wb') as f:\n",
    "    np.save(f, X_reshape)\n",
    "\n",
    "# and save the associated class of each pixel\n",
    "with open('multi_pixel_band_classes.npy', 'wb') as f:\n",
    "    np.save(f, y)"
   ]
  },
  {
   "cell_type": "code",
   "execution_count": 30,
   "metadata": {},
   "outputs": [],
   "source": [
    "#East part\n",
    "# save width and height for later reshaping\n",
    "width = full_dataset.meta['width'] \n",
    "height = full_dataset.meta['height']"
   ]
  },
  {
   "cell_type": "code",
   "execution_count": 31,
   "metadata": {},
   "outputs": [],
   "source": [
    "#for the South\n",
    "width2 = full_dataset2.meta['width'] \n",
    "height2 = full_dataset2.meta['height']"
   ]
  },
  {
   "cell_type": "code",
   "execution_count": 32,
   "metadata": {},
   "outputs": [],
   "source": [
    "#for the Central\n",
    "width3 = full_dataset3.meta['width'] \n",
    "height3 = full_dataset3.meta['height']"
   ]
  },
  {
   "cell_type": "code",
   "execution_count": 33,
   "metadata": {},
   "outputs": [],
   "source": [
    "#for the North\n",
    "width4 = full_dataset4.meta['width'] \n",
    "height4 = full_dataset4.meta['height']"
   ]
  },
  {
   "cell_type": "code",
   "execution_count": 39,
   "metadata": {},
   "outputs": [
    {
     "name": "stdout",
     "output_type": "stream",
     "text": [
      "(8669676, 20)\n"
     ]
    }
   ],
   "source": [
    "# load training data \n",
    "X = np.load('multi_pixel_bands.npy')\n",
    "y = np.load('multi_pixel_band_classes.npy')\n",
    "\n",
    "# load predected image (small area East)\n",
    "X_pred = full_dataset.read()\n",
    "# adjust the axis to move band axis to the last dimension\n",
    "X_pred = np.moveaxis(X_pred, 0, -1)\n",
    "# finally reshape to create array of pixels and values\n",
    "X_pred = X_pred.reshape(-1, full_dataset.meta['count'])\n",
    "\n",
    "print(X_pred.shape)"
   ]
  },
  {
   "cell_type": "code",
   "execution_count": 40,
   "metadata": {},
   "outputs": [
    {
     "name": "stdout",
     "output_type": "stream",
     "text": [
      "(91887660, 31)\n"
     ]
    }
   ],
   "source": [
    "# load predicted image (South)\n",
    "X_pred2 = full_dataset2.read()\n",
    "# adjust the axis to move band axis to the last dimension\n",
    "X_pred2 = np.moveaxis(X_pred2, 0, -1)\n",
    "# finally reshape to create array of pixels and values\n",
    "X_pred2 = X_pred2.reshape(-1, full_dataset2.meta['count'])\n",
    "\n",
    "print(X_pred2.shape)"
   ]
  },
  {
   "cell_type": "code",
   "execution_count": 41,
   "metadata": {},
   "outputs": [
    {
     "name": "stdout",
     "output_type": "stream",
     "text": [
      "(140731352, 13)\n"
     ]
    }
   ],
   "source": [
    "# load predicted image (Central)\n",
    "X_pred3 = full_dataset3.read()\n",
    "# adjust the axis to move band axis to the last dimension\n",
    "X_pred3 = np.moveaxis(X_pred3, 0, -1)\n",
    "# finally reshape to create array of pixels and values\n",
    "X_pred3 = X_pred3.reshape(-1, full_dataset3.meta['count'])\n",
    "\n",
    "print(X_pred3.shape)"
   ]
  },
  {
   "cell_type": "code",
   "execution_count": 42,
   "metadata": {},
   "outputs": [
    {
     "name": "stdout",
     "output_type": "stream",
     "text": [
      "(167487296, 13)\n"
     ]
    }
   ],
   "source": [
    "# load predicted image (North)\n",
    "X_pred4 = full_dataset4.read()\n",
    "# adjust the axis to move band axis to the last dimension\n",
    "X_pred4 = np.moveaxis(X_pred4, 0, -1)\n",
    "# finally reshape to create array of pixels and values\n",
    "X_pred4 = X_pred4.reshape(-1, full_dataset4.meta['count'])\n",
    "\n",
    "print(X_pred4.shape)"
   ]
  },
  {
   "cell_type": "code",
   "execution_count": 43,
   "metadata": {},
   "outputs": [],
   "source": [
    "#We choose which bands to use for training (from the small area at the East)\n",
    "reduce_bands = True\n",
    "# reduce bands\n",
    "if reduce_bands:\n",
    "    X = X[:, [0,1,2,3,4,5,6,7,8,9,10,11]]\n",
    "    X_pred = X_pred[:, [0,1,2,3,4,5,6,7,8,9,10,11]]"
   ]
  },
  {
   "cell_type": "code",
   "execution_count": 44,
   "metadata": {},
   "outputs": [
    {
     "name": "stdout",
     "output_type": "stream",
     "text": [
      "(8669676, 12)\n"
     ]
    }
   ],
   "source": [
    "print(X_pred.shape)"
   ]
  },
  {
   "cell_type": "code",
   "execution_count": 45,
   "metadata": {},
   "outputs": [],
   "source": [
    "#predicted image (South)\n",
    "X_pred2 = X_pred2[:, [0,1,2,3,4,5,6,7,8,9,10,11]]"
   ]
  },
  {
   "cell_type": "code",
   "execution_count": 46,
   "metadata": {},
   "outputs": [],
   "source": [
    "#predicted image (Central)\n",
    "X_pred3 = X_pred3[:, [0,1,2,3,4,5,6,7,8,9,10,11]]"
   ]
  },
  {
   "cell_type": "code",
   "execution_count": 47,
   "metadata": {},
   "outputs": [],
   "source": [
    "#predicted image (North)\n",
    "X_pred4 = X_pred4[:, [0,1,2,3,4,5,6,7,8,9,10,11]]"
   ]
  },
  {
   "cell_type": "code",
   "execution_count": 51,
   "metadata": {},
   "outputs": [
    {
     "data": {
      "image/png": "[encoded data removed]",
      "text/plain": [
       "<Figure size 864x432 with 2 Axes>"
      ]
     },
     "metadata": {
      "needs_background": "light"
     },
     "output_type": "display_data"
    }
   ],
   "source": [
    "# plot density of data point for each dimension to see if there are outliers\n",
    "if reduce_bands:\n",
    "    fig, axs = plt.subplots(1, 2, figsize=(12,6))\n",
    "else:\n",
    "    fig, axs = plt.subplots(2, 5)\n",
    "axs = axs.flatten()\n",
    "\n",
    "\n",
    "colors = ['red']\n",
    "axs[0].set_ylabel('histogram')\n",
    "\n",
    "\n",
    "for i, ax in enumerate(axs):\n",
    "    ax.hist(X[:, i], bins=50,color=colors, label=\"slope\" )\n",
    "    ax.set_xlabel('X[:, {}]'.format(i))\n",
    "    ax.set_yscale('log')\n",
    "    ax.legend(prop={'size': 8})\n",
    "fig.tight_layout()\n"
   ]
  },
  {
   "cell_type": "code",
   "execution_count": 52,
   "metadata": {},
   "outputs": [
    {
     "name": "stdout",
     "output_type": "stream",
     "text": [
      "(4015, 12) (8669676, 12) (4015,)\n"
     ]
    }
   ],
   "source": [
    "# parameters\n",
    "# shuffle X, y\n",
    "rp = np.random.permutation(len(X))\n",
    "X = X[rp]\n",
    "y = y[rp]\n",
    "\n",
    "print(X.shape, X_pred.shape, y.shape)"
   ]
  },
  {
   "cell_type": "code",
   "execution_count": 53,
   "metadata": {},
   "outputs": [
    {
     "name": "stdout",
     "output_type": "stream",
     "text": [
      "float32 float32 <U3\n"
     ]
    }
   ],
   "source": [
    "print(X.dtype, X_pred.dtype, y.dtype)"
   ]
  },
  {
   "cell_type": "code",
   "execution_count": 54,
   "metadata": {},
   "outputs": [],
   "source": [
    "# print(X.mean(axis=0))\n",
    "# print(X.std(axis=0))"
   ]
  },
  {
   "cell_type": "code",
   "execution_count": 55,
   "metadata": {},
   "outputs": [
    {
     "name": "stdout",
     "output_type": "stream",
     "text": [
      "The labels for the 13-band image \n",
      " no     3505\n",
      "yes     510\n",
      "Name: label, dtype: int64\n"
     ]
    }
   ],
   "source": [
    "# show label counts\n",
    "df = pd.DataFrame(X)\n",
    "df['label'] = y\n",
    "print(\"The labels for the 12-band image \\n\", df.label.value_counts())"
   ]
  },
  {
   "cell_type": "code",
   "execution_count": 56,
   "metadata": {},
   "outputs": [],
   "source": [
    "# reclassify the string label names as numeric values\n",
    "labels = ['no', 'yes']\n",
    "\n",
    "for i, label in enumerate(labels):\n",
    "    y[y == label] = i\n",
    "y= y.astype(int)"
   ]
  },
  {
   "cell_type": "code",
   "execution_count": 57,
   "metadata": {},
   "outputs": [],
   "source": [
    "# Convert to numpy arrays\n",
    "\n",
    "# features = np.array(features)\n",
    "# labels = np.array(labels)"
   ]
  },
  {
   "cell_type": "markdown",
   "metadata": {},
   "source": [
    "# Training"
   ]
  },
  {
   "cell_type": "code",
   "execution_count": null,
   "metadata": {},
   "outputs": [],
   "source": [
    "# Training and Testing Sets\n",
    "from sklearn.model_selection import train_test_split\n",
    "#split the data (65-35)\n",
    "X_train, X_test, train_labels, test_labels = train_test_split(X, y, test_size = 0.35, random_state = 42)"
   ]
  },
  {
   "cell_type": "code",
   "execution_count": 90,
   "metadata": {},
   "outputs": [],
   "source": [
    "# define function to validate models\n",
    "def evaluate_model(clf,cv):\n",
    "    # train model\n",
    "    clf.fit(X_train, train_labels)        \n",
    "    # compute cross-validation score\n",
    "    scores = cross_val_score(clf, X_train, train_labels, cv=cv)\n",
    "    # compute mean score and 95% confidence interval of the score estimate\n",
    "    print(\"Accuracy : %0.4f (+/- %0.4f)\" % (scores.mean(), scores.std() * 2))\n",
    "    # return to keep track\n",
    "    return clf, scores.mean(), scores.std()*2    \n",
    "\n",
    "# keep track of scores for different models\n",
    "\n",
    "names = []      \n",
    "clfs = []\n",
    "scores = []\n",
    "scores_std = []\n",
    "f1=[]"
   ]
  },
  {
   "cell_type": "markdown",
   "metadata": {},
   "source": [
    "**1. KNN_QT_uniform**"
   ]
  },
  {
   "cell_type": "code",
   "execution_count": 91,
   "metadata": {},
   "outputs": [
    {
     "name": "stdout",
     "output_type": "stream",
     "text": [
      "Accuracy : 0.9885 (+/- 0.0103)\n"
     ]
    }
   ],
   "source": [
    "clf = make_pipeline(\n",
    "    QuantileTransformer(n_quantiles=50, output_distribution='uniform'), \n",
    "    KNeighborsClassifier()\n",
    ")\n",
    "# classifier\n",
    "param_grid={'kneighborsclassifier__weights':['uniform', 'distance'] ,'kneighborsclassifier__algorithm': ['auto', 'ball_tree', 'kd_tree', 'brute']}\n",
    "clf1 = GridSearchCV(estimator=clf, param_grid=param_grid, cv=15, refit=True,verbose=0)   \n",
    "\n",
    "# evaluate\n",
    "cv = StratifiedKFold(n_splits=15)\n",
    "# cv = StratifiedShuffleSplit(n_splits=50)\n",
    "clf1, score, score_std = evaluate_model(clf1, cv)\n",
    "\n",
    "# keep track of resultsy_predicted = cross_val_predict(gs_clf.best_estimator_, X, y)\n",
    "names.append('KNN_QT_uniform')\n",
    "clfs.append(clf1)\n",
    "scores.append(score)\n",
    "scores_std.append(score_std)"
   ]
  },
  {
   "cell_type": "code",
   "execution_count": 92,
   "metadata": {},
   "outputs": [],
   "source": [
    "# save results\n",
    "cv_results = pd.DataFrame(clf1.cv_results_)      \n",
    "#cv_results"
   ]
  },
  {
   "cell_type": "code",
   "execution_count": 93,
   "metadata": {},
   "outputs": [
    {
     "data": {
      "text/plain": [
       "0.9928876244665719"
      ]
     },
     "execution_count": 93,
     "metadata": {},
     "output_type": "execute_result"
    }
   ],
   "source": [
    "clf1.score(X_test,test_labels)"
   ]
  },
  {
   "cell_type": "code",
   "execution_count": 94,
   "metadata": {},
   "outputs": [],
   "source": [
    "y_predicted1 = cross_val_predict(clf1, X_test, test_labels)"
   ]
  },
  {
   "cell_type": "code",
   "execution_count": 95,
   "metadata": {},
   "outputs": [
    {
     "data": {
      "text/plain": [
       "0.9459459459459459"
      ]
     },
     "execution_count": 95,
     "metadata": {},
     "output_type": "execute_result"
    }
   ],
   "source": [
    "from sklearn.metrics import f1_score\n",
    "f1_score(test_labels,y_predicted1, average='binary')"
   ]
  },
  {
   "cell_type": "markdown",
   "metadata": {},
   "source": [
    "Passing these predictions into an evaluation metric may not be a valid way to measure generalization performance. Results can differ from cross_validate and cross_val_score unless all tests sets have equal size and the metric decomposes over samples."
   ]
  },
  {
   "cell_type": "code",
   "execution_count": 96,
   "metadata": {},
   "outputs": [
    {
     "name": "stdout",
     "output_type": "stream",
     "text": [
      "              precision    recall  f1-score   support\n",
      "\n",
      "           0     0.9910    0.9926    0.9918      1220\n",
      "           1     0.9511    0.9409    0.9459       186\n",
      "\n",
      "    accuracy                         0.9858      1406\n",
      "   macro avg     0.9710    0.9667    0.9689      1406\n",
      "weighted avg     0.9857    0.9858    0.9857      1406\n",
      "\n"
     ]
    }
   ],
   "source": [
    "from sklearn import metrics\n",
    "print(metrics.classification_report(test_labels, y_predicted1, digits=4))"
   ]
  },
  {
   "cell_type": "code",
   "execution_count": 97,
   "metadata": {},
   "outputs": [
    {
     "data": {
      "text/plain": [
       "<sklearn.metrics._plot.confusion_matrix.ConfusionMatrixDisplay at 0x7ffe2ada6c10>"
      ]
     },
     "execution_count": 97,
     "metadata": {},
     "output_type": "execute_result"
    },
    {
     "data": {
      "image/png": "[encoded data removed]",
      "text/plain": [
       "<Figure size 432x288 with 2 Axes>"
      ]
     },
     "metadata": {
      "needs_background": "light"
     },
     "output_type": "display_data"
    }
   ],
   "source": [
    "from sklearn.metrics import plot_confusion_matrix\n",
    "\n",
    "plot_confusion_matrix(clf1, X_test, y_predicted1,\n",
    "                                 #display_labels=classnames,\n",
    "                                 cmap=plt.cm.Blues)"
   ]
  },
  {
   "cell_type": "code",
   "execution_count": 98,
   "metadata": {},
   "outputs": [],
   "source": [
    "import copy\n",
    "from sklearn.metrics import f1_score \n",
    "y_pred_KNN=copy.deepcopy(y_predicted1)\n",
    "\n",
    "y_int=copy.deepcopy(test_labels)\n",
    "\n",
    "# reclassify the string label names as numeric values\n",
    "labels = ['no', 'yes']\n",
    "\n",
    "for i, label in enumerate(labels):\n",
    "    y_int[y_int == label] = i\n",
    "    y_pred_KNN[y_pred_KNN == label] = i\n",
    "y_int= y_int.astype(int)\n",
    "y_pred_KNN= y_pred_KNN.astype(int)\n",
    "\n",
    "f1_score(y_int, y_pred_KNN)  \n",
    "\n",
    "f1.append(f1_score(y_int, y_pred_KNN))\n"
   ]
  },
  {
   "cell_type": "code",
   "execution_count": 100,
   "metadata": {},
   "outputs": [
    {
     "name": "stdout",
     "output_type": "stream",
     "text": [
      "The false_positive_rate is: 0.007377049180327869\n",
      "The false_negative_rate is: 0.05913978494623656\n",
      "The true_negative_rate is: 0.9926229508196721\n",
      "The negative_predictive_value is: 0.9909983633387889\n",
      "The false_discovery_rate is: 0.04891304347826087\n",
      "The true_positive_rate is: 0.9408602150537635\n",
      "The positive_predictive_value is: 0.9510869565217391\n"
     ]
    }
   ],
   "source": [
    "from sklearn.metrics import confusion_matrix\n",
    "tn, fp, fn, tp = confusion_matrix(test_labels, y_predicted1).ravel()\n",
    "\n",
    "false_positive_rate = fp / (fp + tn)\n",
    "print(\"The false_positive_rate is:\",false_positive_rate)\n",
    "\n",
    "false_negative_rate = fn / (tp + fn)\n",
    "print(\"The false_negative_rate is:\",false_negative_rate)\n",
    "\n",
    "true_negative_rate = tn / (tn + fp)\n",
    "print(\"The true_negative_rate is:\",true_negative_rate)\n",
    "\n",
    "negative_predictive_value = tn/ (tn + fn)\n",
    "print(\"The negative_predictive_value is:\",negative_predictive_value)\n",
    "\n",
    "false_discovery_rate = fp/ (tp + fp)\n",
    "print(\"The false_discovery_rate is:\",false_discovery_rate)\n",
    "\n",
    "true_positive_rate = tp / (tp + fn)\n",
    "print(\"The true_positive_rate is:\",true_positive_rate)\n",
    "# or simply\n",
    "#recall_score(y_true, y_pred_class)\n",
    "\n",
    "positive_predictive_value = tp/ (tp + fp)\n",
    "print(\"The positive_predictive_value is:\",positive_predictive_value)"
   ]
  },
  {
   "cell_type": "code",
   "execution_count": 101,
   "metadata": {},
   "outputs": [],
   "source": [
    "from sklearn.inspection import permutation_importance\n",
    "from matplotlib import pyplot\n",
    "\n",
    "\n",
    "# perform permutation importance\n",
    "results1 = permutation_importance(clf1, X_test, test_labels, scoring='accuracy')\n",
    "# get importance\n",
    "importances1 = results1.importances_mean\n",
    "# summarize feature importance\n",
    "# for i,v in enumerate(importances):\n",
    "#     print('Feature: %0d, Score: %.5f' % (i,v))\n",
    "# # plot feature importance\n",
    "# pyplot.bar([x for x in range(len(importances))], importances)\n",
    "# pyplot.show()"
   ]
  },
  {
   "cell_type": "code",
   "execution_count": 102,
   "metadata": {},
   "outputs": [
    {
     "name": "stdout",
     "output_type": "stream",
     "text": [
      "Variable: TCW                  Importance: 0.04\n",
      "Variable: EVI                  Importance: 0.04\n",
      "Variable: TCG                  Importance: 0.03\n",
      "Variable: MNDWI                Importance: 0.03\n",
      "Variable: NDVI                 Importance: 0.03\n",
      "Variable: SAVI                 Importance: 0.03\n",
      "Variable: MSAVI                Importance: 0.03\n",
      "Variable: MSI                  Importance: 0.03\n",
      "Variable: SWIR                 Importance: 0.03\n",
      "Variable: TCB                  Importance: 0.02\n",
      "Variable: NDWI                 Importance: 0.02\n",
      "Variable: NDMI                 Importance: 0.02\n"
     ]
    }
   ],
   "source": [
    "feature_list =  ['TCB','TCG','TCW','NDWI','MNDWI','EVI','NDVI','SAVI','MSAVI','MSI','NDMI','SWIR']\n",
    "\n",
    "\n",
    "# List of tuples with variable and importance\n",
    "feature_importances1 = [(feature, round(importance1, 2)) for feature, importance1 in zip(feature_list, importances1)]\n",
    "\n",
    "# Sort the feature importances by most important first\n",
    "feature_importances1 = sorted(feature_importances1, key = lambda x: x[1], reverse = True)\n",
    "\n",
    "# Print out the feature and importances \n",
    "[print('Variable: {:20} Importance: {}'.format(*pair)) for pair in feature_importances1];"
   ]
  },
  {
   "cell_type": "code",
   "execution_count": 104,
   "metadata": {},
   "outputs": [
    {
     "data": {
      "image/png": "[encoded data removed]",
      "text/plain": [
       "<Figure size 432x288 with 1 Axes>"
      ]
     },
     "metadata": {
      "needs_background": "light"
     },
     "output_type": "display_data"
    }
   ],
   "source": [
    "# Reset style \n",
    "#plt.style.use('fivethirtyeight')\n",
    "# list of x locations for plotting\n",
    "x_values = list(range(len(importances1)))\n",
    "\n",
    "# Make a bar chart\n",
    "plt.bar(x_values, importances1, orientation = 'vertical', color = 'r', edgecolor = 'k', linewidth = 1.2)\n",
    "\n",
    "# Tick labels for x axis\n",
    "plt.xticks(x_values, feature_list, rotation='vertical')\n",
    "\n",
    "# Axis labels and title\n",
    "plt.ylabel('Importance'); plt.xlabel('Variable'); plt.title('Variable Importances');\n",
    "plt.grid()"
   ]
  },
  {
   "cell_type": "markdown",
   "metadata": {},
   "source": [
    "**2.Random Forest**"
   ]
  },
  {
   "cell_type": "code",
   "execution_count": 120,
   "metadata": {},
   "outputs": [
    {
     "name": "stdout",
     "output_type": "stream",
     "text": [
      "Accuracy : 0.9885 (+/- 0.0119)\n"
     ]
    }
   ],
   "source": [
    "# First create the base model to tune\n",
    "\n",
    "import copy\n",
    "from sklearn.metrics import f1_score \n",
    "param_grid={'randomforestclassifier__n_estimators': [100]}\n",
    "clf = make_pipeline(\n",
    "    QuantileTransformer(n_quantiles=50, output_distribution='uniform'), RandomForestClassifier())\n",
    "\n",
    "clf3 = GridSearchCV(estimator=clf,param_grid=param_grid,cv=15, refit=True,verbose=0)\n",
    "    \n",
    "cv = StratifiedKFold(n_splits=15)\n",
    "\n",
    "# evaluate\n",
    "clf3, score, score_std = evaluate_model(clf3, cv)\n",
    "\n",
    "# keep track of results y_predicted = cross_val_predict(gs_clf.best_estimator_, X, y)\n",
    "\n",
    "names.append('RF_100_trees_uni')\n",
    "clfs.append(clf3)\n",
    "scores.append(score)\n",
    "scores_std.append(score_std)"
   ]
  },
  {
   "cell_type": "code",
   "execution_count": 121,
   "metadata": {},
   "outputs": [],
   "source": [
    "# save results\n",
    "cv_results = pd.DataFrame(clf3.cv_results_)      \n",
    "#cv_results"
   ]
  },
  {
   "cell_type": "code",
   "execution_count": 122,
   "metadata": {},
   "outputs": [
    {
     "data": {
      "text/plain": [
       "0.9928876244665719"
      ]
     },
     "execution_count": 122,
     "metadata": {},
     "output_type": "execute_result"
    }
   ],
   "source": [
    "clf3.score(X_test,test_labels)"
   ]
  },
  {
   "cell_type": "code",
   "execution_count": 123,
   "metadata": {},
   "outputs": [],
   "source": [
    "y_predicted3 = cross_val_predict(clf3, X_test, test_labels)"
   ]
  },
  {
   "cell_type": "code",
   "execution_count": 124,
   "metadata": {},
   "outputs": [
    {
     "data": {
      "text/plain": [
       "0.9456521739130435"
      ]
     },
     "execution_count": 124,
     "metadata": {},
     "output_type": "execute_result"
    }
   ],
   "source": [
    "from sklearn.metrics import f1_score\n",
    "f1_score(test_labels,y_predicted3, average='binary')"
   ]
  },
  {
   "cell_type": "code",
   "execution_count": 125,
   "metadata": {},
   "outputs": [
    {
     "name": "stdout",
     "output_type": "stream",
     "text": [
      "              precision    recall  f1-score   support\n",
      "\n",
      "           0     0.9902    0.9934    0.9918      1220\n",
      "           1     0.9560    0.9355    0.9457       186\n",
      "\n",
      "    accuracy                         0.9858      1406\n",
      "   macro avg     0.9731    0.9645    0.9687      1406\n",
      "weighted avg     0.9857    0.9858    0.9857      1406\n",
      "\n"
     ]
    }
   ],
   "source": [
    "from sklearn import metrics\n",
    "print(metrics.classification_report(test_labels, y_predicted3, digits=4))"
   ]
  },
  {
   "cell_type": "code",
   "execution_count": 126,
   "metadata": {},
   "outputs": [
    {
     "data": {
      "text/plain": [
       "<sklearn.metrics._plot.confusion_matrix.ConfusionMatrixDisplay at 0x7ff6ec0e9410>"
      ]
     },
     "execution_count": 126,
     "metadata": {},
     "output_type": "execute_result"
    },
    {
     "data": {
      "image/png": "[encoded data removed]",
      "text/plain": [
       "<Figure size 432x288 with 2 Axes>"
      ]
     },
     "metadata": {
      "needs_background": "light"
     },
     "output_type": "display_data"
    }
   ],
   "source": [
    "plot_confusion_matrix(clf3, X_test, y_predicted3,\n",
    "                                 #display_labels=classnames,\n",
    "                                 cmap=plt.cm.Blues)"
   ]
  },
  {
   "cell_type": "code",
   "execution_count": 127,
   "metadata": {},
   "outputs": [],
   "source": [
    "import copy\n",
    "from sklearn.metrics import f1_score \n",
    "y_pred_RF=copy.deepcopy(y_predicted3)\n",
    "\n",
    "y_int=copy.deepcopy(test_labels)\n",
    "\n",
    "# reclassify the string label names as numeric values\n",
    "labels = ['no', 'yes']\n",
    "\n",
    "for i, label in enumerate(labels):\n",
    "    y_int[y_int == label] = i\n",
    "    y_pred_RF[y_pred_RF == label] = i\n",
    "y_int= y_int.astype(int)\n",
    "y_pred_RF= y_pred_RF.astype(int)\n",
    "\n",
    "f1_score(y_int, y_pred_RF)  \n",
    "\n",
    "f1.append(f1_score(y_int, y_pred_RF))"
   ]
  },
  {
   "cell_type": "code",
   "execution_count": 129,
   "metadata": {},
   "outputs": [
    {
     "name": "stdout",
     "output_type": "stream",
     "text": [
      "The false_positive_rate is: 0.006557377049180328\n",
      "The false_negative_rate is: 0.06451612903225806\n",
      "The true_negative_rate is: 0.9934426229508196\n",
      "The negative_predictive_value is: 0.9901960784313726\n",
      "The false_discovery_rate is: 0.04395604395604396\n",
      "The true_positive_rate is: 0.9354838709677419\n",
      "The positive_predictive_value is: 0.9560439560439561\n"
     ]
    }
   ],
   "source": [
    "## from sklearn.metrics import confusion_matrix\n",
    "tn, fp, fn, tp = confusion_matrix(test_labels, y_predicted3).ravel()\n",
    "\n",
    "false_positive_rate = fp / (fp + tn)\n",
    "print(\"The false_positive_rate is:\",false_positive_rate)\n",
    "\n",
    "false_negative_rate = fn / (tp + fn)\n",
    "print(\"The false_negative_rate is:\",false_negative_rate)\n",
    "\n",
    "true_negative_rate = tn / (tn + fp)\n",
    "print(\"The true_negative_rate is:\",true_negative_rate)\n",
    "\n",
    "negative_predictive_value = tn/ (tn + fn)\n",
    "print(\"The negative_predictive_value is:\",negative_predictive_value)\n",
    "\n",
    "false_discovery_rate = fp/ (tp + fp)\n",
    "print(\"The false_discovery_rate is:\",false_discovery_rate)\n",
    "\n",
    "true_positive_rate = tp / (tp + fn)\n",
    "print(\"The true_positive_rate is:\",true_positive_rate)\n",
    "# or simply\n",
    "#recall_score(y_true, y_pred_class)\n",
    "\n",
    "positive_predictive_value = tp/ (tp + fp)\n",
    "print(\"The positive_predictive_value is:\",positive_predictive_value)"
   ]
  },
  {
   "cell_type": "code",
   "execution_count": 130,
   "metadata": {},
   "outputs": [],
   "source": [
    "from sklearn.inspection import permutation_importance\n",
    "from matplotlib import pyplot\n",
    "\n",
    "\n",
    "# perform permutation importance\n",
    "results3 = permutation_importance(clf3, X_test, test_labels, scoring='accuracy')\n",
    "# get importance\n",
    "importances3 = results3.importances_mean"
   ]
  },
  {
   "cell_type": "code",
   "execution_count": 131,
   "metadata": {},
   "outputs": [
    {
     "name": "stdout",
     "output_type": "stream",
     "text": [
      "Variable: TCW                  Importance: 0.01\n",
      "Variable: SAVI                 Importance: 0.01\n",
      "Variable: SWIR                 Importance: 0.01\n",
      "Variable: TCB                  Importance: 0.0\n",
      "Variable: TCG                  Importance: 0.0\n",
      "Variable: NDWI                 Importance: 0.0\n",
      "Variable: MNDWI                Importance: 0.0\n",
      "Variable: EVI                  Importance: 0.0\n",
      "Variable: NDVI                 Importance: 0.0\n",
      "Variable: MSAVI                Importance: 0.0\n",
      "Variable: MSI                  Importance: 0.0\n",
      "Variable: NDMI                 Importance: 0.0\n"
     ]
    }
   ],
   "source": [
    "feature_list =  ['TCB','TCG','TCW','NDWI','MNDWI','EVI','NDVI','SAVI','MSAVI','MSI','NDMI','SWIR']\n",
    "\n",
    "\n",
    "# List of tuples with variable and importance\n",
    "feature_importances3 = [(feature, round(importance3, 2)) for feature, importance3 in zip(feature_list, importances3)]\n",
    "\n",
    "# Sort the feature importances by most important first\n",
    "feature_importances3 = sorted(feature_importances3, key = lambda x: x[1], reverse = True)\n",
    "\n",
    "# Print out the feature and importances \n",
    "[print('Variable: {:20} Importance: {}'.format(*pair)) for pair in feature_importances3];"
   ]
  },
  {
   "cell_type": "code",
   "execution_count": 132,
   "metadata": {},
   "outputs": [
    {
     "data": {
      "image/png": "[encoded data removed]",
      "text/plain": [
       "<Figure size 432x288 with 1 Axes>"
      ]
     },
     "metadata": {
      "needs_background": "light"
     },
     "output_type": "display_data"
    }
   ],
   "source": [
    "# Reset style \n",
    "#plt.style.use('fivethirtyeight')\n",
    "# list of x locations for plotting\n",
    "x_values = list(range(len(importances3)))\n",
    "\n",
    "# Make a bar chart\n",
    "plt.bar(x_values, importances1, orientation = 'vertical', color = 'r', edgecolor = 'k', linewidth = 1.2)\n",
    "\n",
    "# Tick labels for x axis\n",
    "plt.xticks(x_values, feature_list, rotation='vertical')\n",
    "\n",
    "# Axis labels and title\n",
    "plt.ylabel('Importance'); plt.xlabel('Variable'); plt.title('Variable Importances');\n",
    "plt.grid()"
   ]
  },
  {
   "cell_type": "markdown",
   "metadata": {},
   "source": [
    "## Tuning models based f1"
   ]
  },
  {
   "cell_type": "markdown",
   "metadata": {},
   "source": [
    "**Tunning KNN based on fi score**"
   ]
  },
  {
   "cell_type": "code",
   "execution_count": 143,
   "metadata": {},
   "outputs": [
    {
     "name": "stdout",
     "output_type": "stream",
     "text": [
      "Fitting 10 folds for each of 30 candidates, totalling 300 fits\n"
     ]
    },
    {
     "name": "stderr",
     "output_type": "stream",
     "text": [
      "[Parallel(n_jobs=-1)]: Using backend LokyBackend with 8 concurrent workers.\n",
      "[Parallel(n_jobs=-1)]: Done  34 tasks      | elapsed:    3.3s\n",
      "[Parallel(n_jobs=-1)]: Done 184 tasks      | elapsed:    7.7s\n",
      "[Parallel(n_jobs=-1)]: Done 300 out of 300 | elapsed:   11.1s finished\n"
     ]
    }
   ],
   "source": [
    "param_grid = {\n",
    "    'kneighborsclassifier__n_neighbors': [1,2,3,4,5,6,7,8,9,10,11,12, 13,14, 15,16,17,18,19,20,21,22,23,24,25,26,27,28,29,30],\n",
    "}\n",
    "clf = make_pipeline(\n",
    "    QuantileTransformer(n_quantiles=50, output_distribution='uniform'), KNeighborsClassifier())\n",
    "# Create the grid search model and fit to the training data\n",
    "neighbors_grid_search_all = GridSearchCV(estimator =clf, param_grid=param_grid,return_train_score=True,refit=True, verbose = 1, n_jobs=-1, cv = 10,\n",
    "                                scoring = 'f1')\n",
    "neighbors_grid_search_all.fit(X_train, train_labels);"
   ]
  },
  {
   "cell_type": "code",
   "execution_count": 144,
   "metadata": {},
   "outputs": [],
   "source": [
    "train_scores_all=neighbors_grid_search_all.cv_results_['mean_train_score']\n",
    "#train_scores\n",
    "test_scores_all=neighbors_grid_search_all.cv_results_['mean_test_score']\n",
    "#test_scores"
   ]
  },
  {
   "cell_type": "code",
   "execution_count": 145,
   "metadata": {},
   "outputs": [
    {
     "name": "stdout",
     "output_type": "stream",
     "text": [
      "[29, 27, 25, 23, 28, 26, 24, 21, 22, 19, 20, 13, 15, 14, 18, 17, 16, 9, 11, 7, 12, 8, 6, 10, 5, 3, 4, 2, 1, 0]\n"
     ]
    }
   ],
   "source": [
    "import operator\n",
    "enumerate_object = enumerate(test_scores_all)\n",
    "sorted_pairs = sorted(enumerate_object, key=operator.itemgetter(1))\n",
    "\n",
    "sorted_indices = []\n",
    "for index, element in sorted_pairs:\n",
    "    sorted_indices.append(index)\n",
    "print(sorted_indices)"
   ]
  },
  {
   "cell_type": "code",
   "execution_count": 146,
   "metadata": {},
   "outputs": [
    {
     "data": {
      "image/png": "[encoded data removed]",
      "text/plain": [
       "<Figure size 720x576 with 2 Axes>"
      ]
     },
     "metadata": {
      "needs_background": "light"
     },
     "output_type": "display_data"
    }
   ],
   "source": [
    "def plot_results(model, param = 'kneighborsclassifier__n_neighbors', name = 'n_neighbors'):\n",
    "    param_name = 'param_%s' % param\n",
    "\n",
    "    # Extract information from the cross validation model\n",
    "    train_scores = model.cv_results_['mean_train_score']\n",
    "    test_scores = model.cv_results_['mean_test_score']\n",
    "    train_time = model.cv_results_['mean_fit_time']\n",
    "    param_values = list(model.cv_results_[param_name])\n",
    "    \n",
    "    # Plot the scores over the parameter\n",
    "    plt.subplots(2, 1, figsize=(10, 8))\n",
    "    plt.subplot(211)\n",
    "    plt.plot(param_values, train_scores, 'bo-', label = 'train')\n",
    "    plt.plot(param_values, test_scores, 'go-', label = 'test')\n",
    "    #plt.ylim(ymin = -10, ymax = 0)\n",
    "    plt.legend()\n",
    "    plt.xlabel(name)\n",
    "    plt.ylabel('f1')\n",
    "    plt.title('Score vs %s' % name)\n",
    "    \n",
    "    plt.grid()\n",
    "    plt.tight_layout(pad = 4)\n",
    "\n",
    "    plt.subplot(212)\n",
    "    plt.plot(param_values, train_time, 'ro')\n",
    "    #plt.ylim(ymin = 0.0, ymax = 2.0)\n",
    "    plt.xlabel(name)\n",
    "    plt.ylabel('Train Time (sec)')\n",
    "    plt.title('Training Time vs %s' % name)\n",
    "\n",
    "    plt.grid()\n",
    "    plt.tight_layout(pad = 4)\n",
    "    \n",
    "\n",
    "plot_results(neighbors_grid_search_all)"
   ]
  },
  {
   "cell_type": "code",
   "execution_count": 147,
   "metadata": {},
   "outputs": [
    {
     "name": "stdout",
     "output_type": "stream",
     "text": [
      "Fitting 15 folds for each of 9 candidates, totalling 135 fits\n"
     ]
    },
    {
     "name": "stderr",
     "output_type": "stream",
     "text": [
      "[Parallel(n_jobs=-1)]: Using backend LokyBackend with 8 concurrent workers.\n",
      "[Parallel(n_jobs=-1)]: Done  34 tasks      | elapsed:    1.2s\n",
      "[Parallel(n_jobs=-1)]: Done 135 out of 135 | elapsed:    3.4s finished\n",
      "[Parallel(n_jobs=-1)]: Using backend LokyBackend with 8 concurrent workers.\n"
     ]
    },
    {
     "name": "stdout",
     "output_type": "stream",
     "text": [
      "Fitting 15 folds for each of 9 candidates, totalling 135 fits\n"
     ]
    },
    {
     "name": "stderr",
     "output_type": "stream",
     "text": [
      "[Parallel(n_jobs=-1)]: Done  34 tasks      | elapsed:    1.0s\n",
      "[Parallel(n_jobs=-1)]: Done 135 out of 135 | elapsed:    2.7s finished\n",
      "[Parallel(n_jobs=-1)]: Using backend LokyBackend with 8 concurrent workers.\n"
     ]
    },
    {
     "name": "stdout",
     "output_type": "stream",
     "text": [
      "Fitting 15 folds for each of 9 candidates, totalling 135 fits\n"
     ]
    },
    {
     "name": "stderr",
     "output_type": "stream",
     "text": [
      "[Parallel(n_jobs=-1)]: Done  52 tasks      | elapsed:    1.5s\n",
      "[Parallel(n_jobs=-1)]: Done 120 out of 135 | elapsed:    2.6s remaining:    0.3s\n",
      "[Parallel(n_jobs=-1)]: Done 135 out of 135 | elapsed:    2.8s finished\n",
      "[Parallel(n_jobs=-1)]: Using backend LokyBackend with 8 concurrent workers.\n"
     ]
    },
    {
     "name": "stdout",
     "output_type": "stream",
     "text": [
      "Fitting 15 folds for each of 9 candidates, totalling 135 fits\n"
     ]
    },
    {
     "name": "stderr",
     "output_type": "stream",
     "text": [
      "[Parallel(n_jobs=-1)]: Done  52 tasks      | elapsed:    1.5s\n",
      "[Parallel(n_jobs=-1)]: Done 135 out of 135 | elapsed:    2.8s finished\n",
      "[Parallel(n_jobs=-1)]: Using backend LokyBackend with 8 concurrent workers.\n"
     ]
    },
    {
     "name": "stdout",
     "output_type": "stream",
     "text": [
      "Fitting 15 folds for each of 9 candidates, totalling 135 fits\n"
     ]
    },
    {
     "name": "stderr",
     "output_type": "stream",
     "text": [
      "[Parallel(n_jobs=-1)]: Done  52 tasks      | elapsed:    1.4s\n",
      "[Parallel(n_jobs=-1)]: Done 135 out of 135 | elapsed:    2.6s finished\n",
      "[Parallel(n_jobs=-1)]: Using backend LokyBackend with 8 concurrent workers.\n"
     ]
    },
    {
     "name": "stdout",
     "output_type": "stream",
     "text": [
      "Fitting 15 folds for each of 9 candidates, totalling 135 fits\n"
     ]
    },
    {
     "name": "stderr",
     "output_type": "stream",
     "text": [
      "[Parallel(n_jobs=-1)]: Done  52 tasks      | elapsed:    1.4s\n",
      "[Parallel(n_jobs=-1)]: Done 120 out of 135 | elapsed:    2.5s remaining:    0.3s\n",
      "[Parallel(n_jobs=-1)]: Done 135 out of 135 | elapsed:    2.6s finished\n",
      "[Parallel(n_jobs=-1)]: Using backend LokyBackend with 8 concurrent workers.\n"
     ]
    },
    {
     "name": "stdout",
     "output_type": "stream",
     "text": [
      "Fitting 15 folds for each of 9 candidates, totalling 135 fits\n"
     ]
    },
    {
     "name": "stderr",
     "output_type": "stream",
     "text": [
      "[Parallel(n_jobs=-1)]: Done  52 tasks      | elapsed:    1.5s\n",
      "[Parallel(n_jobs=-1)]: Done 120 out of 135 | elapsed:    2.7s remaining:    0.3s\n",
      "[Parallel(n_jobs=-1)]: Done 135 out of 135 | elapsed:    2.8s finished\n",
      "[Parallel(n_jobs=-1)]: Using backend LokyBackend with 8 concurrent workers.\n"
     ]
    },
    {
     "name": "stdout",
     "output_type": "stream",
     "text": [
      "Fitting 15 folds for each of 9 candidates, totalling 135 fits\n"
     ]
    },
    {
     "name": "stderr",
     "output_type": "stream",
     "text": [
      "[Parallel(n_jobs=-1)]: Done  34 tasks      | elapsed:    1.1s\n",
      "[Parallel(n_jobs=-1)]: Done 135 out of 135 | elapsed:    2.9s finished\n",
      "[Parallel(n_jobs=-1)]: Using backend LokyBackend with 8 concurrent workers.\n"
     ]
    },
    {
     "name": "stdout",
     "output_type": "stream",
     "text": [
      "Fitting 15 folds for each of 9 candidates, totalling 135 fits\n"
     ]
    },
    {
     "name": "stderr",
     "output_type": "stream",
     "text": [
      "[Parallel(n_jobs=-1)]: Done  34 tasks      | elapsed:    1.0s\n",
      "[Parallel(n_jobs=-1)]: Done 135 out of 135 | elapsed:    2.7s finished\n",
      "[Parallel(n_jobs=-1)]: Using backend LokyBackend with 8 concurrent workers.\n"
     ]
    },
    {
     "name": "stdout",
     "output_type": "stream",
     "text": [
      "Fitting 15 folds for each of 9 candidates, totalling 135 fits\n"
     ]
    },
    {
     "name": "stderr",
     "output_type": "stream",
     "text": [
      "[Parallel(n_jobs=-1)]: Done  52 tasks      | elapsed:    1.5s\n",
      "[Parallel(n_jobs=-1)]: Done 120 out of 135 | elapsed:    2.6s remaining:    0.3s\n",
      "[Parallel(n_jobs=-1)]: Done 135 out of 135 | elapsed:    2.7s finished\n",
      "[Parallel(n_jobs=-1)]: Using backend LokyBackend with 8 concurrent workers.\n"
     ]
    },
    {
     "name": "stdout",
     "output_type": "stream",
     "text": [
      "Fitting 15 folds for each of 9 candidates, totalling 135 fits\n"
     ]
    },
    {
     "name": "stderr",
     "output_type": "stream",
     "text": [
      "[Parallel(n_jobs=-1)]: Done  34 tasks      | elapsed:    1.1s\n",
      "[Parallel(n_jobs=-1)]: Done 135 out of 135 | elapsed:    2.9s finished\n",
      "[Parallel(n_jobs=-1)]: Using backend LokyBackend with 8 concurrent workers.\n"
     ]
    },
    {
     "name": "stdout",
     "output_type": "stream",
     "text": [
      "Fitting 15 folds for each of 9 candidates, totalling 135 fits\n"
     ]
    },
    {
     "name": "stderr",
     "output_type": "stream",
     "text": [
      "[Parallel(n_jobs=-1)]: Done  52 tasks      | elapsed:    1.5s\n",
      "[Parallel(n_jobs=-1)]: Done 120 out of 135 | elapsed:    2.7s remaining:    0.3s\n",
      "[Parallel(n_jobs=-1)]: Done 135 out of 135 | elapsed:    2.8s finished\n",
      "[Parallel(n_jobs=-1)]: Using backend LokyBackend with 8 concurrent workers.\n"
     ]
    },
    {
     "name": "stdout",
     "output_type": "stream",
     "text": [
      "Fitting 15 folds for each of 9 candidates, totalling 135 fits\n"
     ]
    },
    {
     "name": "stderr",
     "output_type": "stream",
     "text": [
      "[Parallel(n_jobs=-1)]: Done  34 tasks      | elapsed:    1.1s\n",
      "[Parallel(n_jobs=-1)]: Done 135 out of 135 | elapsed:    2.8s finished\n",
      "[Parallel(n_jobs=-1)]: Using backend LokyBackend with 8 concurrent workers.\n"
     ]
    },
    {
     "name": "stdout",
     "output_type": "stream",
     "text": [
      "Fitting 15 folds for each of 9 candidates, totalling 135 fits\n"
     ]
    },
    {
     "name": "stderr",
     "output_type": "stream",
     "text": [
      "[Parallel(n_jobs=-1)]: Done  34 tasks      | elapsed:    1.1s\n",
      "[Parallel(n_jobs=-1)]: Done 135 out of 135 | elapsed:    2.8s finished\n",
      "[Parallel(n_jobs=-1)]: Using backend LokyBackend with 8 concurrent workers.\n"
     ]
    },
    {
     "name": "stdout",
     "output_type": "stream",
     "text": [
      "Fitting 15 folds for each of 9 candidates, totalling 135 fits\n"
     ]
    },
    {
     "name": "stderr",
     "output_type": "stream",
     "text": [
      "[Parallel(n_jobs=-1)]: Done  52 tasks      | elapsed:    1.6s\n",
      "[Parallel(n_jobs=-1)]: Done 120 out of 135 | elapsed:    2.7s remaining:    0.3s\n",
      "[Parallel(n_jobs=-1)]: Done 135 out of 135 | elapsed:    2.9s finished\n",
      "[Parallel(n_jobs=-1)]: Using backend LokyBackend with 8 concurrent workers.\n"
     ]
    },
    {
     "name": "stdout",
     "output_type": "stream",
     "text": [
      "Fitting 15 folds for each of 9 candidates, totalling 135 fits\n"
     ]
    },
    {
     "name": "stderr",
     "output_type": "stream",
     "text": [
      "[Parallel(n_jobs=-1)]: Done  52 tasks      | elapsed:    1.5s\n"
     ]
    },
    {
     "name": "stdout",
     "output_type": "stream",
     "text": [
      "Accuracy : 0.9877 (+/- 0.0080)\n"
     ]
    },
    {
     "name": "stderr",
     "output_type": "stream",
     "text": [
      "[Parallel(n_jobs=-1)]: Done 120 out of 135 | elapsed:    2.8s remaining:    0.3s\n",
      "[Parallel(n_jobs=-1)]: Done 135 out of 135 | elapsed:    2.9s finished\n"
     ]
    }
   ],
   "source": [
    "clf_c = make_pipeline(\n",
    "    QuantileTransformer(n_quantiles=50, output_distribution='uniform'), KNeighborsClassifier())\n",
    "param_grid = {\n",
    "    'kneighborsclassifier__n_neighbors': [ 8, 7, 6, 3, 5, 4, 2, 1, 0]}\n",
    "# Create the grid search model and fit to the training data\n",
    "knn_model_tr_un_f1 = GridSearchCV(estimator =clf_c, param_grid=param_grid,return_train_score=True,refit=True, verbose = 1, n_jobs=-1, cv = 15,)\n",
    "\n",
    "# evaluate\n",
    "cv = StratifiedShuffleSplit(n_splits=15)\n",
    "knn_model_tr_un_f1, score, score_std = evaluate_model(knn_model_tr_un_f1, cv)\n",
    "\n",
    "# keep track of results\n",
    "names.append('knn_model_tr_un_f1')\n",
    "clfs.append(knn_model_tr_un_f1)\n",
    "scores.append(score)\n",
    "scores_std.append(score_std)"
   ]
  },
  {
   "cell_type": "code",
   "execution_count": 148,
   "metadata": {},
   "outputs": [
    {
     "data": {
      "text/plain": [
       "Pipeline(steps=[('quantiletransformer', QuantileTransformer(n_quantiles=50)),\n",
       "                ('kneighborsclassifier', KNeighborsClassifier(n_neighbors=1))])"
      ]
     },
     "execution_count": 148,
     "metadata": {},
     "output_type": "execute_result"
    }
   ],
   "source": [
    "knn_model_tr_un_f1.best_estimator_"
   ]
  },
  {
   "cell_type": "code",
   "execution_count": 149,
   "metadata": {},
   "outputs": [
    {
     "data": {
      "text/plain": [
       "0.9928876244665719"
      ]
     },
     "execution_count": 149,
     "metadata": {},
     "output_type": "execute_result"
    }
   ],
   "source": [
    "knn_model_tr_un_f1.score(X_test,test_labels)"
   ]
  },
  {
   "cell_type": "code",
   "execution_count": 150,
   "metadata": {},
   "outputs": [],
   "source": [
    "# save results\n",
    "cv_results = pd.DataFrame(knn_model_tr_un_f1.cv_results_)      \n",
    "#cv_results"
   ]
  },
  {
   "cell_type": "code",
   "execution_count": 151,
   "metadata": {},
   "outputs": [
    {
     "name": "stdout",
     "output_type": "stream",
     "text": [
      "Fitting 15 folds for each of 9 candidates, totalling 135 fits\n"
     ]
    },
    {
     "name": "stderr",
     "output_type": "stream",
     "text": [
      "[Parallel(n_jobs=-1)]: Using backend LokyBackend with 8 concurrent workers.\n",
      "[Parallel(n_jobs=-1)]: Done  52 tasks      | elapsed:    1.0s\n",
      "[Parallel(n_jobs=-1)]: Done 135 out of 135 | elapsed:    1.9s finished\n",
      "[Parallel(n_jobs=-1)]: Using backend LokyBackend with 8 concurrent workers.\n"
     ]
    },
    {
     "name": "stdout",
     "output_type": "stream",
     "text": [
      "Fitting 15 folds for each of 9 candidates, totalling 135 fits\n"
     ]
    },
    {
     "name": "stderr",
     "output_type": "stream",
     "text": [
      "[Parallel(n_jobs=-1)]: Done  52 tasks      | elapsed:    0.8s\n",
      "[Parallel(n_jobs=-1)]: Done 120 out of 135 | elapsed:    1.4s remaining:    0.2s\n",
      "[Parallel(n_jobs=-1)]: Done 135 out of 135 | elapsed:    1.4s finished\n",
      "[Parallel(n_jobs=-1)]: Using backend LokyBackend with 8 concurrent workers.\n"
     ]
    },
    {
     "name": "stdout",
     "output_type": "stream",
     "text": [
      "Fitting 15 folds for each of 9 candidates, totalling 135 fits\n"
     ]
    },
    {
     "name": "stderr",
     "output_type": "stream",
     "text": [
      "[Parallel(n_jobs=-1)]: Done  52 tasks      | elapsed:    0.8s\n",
      "[Parallel(n_jobs=-1)]: Done 135 out of 135 | elapsed:    1.4s finished\n",
      "[Parallel(n_jobs=-1)]: Using backend LokyBackend with 8 concurrent workers.\n"
     ]
    },
    {
     "name": "stdout",
     "output_type": "stream",
     "text": [
      "Fitting 15 folds for each of 9 candidates, totalling 135 fits\n"
     ]
    },
    {
     "name": "stderr",
     "output_type": "stream",
     "text": [
      "[Parallel(n_jobs=-1)]: Done  52 tasks      | elapsed:    0.8s\n",
      "[Parallel(n_jobs=-1)]: Done 135 out of 135 | elapsed:    1.4s finished\n",
      "[Parallel(n_jobs=-1)]: Using backend LokyBackend with 8 concurrent workers.\n"
     ]
    },
    {
     "name": "stdout",
     "output_type": "stream",
     "text": [
      "Fitting 15 folds for each of 9 candidates, totalling 135 fits\n"
     ]
    },
    {
     "name": "stderr",
     "output_type": "stream",
     "text": [
      "[Parallel(n_jobs=-1)]: Done  52 tasks      | elapsed:    0.8s\n",
      "[Parallel(n_jobs=-1)]: Done 135 out of 135 | elapsed:    1.5s finished\n"
     ]
    }
   ],
   "source": [
    "y_predicted5= cross_val_predict(knn_model_tr_un_f1, X_test, test_labels)"
   ]
  },
  {
   "cell_type": "code",
   "execution_count": 152,
   "metadata": {},
   "outputs": [
    {
     "name": "stdout",
     "output_type": "stream",
     "text": [
      "              precision    recall  f1-score   support\n",
      "\n",
      "           0     0.9926    0.9934    0.9930      1220\n",
      "           1     0.9568    0.9516    0.9542       186\n",
      "\n",
      "    accuracy                         0.9879      1406\n",
      "   macro avg     0.9747    0.9725    0.9736      1406\n",
      "weighted avg     0.9879    0.9879    0.9879      1406\n",
      "\n"
     ]
    }
   ],
   "source": [
    "from sklearn import metrics\n",
    "print(metrics.classification_report(test_labels, y_predicted5, digits=4))"
   ]
  },
  {
   "cell_type": "code",
   "execution_count": 153,
   "metadata": {},
   "outputs": [
    {
     "data": {
      "text/plain": [
       "<sklearn.metrics._plot.confusion_matrix.ConfusionMatrixDisplay at 0x7ff6ead3ec50>"
      ]
     },
     "execution_count": 153,
     "metadata": {},
     "output_type": "execute_result"
    },
    {
     "data": {
      "image/png": "[encoded data removed]",
      "text/plain": [
       "<Figure size 432x288 with 2 Axes>"
      ]
     },
     "metadata": {
      "needs_background": "light"
     },
     "output_type": "display_data"
    }
   ],
   "source": [
    "plot_confusion_matrix(knn_model_tr_un_f1, X_test, y_predicted5,\n",
    "                                 #display_labels=classnames,\n",
    "                                 cmap=plt.cm.Blues)"
   ]
  },
  {
   "cell_type": "code",
   "execution_count": 154,
   "metadata": {},
   "outputs": [
    {
     "data": {
      "text/plain": [
       "0.9541778975741241"
      ]
     },
     "execution_count": 154,
     "metadata": {},
     "output_type": "execute_result"
    }
   ],
   "source": [
    "from sklearn.metrics import f1_score\n",
    "f1_score(test_labels,y_predicted5, average='binary')"
   ]
  },
  {
   "cell_type": "code",
   "execution_count": 155,
   "metadata": {},
   "outputs": [],
   "source": [
    "import copy\n",
    "from sklearn.metrics import f1_score \n",
    "y_pred_KNN=copy.deepcopy(y_predicted5)\n",
    "\n",
    "y_int=copy.deepcopy(test_labels)\n",
    "\n",
    "# reclassify the string label names as numeric values\n",
    "labels = ['no', 'yes']\n",
    "\n",
    "for i, label in enumerate(labels):\n",
    "    y_int[y_int == label] = i\n",
    "    y_pred_KNN[y_pred_KNN == label] = i\n",
    "y_int= y_int.astype(int)\n",
    "y_pred_KNN= y_pred_KNN.astype(int)\n",
    "\n",
    "f1_score(y_int, y_pred_KNN)  \n",
    "\n",
    "f1.append(f1_score(y_int, y_pred_KNN))"
   ]
  },
  {
   "cell_type": "code",
   "execution_count": 157,
   "metadata": {},
   "outputs": [],
   "source": [
    "from sklearn.inspection import permutation_importance\n",
    "from matplotlib import pyplot\n",
    "\n",
    "# perform permutation importance\n",
    "results = permutation_importance(knn_model_tr_un_f1, X_test, test_labels, scoring='f1')\n",
    "# get importance\n",
    "importances = results.importances_mean\n",
    "# # summarize feature importance\n",
    "# for i,v in enumerate(importances):\n",
    "#     print('Feature: %0d, Score: %.5f' % (i,v))\n",
    "# # plot feature importance\n",
    "# pyplot.bar([x for x in range(len(importances))], importances)\n",
    "# pyplot.show()"
   ]
  },
  {
   "cell_type": "code",
   "execution_count": 158,
   "metadata": {},
   "outputs": [
    {
     "name": "stdout",
     "output_type": "stream",
     "text": [
      "Variable: TCW                  Importance: 0.17\n",
      "Variable: TCG                  Importance: 0.15\n",
      "Variable: EVI                  Importance: 0.13\n",
      "Variable: NDVI                 Importance: 0.12\n",
      "Variable: MSI                  Importance: 0.12\n",
      "Variable: SWIR                 Importance: 0.12\n",
      "Variable: MSAVI                Importance: 0.11\n",
      "Variable: SAVI                 Importance: 0.1\n",
      "Variable: TCB                  Importance: 0.09\n",
      "Variable: MNDWI                Importance: 0.09\n",
      "Variable: NDWI                 Importance: 0.08\n",
      "Variable: NDMI                 Importance: 0.08\n"
     ]
    }
   ],
   "source": [
    "feature_list =  ['TCB','TCG','TCW','NDWI','MNDWI','EVI','NDVI','SAVI','MSAVI','MSI','NDMI','SWIR']\n",
    "\n",
    "# List of tuples with variable and importance\n",
    "feature_importances = [(feature, round(importance, 2)) for feature, importance in zip(feature_list, importances)]\n",
    "\n",
    "# Sort the feature importances by most important first\n",
    "feature_importances = sorted(feature_importances, key = lambda x: x[1], reverse = True)\n",
    "\n",
    "# Print out the feature and importances \n",
    "[print('Variable: {:20} Importance: {}'.format(*pair)) for pair in feature_importances];"
   ]
  },
  {
   "cell_type": "code",
   "execution_count": 159,
   "metadata": {},
   "outputs": [
    {
     "data": {
      "image/png": "[encoded data removed]",
      "text/plain": [
       "<Figure size 432x288 with 1 Axes>"
      ]
     },
     "metadata": {
      "needs_background": "light"
     },
     "output_type": "display_data"
    }
   ],
   "source": [
    "# Reset style \n",
    "#plt.style.use('fivethirtyeight')\n",
    "# list of x locations for plotting\n",
    "x_values = list(range(len(importances)))\n",
    "\n",
    "# Make a bar chart\n",
    "plt.bar(x_values, importances, orientation = 'vertical', color = 'r', edgecolor = 'k', linewidth = 1.2)\n",
    "\n",
    "# Tick labels for x axis\n",
    "plt.xticks(x_values, feature_list, rotation='vertical')\n",
    "\n",
    "# Axis labels and title\n",
    "plt.ylabel('Importance'); plt.xlabel('Variable'); plt.title('Variable Importances');\n",
    "plt.grid()"
   ]
  },
  {
   "cell_type": "markdown",
   "metadata": {},
   "source": [
    "**Tunning the RF based f1 score**"
   ]
  },
  {
   "cell_type": "code",
   "execution_count": 177,
   "metadata": {},
   "outputs": [
    {
     "name": "stdout",
     "output_type": "stream",
     "text": [
      "Fitting 15 folds for each of 300 candidates, totalling 4500 fits\n"
     ]
    },
    {
     "name": "stderr",
     "output_type": "stream",
     "text": [
      "[Parallel(n_jobs=-1)]: Using backend LokyBackend with 8 concurrent workers.\n",
      "[Parallel(n_jobs=-1)]: Done  56 tasks      | elapsed:    0.8s\n",
      "[Parallel(n_jobs=-1)]: Done 416 tasks      | elapsed:   11.7s\n",
      "[Parallel(n_jobs=-1)]: Done 666 tasks      | elapsed:   28.3s\n",
      "[Parallel(n_jobs=-1)]: Done 1016 tasks      | elapsed:  1.0min\n",
      "[Parallel(n_jobs=-1)]: Done 1466 tasks      | elapsed:  2.0min\n",
      "[Parallel(n_jobs=-1)]: Done 2016 tasks      | elapsed:  3.5min\n",
      "[Parallel(n_jobs=-1)]: Done 2666 tasks      | elapsed:  5.1min\n",
      "[Parallel(n_jobs=-1)]: Done 3416 tasks      | elapsed:  7.3min\n",
      "[Parallel(n_jobs=-1)]: Done 4266 tasks      | elapsed: 10.4min\n",
      "[Parallel(n_jobs=-1)]: Done 4500 out of 4500 | elapsed: 11.2min finished\n"
     ]
    }
   ],
   "source": [
    "param_grid = {\n",
    "    'randomforestclassifier__n_estimators': [int(x) for x in np.linspace(1, 301, 300)],\n",
    "#     'bootstrap': [True],\n",
    "#     'max_depth': [100, None],\n",
    "#     'max_features': [3],\n",
    "#     'min_samples_leaf': [ 3],\n",
    "#     'min_samples_split': [2],\n",
    "}\n",
    "clf = make_pipeline(\n",
    "    QuantileTransformer(n_quantiles=50, output_distribution='uniform'), RandomForestClassifier())\n",
    "# Create the grid search model and fit to the training data\n",
    "tree_grid_search_all = GridSearchCV(estimator =clf, param_grid=param_grid,return_train_score=True,refit=True, verbose = 1, n_jobs=-1, cv = 15,\n",
    "                                scoring = 'f1')\n",
    "tree_grid_search_all.fit(X_train, train_labels);"
   ]
  },
  {
   "cell_type": "code",
   "execution_count": 178,
   "metadata": {},
   "outputs": [],
   "source": [
    "train_scores_all=tree_grid_search_all.cv_results_['mean_train_score']\n",
    "#train_scores\n",
    "test_scores_all=tree_grid_search_all.cv_results_['mean_test_score']\n",
    "#test_scores"
   ]
  },
  {
   "cell_type": "code",
   "execution_count": 179,
   "metadata": {},
   "outputs": [
    {
     "name": "stdout",
     "output_type": "stream",
     "text": [
      "[0, 1, 2, 3, 13, 4, 7, 10, 60, 26, 20, 5, 80, 107, 41, 47, 36, 173, 31, 21, 19, 69, 65, 85, 38, 268, 89, 101, 159, 287, 56, 111, 261, 45, 71, 192, 235, 242, 40, 22, 9, 14, 39, 143, 49, 34, 73, 109, 128, 97, 32, 24, 61, 201, 67, 189, 208, 37, 108, 142, 244, 113, 151, 165, 179, 182, 17, 131, 262, 92, 12, 54, 48, 43, 62, 74, 77, 94, 104, 124, 132, 135, 148, 160, 163, 164, 171, 172, 175, 178, 194, 218, 224, 226, 228, 233, 237, 240, 245, 248, 255, 257, 263, 264, 272, 274, 276, 278, 285, 291, 294, 297, 58, 68, 130, 199, 258, 266, 293, 112, 116, 185, 207, 18, 11, 6, 115, 72, 50, 114, 76, 55, 144, 25, 78, 79, 90, 247, 82, 87, 102, 117, 119, 121, 123, 134, 136, 147, 150, 152, 154, 162, 168, 169, 176, 180, 196, 197, 213, 217, 220, 225, 230, 236, 238, 239, 249, 250, 253, 256, 260, 269, 275, 279, 289, 290, 295, 28, 98, 138, 149, 202, 215, 216, 259, 270, 271, 277, 282, 288, 292, 81, 166, 177, 51, 241, 246, 296, 52, 29, 105, 8, 122, 137, 190, 195, 211, 214, 234, 15, 35, 153, 57, 66, 100, 126, 127, 133, 167, 187, 193, 198, 212, 219, 223, 227, 229, 231, 243, 265, 273, 281, 283, 286, 125, 298, 157, 120, 103, 23, 70, 59, 91, 129, 140, 161, 210, 251, 254, 88, 146, 204, 63, 184, 106, 155, 158, 64, 27, 96, 284, 42, 16, 86, 174, 203, 209, 232, 267, 299, 83, 141, 252, 46, 188, 170, 191, 53, 30, 75, 44, 200, 110, 156, 280, 33, 84, 93, 95, 99, 139, 181, 183, 186, 205, 206, 221, 222, 118, 145]\n"
     ]
    }
   ],
   "source": [
    "import operator\n",
    "enumerate_object = enumerate(test_scores_all)\n",
    "sorted_pairs = sorted(enumerate_object, key=operator.itemgetter(1))\n",
    "\n",
    "sorted_indices = []\n",
    "for index, element in sorted_pairs:\n",
    "    sorted_indices.append(index)\n",
    "print(sorted_indices)"
   ]
  },
  {
   "cell_type": "code",
   "execution_count": 180,
   "metadata": {},
   "outputs": [
    {
     "data": {
      "image/png": "[encoded data removed]",
      "text/plain": [
       "<Figure size 720x576 with 2 Axes>"
      ]
     },
     "metadata": {
      "needs_background": "light"
     },
     "output_type": "display_data"
    }
   ],
   "source": [
    "def plot_results(model, param = 'randomforestclassifier__n_estimators', name = 'Num Trees'):\n",
    "    param_name = 'param_%s' % param\n",
    "\n",
    "    # Extract information from the cross validation model\n",
    "    train_scores = model.cv_results_['mean_train_score']\n",
    "    test_scores = model.cv_results_['mean_test_score']\n",
    "    train_time = model.cv_results_['mean_fit_time']\n",
    "    param_values = list(model.cv_results_[param_name])\n",
    "    \n",
    "    # Plot the scores over the parameter\n",
    "    plt.subplots(2, 1, figsize=(10, 8))\n",
    "    plt.subplot(211)\n",
    "    plt.plot(param_values, train_scores, 'bo-', label = 'train')\n",
    "    plt.plot(param_values, test_scores, 'go-', label = 'test')\n",
    "    #plt.ylim(ymin = -10, ymax = 0)\n",
    "    plt.legend()\n",
    "    plt.xlabel(name)\n",
    "    plt.ylabel('f1')\n",
    "    plt.title('Score vs %s' % name)\n",
    "    \n",
    "    plt.grid()\n",
    "    plt.tight_layout(pad = 4)\n",
    "\n",
    "    plt.subplot(212)\n",
    "    plt.plot(param_values, train_time, 'ro')\n",
    "    #plt.ylim(ymin = 0.0, ymax = 2.0)\n",
    "    plt.xlabel(name)\n",
    "    plt.ylabel('Train Time (sec)')\n",
    "    plt.title('Training Time vs %s' % name)\n",
    "\n",
    "    plt.grid()\n",
    "    plt.tight_layout(pad = 4)\n",
    "    \n",
    "\n",
    "plot_results(tree_grid_search_all)"
   ]
  },
  {
   "cell_type": "code",
   "execution_count": 181,
   "metadata": {},
   "outputs": [
    {
     "name": "stdout",
     "output_type": "stream",
     "text": [
      "Fitting 15 folds for each of 11 candidates, totalling 165 fits\n"
     ]
    },
    {
     "name": "stderr",
     "output_type": "stream",
     "text": [
      "[Parallel(n_jobs=1)]: Using backend SequentialBackend with 1 concurrent workers.\n",
      "[Parallel(n_jobs=1)]: Done 165 out of 165 | elapsed:  1.7min finished\n"
     ]
    },
    {
     "name": "stdout",
     "output_type": "stream",
     "text": [
      "Fitting 15 folds for each of 11 candidates, totalling 165 fits\n"
     ]
    },
    {
     "name": "stderr",
     "output_type": "stream",
     "text": [
      "[Parallel(n_jobs=1)]: Using backend SequentialBackend with 1 concurrent workers.\n",
      "[Parallel(n_jobs=1)]: Done 165 out of 165 | elapsed:  1.7min finished\n"
     ]
    },
    {
     "name": "stdout",
     "output_type": "stream",
     "text": [
      "Fitting 15 folds for each of 11 candidates, totalling 165 fits\n"
     ]
    },
    {
     "name": "stderr",
     "output_type": "stream",
     "text": [
      "[Parallel(n_jobs=1)]: Using backend SequentialBackend with 1 concurrent workers.\n",
      "[Parallel(n_jobs=1)]: Done 165 out of 165 | elapsed:  1.7min finished\n"
     ]
    },
    {
     "name": "stdout",
     "output_type": "stream",
     "text": [
      "Fitting 15 folds for each of 11 candidates, totalling 165 fits\n"
     ]
    },
    {
     "name": "stderr",
     "output_type": "stream",
     "text": [
      "[Parallel(n_jobs=1)]: Using backend SequentialBackend with 1 concurrent workers.\n",
      "[Parallel(n_jobs=1)]: Done 165 out of 165 | elapsed:  1.7min finished\n"
     ]
    },
    {
     "name": "stdout",
     "output_type": "stream",
     "text": [
      "Fitting 15 folds for each of 11 candidates, totalling 165 fits\n"
     ]
    },
    {
     "name": "stderr",
     "output_type": "stream",
     "text": [
      "[Parallel(n_jobs=1)]: Using backend SequentialBackend with 1 concurrent workers.\n",
      "[Parallel(n_jobs=1)]: Done 165 out of 165 | elapsed:  1.8min finished\n"
     ]
    },
    {
     "name": "stdout",
     "output_type": "stream",
     "text": [
      "Fitting 15 folds for each of 11 candidates, totalling 165 fits\n"
     ]
    },
    {
     "name": "stderr",
     "output_type": "stream",
     "text": [
      "[Parallel(n_jobs=1)]: Using backend SequentialBackend with 1 concurrent workers.\n",
      "[Parallel(n_jobs=1)]: Done 165 out of 165 | elapsed:  1.7min finished\n"
     ]
    },
    {
     "name": "stdout",
     "output_type": "stream",
     "text": [
      "Fitting 15 folds for each of 11 candidates, totalling 165 fits\n"
     ]
    },
    {
     "name": "stderr",
     "output_type": "stream",
     "text": [
      "[Parallel(n_jobs=1)]: Using backend SequentialBackend with 1 concurrent workers.\n",
      "[Parallel(n_jobs=1)]: Done 165 out of 165 | elapsed:  1.6min finished\n"
     ]
    },
    {
     "name": "stdout",
     "output_type": "stream",
     "text": [
      "Fitting 15 folds for each of 11 candidates, totalling 165 fits\n"
     ]
    },
    {
     "name": "stderr",
     "output_type": "stream",
     "text": [
      "[Parallel(n_jobs=1)]: Using backend SequentialBackend with 1 concurrent workers.\n",
      "[Parallel(n_jobs=1)]: Done 165 out of 165 | elapsed:  1.7min finished\n"
     ]
    },
    {
     "name": "stdout",
     "output_type": "stream",
     "text": [
      "Fitting 15 folds for each of 11 candidates, totalling 165 fits\n"
     ]
    },
    {
     "name": "stderr",
     "output_type": "stream",
     "text": [
      "[Parallel(n_jobs=1)]: Using backend SequentialBackend with 1 concurrent workers.\n",
      "[Parallel(n_jobs=1)]: Done 165 out of 165 | elapsed:  1.7min finished\n"
     ]
    },
    {
     "name": "stdout",
     "output_type": "stream",
     "text": [
      "Fitting 15 folds for each of 11 candidates, totalling 165 fits\n"
     ]
    },
    {
     "name": "stderr",
     "output_type": "stream",
     "text": [
      "[Parallel(n_jobs=1)]: Using backend SequentialBackend with 1 concurrent workers.\n",
      "[Parallel(n_jobs=1)]: Done 165 out of 165 | elapsed:  1.6min finished\n"
     ]
    },
    {
     "name": "stdout",
     "output_type": "stream",
     "text": [
      "Fitting 15 folds for each of 11 candidates, totalling 165 fits\n"
     ]
    },
    {
     "name": "stderr",
     "output_type": "stream",
     "text": [
      "[Parallel(n_jobs=1)]: Using backend SequentialBackend with 1 concurrent workers.\n",
      "[Parallel(n_jobs=1)]: Done 165 out of 165 | elapsed:  1.6min finished\n"
     ]
    },
    {
     "name": "stdout",
     "output_type": "stream",
     "text": [
      "Fitting 15 folds for each of 11 candidates, totalling 165 fits\n"
     ]
    },
    {
     "name": "stderr",
     "output_type": "stream",
     "text": [
      "[Parallel(n_jobs=1)]: Using backend SequentialBackend with 1 concurrent workers.\n",
      "[Parallel(n_jobs=1)]: Done 165 out of 165 | elapsed:  1.6min finished\n"
     ]
    },
    {
     "name": "stdout",
     "output_type": "stream",
     "text": [
      "Fitting 15 folds for each of 11 candidates, totalling 165 fits\n"
     ]
    },
    {
     "name": "stderr",
     "output_type": "stream",
     "text": [
      "[Parallel(n_jobs=1)]: Using backend SequentialBackend with 1 concurrent workers.\n",
      "[Parallel(n_jobs=1)]: Done 165 out of 165 | elapsed:  1.6min finished\n"
     ]
    },
    {
     "name": "stdout",
     "output_type": "stream",
     "text": [
      "Fitting 15 folds for each of 11 candidates, totalling 165 fits\n"
     ]
    },
    {
     "name": "stderr",
     "output_type": "stream",
     "text": [
      "[Parallel(n_jobs=1)]: Using backend SequentialBackend with 1 concurrent workers.\n",
      "[Parallel(n_jobs=1)]: Done 165 out of 165 | elapsed:  1.7min finished\n"
     ]
    },
    {
     "name": "stdout",
     "output_type": "stream",
     "text": [
      "Fitting 15 folds for each of 11 candidates, totalling 165 fits\n"
     ]
    },
    {
     "name": "stderr",
     "output_type": "stream",
     "text": [
      "[Parallel(n_jobs=1)]: Using backend SequentialBackend with 1 concurrent workers.\n",
      "[Parallel(n_jobs=1)]: Done 165 out of 165 | elapsed:  1.7min finished\n"
     ]
    },
    {
     "name": "stdout",
     "output_type": "stream",
     "text": [
      "Fitting 15 folds for each of 11 candidates, totalling 165 fits\n"
     ]
    },
    {
     "name": "stderr",
     "output_type": "stream",
     "text": [
      "[Parallel(n_jobs=1)]: Using backend SequentialBackend with 1 concurrent workers.\n",
      "[Parallel(n_jobs=1)]: Done 165 out of 165 | elapsed:  1.7min finished\n"
     ]
    },
    {
     "name": "stdout",
     "output_type": "stream",
     "text": [
      "Accuracy : 0.9890 (+/- 0.0111)\n",
      "CPU times: user 26min 14s, sys: 15.2 s, total: 26min 30s\n",
      "Wall time: 26min 53s\n"
     ]
    }
   ],
   "source": [
    "%%time\n",
    "clf_c = make_pipeline(\n",
    "    QuantileTransformer(n_quantiles=50, output_distribution='uniform'), RandomForestClassifier())\n",
    "param_grid={'randomforestclassifier__criterion':['entropy'],\n",
    "           'randomforestclassifier__n_estimators': [ 99, 139, 181, 183, 186, 205, 206, 221, 222, 118, 145 ]}\n",
    "RF_model_tr_un_f1 = GridSearchCV(estimator=clf_c, param_grid=param_grid, cv=15,verbose=1, refit=True,return_train_score=True)   \n",
    "\n",
    "# evaluate\n",
    "cv = StratifiedShuffleSplit(n_splits=15)\n",
    "RF_model_tr_un, score, score_std = evaluate_model(RF_model_tr_un_f1, cv)\n",
    "\n",
    "\n",
    "# keep track of results\n",
    "names.append('RF_model_tr_un_f1')\n",
    "clfs.append(RF_model_tr_un)\n",
    "scores.append(score)\n",
    "scores_std.append(score_std)"
   ]
  },
  {
   "cell_type": "code",
   "execution_count": 182,
   "metadata": {},
   "outputs": [
    {
     "data": {
      "text/plain": [
       "Pipeline(steps=[('quantiletransformer', QuantileTransformer(n_quantiles=50)),\n",
       "                ('randomforestclassifier',\n",
       "                 RandomForestClassifier(criterion='entropy',\n",
       "                                        n_estimators=181))])"
      ]
     },
     "execution_count": 182,
     "metadata": {},
     "output_type": "execute_result"
    }
   ],
   "source": [
    "RF_model_tr_un_f1.best_estimator_"
   ]
  },
  {
   "cell_type": "code",
   "execution_count": 183,
   "metadata": {},
   "outputs": [
    {
     "data": {
      "text/plain": [
       "0.9950213371266002"
      ]
     },
     "execution_count": 183,
     "metadata": {},
     "output_type": "execute_result"
    }
   ],
   "source": [
    "RF_model_tr_un_f1.score(X_test,test_labels)"
   ]
  },
  {
   "cell_type": "code",
   "execution_count": 184,
   "metadata": {},
   "outputs": [],
   "source": [
    "# save results\n",
    "cv_results = pd.DataFrame(RF_model_tr_un_f1.cv_results_)      \n",
    "#cv_results"
   ]
  },
  {
   "cell_type": "code",
   "execution_count": 185,
   "metadata": {},
   "outputs": [
    {
     "name": "stdout",
     "output_type": "stream",
     "text": [
      "Fitting 15 folds for each of 11 candidates, totalling 165 fits\n"
     ]
    },
    {
     "name": "stderr",
     "output_type": "stream",
     "text": [
      "[Parallel(n_jobs=1)]: Using backend SequentialBackend with 1 concurrent workers.\n",
      "[Parallel(n_jobs=1)]: Done 165 out of 165 | elapsed:  1.1min finished\n"
     ]
    },
    {
     "name": "stdout",
     "output_type": "stream",
     "text": [
      "Fitting 15 folds for each of 11 candidates, totalling 165 fits\n"
     ]
    },
    {
     "name": "stderr",
     "output_type": "stream",
     "text": [
      "[Parallel(n_jobs=1)]: Using backend SequentialBackend with 1 concurrent workers.\n",
      "[Parallel(n_jobs=1)]: Done 165 out of 165 | elapsed:  1.1min finished\n"
     ]
    },
    {
     "name": "stdout",
     "output_type": "stream",
     "text": [
      "Fitting 15 folds for each of 11 candidates, totalling 165 fits\n"
     ]
    },
    {
     "name": "stderr",
     "output_type": "stream",
     "text": [
      "[Parallel(n_jobs=1)]: Using backend SequentialBackend with 1 concurrent workers.\n",
      "[Parallel(n_jobs=1)]: Done 165 out of 165 | elapsed:  1.1min finished\n"
     ]
    },
    {
     "name": "stdout",
     "output_type": "stream",
     "text": [
      "Fitting 15 folds for each of 11 candidates, totalling 165 fits\n"
     ]
    },
    {
     "name": "stderr",
     "output_type": "stream",
     "text": [
      "[Parallel(n_jobs=1)]: Using backend SequentialBackend with 1 concurrent workers.\n",
      "[Parallel(n_jobs=1)]: Done 165 out of 165 | elapsed:  1.1min finished\n"
     ]
    },
    {
     "name": "stdout",
     "output_type": "stream",
     "text": [
      "Fitting 15 folds for each of 11 candidates, totalling 165 fits\n"
     ]
    },
    {
     "name": "stderr",
     "output_type": "stream",
     "text": [
      "[Parallel(n_jobs=1)]: Using backend SequentialBackend with 1 concurrent workers.\n",
      "[Parallel(n_jobs=1)]: Done 165 out of 165 | elapsed:  1.1min finished\n"
     ]
    }
   ],
   "source": [
    "y_predicted7 = cross_val_predict(RF_model_tr_un_f1, X_test, test_labels)"
   ]
  },
  {
   "cell_type": "code",
   "execution_count": 186,
   "metadata": {},
   "outputs": [
    {
     "name": "stdout",
     "output_type": "stream",
     "text": [
      "              precision    recall  f1-score   support\n",
      "\n",
      "           0     0.9902    0.9951    0.9926      1220\n",
      "           1     0.9667    0.9355    0.9508       186\n",
      "\n",
      "    accuracy                         0.9872      1406\n",
      "   macro avg     0.9784    0.9653    0.9717      1406\n",
      "weighted avg     0.9871    0.9872    0.9871      1406\n",
      "\n"
     ]
    }
   ],
   "source": [
    "from sklearn import metrics\n",
    "print(metrics.classification_report(test_labels, y_predicted7, digits=4))"
   ]
  },
  {
   "cell_type": "code",
   "execution_count": 187,
   "metadata": {},
   "outputs": [
    {
     "data": {
      "text/plain": [
       "<sklearn.metrics._plot.confusion_matrix.ConfusionMatrixDisplay at 0x7ff6ed7e89d0>"
      ]
     },
     "execution_count": 187,
     "metadata": {},
     "output_type": "execute_result"
    },
    {
     "data": {
      "image/png": "[encoded data removed]",
      "text/plain": [
       "<Figure size 432x288 with 2 Axes>"
      ]
     },
     "metadata": {
      "needs_background": "light"
     },
     "output_type": "display_data"
    }
   ],
   "source": [
    "plot_confusion_matrix(RF_model_tr_un_f1, X_test, y_predicted7,\n",
    "                                 #display_labels=classnames,\n",
    "                                 cmap=plt.cm.Blues)"
   ]
  },
  {
   "cell_type": "code",
   "execution_count": 188,
   "metadata": {},
   "outputs": [],
   "source": [
    "import copy\n",
    "from sklearn.metrics import f1_score \n",
    "y_pred_RF=copy.deepcopy(y_predicted7)\n",
    "\n",
    "y_int=copy.deepcopy(test_labels)\n",
    "\n",
    "# reclassify the string label names as numeric values\n",
    "labels = ['no', 'yes']\n",
    "\n",
    "for i, label in enumerate(labels):\n",
    "    y_int[y_int == label] = i\n",
    "    y_pred_RF[y_pred_RF == label] = i\n",
    "y_int= y_int.astype(int)\n",
    "y_pred_RF= y_pred_RF.astype(int)\n",
    "\n",
    "f1_score(y_int, y_pred_RF)  \n",
    "\n",
    "f1.append(f1_score(y_int, y_pred_RF))"
   ]
  },
  {
   "cell_type": "code",
   "execution_count": 189,
   "metadata": {},
   "outputs": [
    {
     "data": {
      "text/plain": [
       "array([0.04225916, 0.0364637 , 0.13486786, 0.05091906, 0.03393594,\n",
       "       0.03217437, 0.10911502, 0.18121192, 0.12486487, 0.05593723,\n",
       "       0.042782  , 0.15546888])"
      ]
     },
     "execution_count": 189,
     "metadata": {},
     "output_type": "execute_result"
    }
   ],
   "source": [
    "RF_model_tr_un_f1.best_estimator_.named_steps['randomforestclassifier'].feature_importances_"
   ]
  },
  {
   "cell_type": "code",
   "execution_count": 190,
   "metadata": {},
   "outputs": [
    {
     "name": "stdout",
     "output_type": "stream",
     "text": [
      "Variable: SAVI                 Importance: 0.18\n",
      "Variable: SWIR                 Importance: 0.16\n",
      "Variable: TCW                  Importance: 0.13\n",
      "Variable: MSAVI                Importance: 0.12\n",
      "Variable: NDVI                 Importance: 0.11\n",
      "Variable: MSI                  Importance: 0.06\n",
      "Variable: NDWI                 Importance: 0.05\n",
      "Variable: TCB                  Importance: 0.04\n",
      "Variable: TCG                  Importance: 0.04\n",
      "Variable: NDMI                 Importance: 0.04\n",
      "Variable: MNDWI                Importance: 0.03\n",
      "Variable: EVI                  Importance: 0.03\n"
     ]
    }
   ],
   "source": [
    "feature_list =  ['TCB','TCG','TCW','NDWI','MNDWI','EVI','NDVI','SAVI','MSAVI','MSI','NDMI','SWIR']\n",
    "# Get numerical feature importances\n",
    "importances = list(RF_model_tr_un_f1.best_estimator_.named_steps['randomforestclassifier'].feature_importances_)\n",
    "\n",
    "# List of tuples with variable and importance\n",
    "feature_importances = [(feature, round(importance, 2)) for feature, importance in zip(feature_list, importances)]\n",
    "\n",
    "# Sort the feature importances by most important first\n",
    "feature_importances = sorted(feature_importances, key = lambda x: x[1], reverse = True)\n",
    "\n",
    "# Print out the feature and importances \n",
    "[print('Variable: {:20} Importance: {}'.format(*pair)) for pair in feature_importances];"
   ]
  },
  {
   "cell_type": "code",
   "execution_count": 191,
   "metadata": {},
   "outputs": [
    {
     "data": {
      "image/png": "[encoded data removed]",
      "text/plain": [
       "<Figure size 432x288 with 1 Axes>"
      ]
     },
     "metadata": {
      "needs_background": "light"
     },
     "output_type": "display_data"
    }
   ],
   "source": [
    "# Reset style \n",
    "#plt.style.use('fivethirtyeight')\n",
    "# list of x locations for plotting\n",
    "x_values = list(range(len(importances)))\n",
    "\n",
    "# Make a bar chart\n",
    "plt.bar(x_values, importances, orientation = 'vertical', color=\"r\",  edgecolor='k', linewidth = 1.2)\n",
    "\n",
    "# Tick labels for x axis\n",
    "plt.xticks(x_values, feature_list, rotation='vertical')\n",
    "\n",
    "# Axis labels and title\n",
    "plt.ylabel('Importance'); plt.xlabel('Variable'); plt.title('Variable Importances');\n",
    "plt.grid()"
   ]
  },
  {
   "cell_type": "code",
   "execution_count": 192,
   "metadata": {},
   "outputs": [
    {
     "name": "stdout",
     "output_type": "stream",
     "text": [
      "The false_positive_rate is: 0.004918032786885246\n",
      "The false_negative_rate is: 0.06451612903225806\n",
      "The true_negative_rate is: 0.9950819672131147\n",
      "The negative_predictive_value is: 0.9902120717781403\n",
      "The false_discovery_rate is: 0.03333333333333333\n",
      "The true_positive_rate is: 0.9354838709677419\n",
      "The positive_predictive_value is: 0.9666666666666667\n"
     ]
    }
   ],
   "source": [
    "from sklearn.metrics import confusion_matrix\n",
    "tn, fp, fn, tp = confusion_matrix(test_labels, y_predicted7).ravel()\n",
    "\n",
    "false_positive_rate = fp / (fp + tn)\n",
    "print(\"The false_positive_rate is:\",false_positive_rate)\n",
    "\n",
    "false_negative_rate = fn / (tp + fn)\n",
    "print(\"The false_negative_rate is:\",false_negative_rate)\n",
    "\n",
    "true_negative_rate = tn / (tn + fp)\n",
    "print(\"The true_negative_rate is:\",true_negative_rate)\n",
    "\n",
    "negative_predictive_value = tn/ (tn + fn)\n",
    "print(\"The negative_predictive_value is:\",negative_predictive_value)\n",
    "\n",
    "false_discovery_rate = fp/ (tp + fp)\n",
    "print(\"The false_discovery_rate is:\",false_discovery_rate)\n",
    "\n",
    "true_positive_rate = tp / (tp + fn)\n",
    "print(\"The true_positive_rate is:\",true_positive_rate)\n",
    "# or simply\n",
    "#recall_score(y_true, y_pred_class)\n",
    "\n",
    "positive_predictive_value = tp/ (tp + fp)\n",
    "print(\"The positive_predictive_value is:\",positive_predictive_value)"
   ]
  },
  {
   "cell_type": "markdown",
   "metadata": {},
   "source": [
    "## Tunning based on the accuracy"
   ]
  },
  {
   "cell_type": "markdown",
   "metadata": {},
   "source": [
    "**Tunning RF model based on the accuracy**"
   ]
  },
  {
   "cell_type": "code",
   "execution_count": 210,
   "metadata": {},
   "outputs": [
    {
     "name": "stdout",
     "output_type": "stream",
     "text": [
      "Fitting 15 folds for each of 300 candidates, totalling 4500 fits\n"
     ]
    },
    {
     "name": "stderr",
     "output_type": "stream",
     "text": [
      "[Parallel(n_jobs=-1)]: Using backend LokyBackend with 8 concurrent workers.\n",
      "[Parallel(n_jobs=-1)]: Done  34 tasks      | elapsed:    2.3s\n",
      "[Parallel(n_jobs=-1)]: Done 560 tasks      | elapsed:   11.5s\n",
      "[Parallel(n_jobs=-1)]: Done 930 tasks      | elapsed:   25.0s\n",
      "[Parallel(n_jobs=-1)]: Done 1280 tasks      | elapsed:   44.1s\n",
      "[Parallel(n_jobs=-1)]: Done 1730 tasks      | elapsed:  1.3min\n",
      "[Parallel(n_jobs=-1)]: Done 2280 tasks      | elapsed:  2.2min\n",
      "[Parallel(n_jobs=-1)]: Done 2930 tasks      | elapsed:  3.6min\n",
      "[Parallel(n_jobs=-1)]: Done 3680 tasks      | elapsed:  5.8min\n",
      "[Parallel(n_jobs=-1)]: Done 4500 out of 4500 | elapsed:  8.8min finished\n"
     ]
    }
   ],
   "source": [
    "param_grid = {\n",
    "    'randomforestclassifier__n_estimators': [int(x) for x in np.linspace(1, 301, 300)],\n",
    "#     'bootstrap': [True],\n",
    "#     'max_depth': [100, None],\n",
    "#     'max_features': [3],\n",
    "#     'min_samples_leaf': [ 3],\n",
    "#     'min_samples_split': [2],\n",
    "}\n",
    "clf = make_pipeline(\n",
    "    QuantileTransformer(n_quantiles=50, output_distribution='uniform'), RandomForestClassifier())\n",
    "# Create the grid search model and fit to the training data\n",
    "tree_grid_search_all = GridSearchCV(estimator =clf, param_grid=param_grid,return_train_score=True,refit=True, verbose = 1, n_jobs=-1, cv = 15,\n",
    "                                scoring = 'accuracy')\n",
    "tree_grid_search_all.fit(X_train, train_labels);"
   ]
  },
  {
   "cell_type": "code",
   "execution_count": 211,
   "metadata": {},
   "outputs": [],
   "source": [
    "# evaluate\n",
    "# tree_grid_search_all, score, score_std = evaluate_model(tree_grid_search_all, cv)"
   ]
  },
  {
   "cell_type": "code",
   "execution_count": 212,
   "metadata": {},
   "outputs": [],
   "source": [
    "train_scores_all=tree_grid_search_all.cv_results_['mean_train_score']\n",
    "#train_scores\n",
    "test_scores_all=tree_grid_search_all.cv_results_['mean_test_score']\n",
    "#test_scores"
   ]
  },
  {
   "cell_type": "code",
   "execution_count": 213,
   "metadata": {},
   "outputs": [],
   "source": [
    "#test_scores_all"
   ]
  },
  {
   "cell_type": "code",
   "execution_count": 214,
   "metadata": {},
   "outputs": [
    {
     "name": "stdout",
     "output_type": "stream",
     "text": [
      "[0, 1, 8, 2, 3, 10, 7, 26, 5, 4, 9, 18, 13, 11, 55, 28, 53, 6, 44, 82, 30, 73, 151, 210, 120, 187, 202, 40, 46, 58, 60, 76, 77, 81, 85, 124, 149, 156, 237, 260, 278, 281, 52, 64, 34, 61, 90, 37, 93, 94, 98, 112, 121, 125, 136, 137, 142, 147, 150, 165, 173, 177, 191, 192, 197, 199, 205, 206, 207, 240, 244, 246, 253, 255, 261, 262, 267, 270, 272, 275, 284, 285, 286, 299, 15, 23, 31, 71, 79, 83, 99, 103, 104, 131, 139, 144, 153, 161, 178, 198, 212, 227, 229, 252, 268, 269, 282, 287, 78, 102, 145, 155, 163, 180, 182, 203, 216, 230, 238, 242, 288, 290, 291, 17, 21, 35, 36, 42, 45, 67, 72, 87, 91, 92, 97, 101, 109, 113, 114, 116, 118, 128, 132, 140, 141, 148, 152, 154, 158, 159, 164, 168, 169, 172, 185, 186, 188, 189, 193, 194, 195, 196, 201, 204, 209, 213, 219, 220, 221, 223, 224, 226, 231, 232, 234, 235, 236, 239, 243, 245, 247, 250, 251, 259, 264, 265, 266, 280, 289, 293, 295, 297, 14, 20, 24, 38, 41, 68, 69, 117, 179, 16, 56, 27, 65, 86, 123, 133, 135, 138, 162, 171, 215, 225, 248, 254, 257, 271, 273, 298, 51, 59, 70, 75, 105, 106, 115, 122, 126, 130, 146, 166, 167, 170, 183, 190, 200, 228, 249, 274, 279, 292, 39, 84, 107, 134, 263, 19, 48, 12, 62, 80, 160, 208, 241, 276, 277, 25, 29, 33, 43, 47, 49, 54, 57, 63, 74, 88, 95, 96, 111, 119, 127, 143, 175, 181, 184, 222, 233, 256, 258, 283, 294, 296, 22, 66, 100, 108, 110, 157, 211, 217, 89, 129, 174, 218, 50, 176, 214, 32]\n"
     ]
    }
   ],
   "source": [
    "import operator\n",
    "enumerate_object = enumerate(test_scores_all)\n",
    "sorted_pairs = sorted(enumerate_object, key=operator.itemgetter(1))\n",
    "\n",
    "sorted_indices = []\n",
    "for index, element in sorted_pairs:\n",
    "    sorted_indices.append(index)\n",
    "print(sorted_indices)"
   ]
  },
  {
   "cell_type": "code",
   "execution_count": null,
   "metadata": {},
   "outputs": [],
   "source": [
    "# import numpy\n",
    "# maxElement = numpy.amax(test_scores_all)\n",
    "# print('Max element from Numpy Array : ', maxElement)\n",
    "# result = numpy.where(test_scores_all == numpy.amax(test_scores_all))\n",
    "# print('Returned tuple of arrays :', result)\n",
    "# print('List of Indices of maximum element :', result[0])"
   ]
  },
  {
   "cell_type": "code",
   "execution_count": 215,
   "metadata": {},
   "outputs": [
    {
     "data": {
      "image/png": "[encoded data removed]",
      "text/plain": [
       "<Figure size 720x576 with 2 Axes>"
      ]
     },
     "metadata": {
      "needs_background": "light"
     },
     "output_type": "display_data"
    }
   ],
   "source": [
    "def plot_results(model, param = 'randomforestclassifier__n_estimators', name = 'Num Trees'):\n",
    "    param_name = 'param_%s' % param\n",
    "\n",
    "    # Extract information from the cross validation model\n",
    "    train_scores = model.cv_results_['mean_train_score']\n",
    "    test_scores = model.cv_results_['mean_test_score']\n",
    "    train_time = model.cv_results_['mean_fit_time']\n",
    "    param_values = list(model.cv_results_[param_name])\n",
    "    \n",
    "    # Plot the scores over the parameter\n",
    "    plt.subplots(2, 1, figsize=(10, 8))\n",
    "    plt.subplot(211)\n",
    "    plt.plot(param_values, train_scores, 'bo-', label = 'train')\n",
    "    plt.plot(param_values, test_scores, 'go-', label = 'test')\n",
    "    #plt.ylim(ymin = -10, ymax = 0)\n",
    "    plt.legend()\n",
    "    plt.xlabel(name)\n",
    "    plt.ylabel('accuracy')\n",
    "    plt.title('Score vs %s' % name)\n",
    "    \n",
    "    plt.grid()\n",
    "    plt.tight_layout(pad = 4)\n",
    "\n",
    "    plt.subplot(212)\n",
    "    plt.plot(param_values, train_time, 'ro')\n",
    "    #plt.ylim(ymin = 0.0, ymax = 2.0)\n",
    "    plt.xlabel(name)\n",
    "    plt.ylabel('Train Time (sec)')\n",
    "    plt.title('Training Time vs %s' % name)\n",
    "\n",
    "    plt.grid()\n",
    "    plt.tight_layout(pad = 4)\n",
    "    \n",
    "\n",
    "plot_results(tree_grid_search_all)\n"
   ]
  },
  {
   "cell_type": "code",
   "execution_count": 216,
   "metadata": {},
   "outputs": [
    {
     "name": "stdout",
     "output_type": "stream",
     "text": [
      "Fitting 15 folds for each of 12 candidates, totalling 180 fits\n"
     ]
    },
    {
     "name": "stderr",
     "output_type": "stream",
     "text": [
      "[Parallel(n_jobs=1)]: Using backend SequentialBackend with 1 concurrent workers.\n",
      "[Parallel(n_jobs=1)]: Done 180 out of 180 | elapsed:  1.7min finished\n",
      "[Parallel(n_jobs=1)]: Using backend SequentialBackend with 1 concurrent workers.\n"
     ]
    },
    {
     "name": "stdout",
     "output_type": "stream",
     "text": [
      "Fitting 15 folds for each of 12 candidates, totalling 180 fits\n"
     ]
    },
    {
     "name": "stderr",
     "output_type": "stream",
     "text": [
      "[Parallel(n_jobs=1)]: Done 180 out of 180 | elapsed:  1.5min finished\n"
     ]
    },
    {
     "name": "stdout",
     "output_type": "stream",
     "text": [
      "Fitting 15 folds for each of 12 candidates, totalling 180 fits\n"
     ]
    },
    {
     "name": "stderr",
     "output_type": "stream",
     "text": [
      "[Parallel(n_jobs=1)]: Using backend SequentialBackend with 1 concurrent workers.\n",
      "[Parallel(n_jobs=1)]: Done 180 out of 180 | elapsed:  1.6min finished\n",
      "[Parallel(n_jobs=1)]: Using backend SequentialBackend with 1 concurrent workers.\n"
     ]
    },
    {
     "name": "stdout",
     "output_type": "stream",
     "text": [
      "Fitting 15 folds for each of 12 candidates, totalling 180 fits\n"
     ]
    },
    {
     "name": "stderr",
     "output_type": "stream",
     "text": [
      "[Parallel(n_jobs=1)]: Done 180 out of 180 | elapsed:  1.6min finished\n",
      "[Parallel(n_jobs=1)]: Using backend SequentialBackend with 1 concurrent workers.\n"
     ]
    },
    {
     "name": "stdout",
     "output_type": "stream",
     "text": [
      "Fitting 15 folds for each of 12 candidates, totalling 180 fits\n"
     ]
    },
    {
     "name": "stderr",
     "output_type": "stream",
     "text": [
      "[Parallel(n_jobs=1)]: Done 180 out of 180 | elapsed:  1.6min finished\n"
     ]
    },
    {
     "name": "stdout",
     "output_type": "stream",
     "text": [
      "Fitting 15 folds for each of 12 candidates, totalling 180 fits\n"
     ]
    },
    {
     "name": "stderr",
     "output_type": "stream",
     "text": [
      "[Parallel(n_jobs=1)]: Using backend SequentialBackend with 1 concurrent workers.\n",
      "[Parallel(n_jobs=1)]: Done 180 out of 180 | elapsed:  1.6min finished\n"
     ]
    },
    {
     "name": "stdout",
     "output_type": "stream",
     "text": [
      "Fitting 15 folds for each of 12 candidates, totalling 180 fits\n"
     ]
    },
    {
     "name": "stderr",
     "output_type": "stream",
     "text": [
      "[Parallel(n_jobs=1)]: Using backend SequentialBackend with 1 concurrent workers.\n",
      "[Parallel(n_jobs=1)]: Done 180 out of 180 | elapsed:  1.4min finished\n"
     ]
    },
    {
     "name": "stdout",
     "output_type": "stream",
     "text": [
      "Fitting 15 folds for each of 12 candidates, totalling 180 fits\n"
     ]
    },
    {
     "name": "stderr",
     "output_type": "stream",
     "text": [
      "[Parallel(n_jobs=1)]: Using backend SequentialBackend with 1 concurrent workers.\n",
      "[Parallel(n_jobs=1)]: Done 180 out of 180 | elapsed:  1.4min finished\n",
      "[Parallel(n_jobs=1)]: Using backend SequentialBackend with 1 concurrent workers.\n"
     ]
    },
    {
     "name": "stdout",
     "output_type": "stream",
     "text": [
      "Fitting 15 folds for each of 12 candidates, totalling 180 fits\n"
     ]
    },
    {
     "name": "stderr",
     "output_type": "stream",
     "text": [
      "[Parallel(n_jobs=1)]: Done 180 out of 180 | elapsed:  1.5min finished\n",
      "[Parallel(n_jobs=1)]: Using backend SequentialBackend with 1 concurrent workers.\n"
     ]
    },
    {
     "name": "stdout",
     "output_type": "stream",
     "text": [
      "Fitting 15 folds for each of 12 candidates, totalling 180 fits\n"
     ]
    },
    {
     "name": "stderr",
     "output_type": "stream",
     "text": [
      "[Parallel(n_jobs=1)]: Done 180 out of 180 | elapsed:  1.4min finished\n"
     ]
    },
    {
     "name": "stdout",
     "output_type": "stream",
     "text": [
      "Fitting 15 folds for each of 12 candidates, totalling 180 fits\n"
     ]
    },
    {
     "name": "stderr",
     "output_type": "stream",
     "text": [
      "[Parallel(n_jobs=1)]: Using backend SequentialBackend with 1 concurrent workers.\n",
      "[Parallel(n_jobs=1)]: Done 180 out of 180 | elapsed:  1.4min finished\n"
     ]
    },
    {
     "name": "stdout",
     "output_type": "stream",
     "text": [
      "Fitting 15 folds for each of 12 candidates, totalling 180 fits\n"
     ]
    },
    {
     "name": "stderr",
     "output_type": "stream",
     "text": [
      "[Parallel(n_jobs=1)]: Using backend SequentialBackend with 1 concurrent workers.\n",
      "[Parallel(n_jobs=1)]: Done 180 out of 180 | elapsed:  1.4min finished\n"
     ]
    },
    {
     "name": "stdout",
     "output_type": "stream",
     "text": [
      "Fitting 15 folds for each of 12 candidates, totalling 180 fits\n"
     ]
    },
    {
     "name": "stderr",
     "output_type": "stream",
     "text": [
      "[Parallel(n_jobs=1)]: Using backend SequentialBackend with 1 concurrent workers.\n",
      "[Parallel(n_jobs=1)]: Done 180 out of 180 | elapsed:  1.4min finished\n"
     ]
    },
    {
     "name": "stdout",
     "output_type": "stream",
     "text": [
      "Fitting 15 folds for each of 12 candidates, totalling 180 fits\n"
     ]
    },
    {
     "name": "stderr",
     "output_type": "stream",
     "text": [
      "[Parallel(n_jobs=1)]: Using backend SequentialBackend with 1 concurrent workers.\n",
      "[Parallel(n_jobs=1)]: Done 180 out of 180 | elapsed:  1.4min finished\n"
     ]
    },
    {
     "name": "stdout",
     "output_type": "stream",
     "text": [
      "Fitting 15 folds for each of 12 candidates, totalling 180 fits\n"
     ]
    },
    {
     "name": "stderr",
     "output_type": "stream",
     "text": [
      "[Parallel(n_jobs=1)]: Using backend SequentialBackend with 1 concurrent workers.\n",
      "[Parallel(n_jobs=1)]: Done 180 out of 180 | elapsed:  1.3min finished\n",
      "[Parallel(n_jobs=1)]: Using backend SequentialBackend with 1 concurrent workers.\n"
     ]
    },
    {
     "name": "stdout",
     "output_type": "stream",
     "text": [
      "Fitting 15 folds for each of 12 candidates, totalling 180 fits\n"
     ]
    },
    {
     "name": "stderr",
     "output_type": "stream",
     "text": [
      "[Parallel(n_jobs=1)]: Done 180 out of 180 | elapsed:  1.4min finished\n"
     ]
    },
    {
     "name": "stdout",
     "output_type": "stream",
     "text": [
      "Accuracy : 0.9893 (+/- 0.0140)\n",
      "CPU times: user 23min 15s, sys: 9.38 s, total: 23min 25s\n",
      "Wall time: 23min 34s\n"
     ]
    }
   ],
   "source": [
    "%%time\n",
    "clf_c = make_pipeline(\n",
    "    QuantileTransformer(n_quantiles=50, output_distribution='uniform'), RandomForestClassifier())\n",
    "param_grid={'randomforestclassifier__criterion':['entropy'],\n",
    "           'randomforestclassifier__n_estimators': [ 110, 157, 211, 217, 89, 129, 174, 218, 50, 176, 214, 32]}\n",
    "RF_model_tr_un_acc = GridSearchCV(estimator=clf_c, param_grid=param_grid, cv=15,verbose=1, refit=True,return_train_score=True)   \n",
    "\n",
    "# evaluate\n",
    "cv = StratifiedShuffleSplit(n_splits=15)\n",
    "RF_model_tr_un_acc, score, score_std = evaluate_model(RF_model_tr_un_acc, cv)\n",
    "\n",
    "\n",
    "# keep track of results\n",
    "\n",
    "\n",
    "names.append('RF_model_tr_un_acc')\n",
    "clfs.append(RF_model_tr_un_acc)\n",
    "scores.append(score)\n",
    "scores_std.append(score_std)"
   ]
  },
  {
   "cell_type": "code",
   "execution_count": 217,
   "metadata": {},
   "outputs": [
    {
     "data": {
      "text/plain": [
       "Pipeline(steps=[('quantiletransformer', QuantileTransformer(n_quantiles=50)),\n",
       "                ('randomforestclassifier',\n",
       "                 RandomForestClassifier(criterion='entropy', n_estimators=50))])"
      ]
     },
     "execution_count": 217,
     "metadata": {},
     "output_type": "execute_result"
    }
   ],
   "source": [
    "RF_model_tr_un_acc.best_estimator_"
   ]
  },
  {
   "cell_type": "code",
   "execution_count": 218,
   "metadata": {},
   "outputs": [
    {
     "data": {
      "text/plain": [
       "0.9928876244665719"
      ]
     },
     "execution_count": 218,
     "metadata": {},
     "output_type": "execute_result"
    }
   ],
   "source": [
    "RF_model_tr_un_acc.score(X_test,test_labels)"
   ]
  },
  {
   "cell_type": "code",
   "execution_count": 219,
   "metadata": {},
   "outputs": [],
   "source": [
    "# save results\n",
    "cv_results = pd.DataFrame(RF_model_tr_un_acc.cv_results_)      \n",
    "#cv_results"
   ]
  },
  {
   "cell_type": "code",
   "execution_count": 220,
   "metadata": {},
   "outputs": [
    {
     "name": "stdout",
     "output_type": "stream",
     "text": [
      "Fitting 15 folds for each of 12 candidates, totalling 180 fits\n"
     ]
    },
    {
     "name": "stderr",
     "output_type": "stream",
     "text": [
      "[Parallel(n_jobs=1)]: Using backend SequentialBackend with 1 concurrent workers.\n",
      "[Parallel(n_jobs=1)]: Done 180 out of 180 | elapsed:   57.0s finished\n"
     ]
    },
    {
     "name": "stdout",
     "output_type": "stream",
     "text": [
      "Fitting 15 folds for each of 12 candidates, totalling 180 fits\n"
     ]
    },
    {
     "name": "stderr",
     "output_type": "stream",
     "text": [
      "[Parallel(n_jobs=1)]: Using backend SequentialBackend with 1 concurrent workers.\n",
      "[Parallel(n_jobs=1)]: Done 180 out of 180 | elapsed:   54.5s finished\n"
     ]
    },
    {
     "name": "stdout",
     "output_type": "stream",
     "text": [
      "Fitting 15 folds for each of 12 candidates, totalling 180 fits\n"
     ]
    },
    {
     "name": "stderr",
     "output_type": "stream",
     "text": [
      "[Parallel(n_jobs=1)]: Using backend SequentialBackend with 1 concurrent workers.\n",
      "[Parallel(n_jobs=1)]: Done 180 out of 180 | elapsed:   55.8s finished\n"
     ]
    },
    {
     "name": "stdout",
     "output_type": "stream",
     "text": [
      "Fitting 15 folds for each of 12 candidates, totalling 180 fits\n"
     ]
    },
    {
     "name": "stderr",
     "output_type": "stream",
     "text": [
      "[Parallel(n_jobs=1)]: Using backend SequentialBackend with 1 concurrent workers.\n",
      "[Parallel(n_jobs=1)]: Done 180 out of 180 | elapsed:   56.1s finished\n"
     ]
    },
    {
     "name": "stdout",
     "output_type": "stream",
     "text": [
      "Fitting 15 folds for each of 12 candidates, totalling 180 fits\n"
     ]
    },
    {
     "name": "stderr",
     "output_type": "stream",
     "text": [
      "[Parallel(n_jobs=1)]: Using backend SequentialBackend with 1 concurrent workers.\n",
      "[Parallel(n_jobs=1)]: Done 180 out of 180 | elapsed:   55.9s finished\n"
     ]
    }
   ],
   "source": [
    "y_predicted9= cross_val_predict(RF_model_tr_un_acc, X_test, test_labels)"
   ]
  },
  {
   "cell_type": "code",
   "execution_count": 288,
   "metadata": {},
   "outputs": [
    {
     "name": "stdout",
     "output_type": "stream",
     "text": [
      "              precision    recall  f1-score   support\n",
      "\n",
      "           0     0.9894    0.9951    0.9922      1220\n",
      "           1     0.9665    0.9301    0.9479       186\n",
      "\n",
      "    accuracy                         0.9865      1406\n",
      "   macro avg     0.9779    0.9626    0.9701      1406\n",
      "weighted avg     0.9864    0.9865    0.9864      1406\n",
      "\n"
     ]
    }
   ],
   "source": [
    "from sklearn import metrics\n",
    "print(metrics.classification_report(test_labels, y_predicted9, digits=4))"
   ]
  },
  {
   "cell_type": "code",
   "execution_count": 222,
   "metadata": {},
   "outputs": [
    {
     "data": {
      "text/plain": [
       "<sklearn.metrics._plot.confusion_matrix.ConfusionMatrixDisplay at 0x7ff6ed75cc10>"
      ]
     },
     "execution_count": 222,
     "metadata": {},
     "output_type": "execute_result"
    },
    {
     "data": {
      "image/png": "[encoded data removed]",
      "text/plain": [
       "<Figure size 432x288 with 2 Axes>"
      ]
     },
     "metadata": {
      "needs_background": "light"
     },
     "output_type": "display_data"
    }
   ],
   "source": [
    "plot_confusion_matrix(RF_model_tr_un_acc, X_test, y_predicted9,\n",
    "                                 #display_labels=classnames,\n",
    "                                 cmap=plt.cm.Blues)"
   ]
  },
  {
   "cell_type": "code",
   "execution_count": 223,
   "metadata": {},
   "outputs": [],
   "source": [
    "import copy\n",
    "from sklearn.metrics import f1_score \n",
    "y_pred_RF=copy.deepcopy(y_predicted9)\n",
    "\n",
    "y_int=copy.deepcopy(test_labels)\n",
    "\n",
    "# reclassify the string label names as numeric values\n",
    "labels = ['no', 'yes']\n",
    "\n",
    "for i, label in enumerate(labels):\n",
    "    y_int[y_int == label] = i\n",
    "    y_pred_RF[y_pred_RF == label] = i\n",
    "y_int= y_int.astype(int)\n",
    "y_pred_RF= y_pred_RF.astype(int)\n",
    "\n",
    "f1_score(y_int, y_pred_RF)  \n",
    "\n",
    "f1.append(f1_score(y_int, y_pred_RF))"
   ]
  },
  {
   "cell_type": "code",
   "execution_count": 224,
   "metadata": {},
   "outputs": [
    {
     "data": {
      "text/plain": [
       "array([0.04591692, 0.03378778, 0.13361605, 0.05441775, 0.02411133,\n",
       "       0.03371512, 0.08353195, 0.21277787, 0.11730383, 0.04554531,\n",
       "       0.03359523, 0.18168085])"
      ]
     },
     "execution_count": 224,
     "metadata": {},
     "output_type": "execute_result"
    }
   ],
   "source": [
    "RF_model_tr_un_acc.best_estimator_.named_steps['randomforestclassifier'].feature_importances_"
   ]
  },
  {
   "cell_type": "code",
   "execution_count": 225,
   "metadata": {},
   "outputs": [],
   "source": [
    "# import pandas as pd\n",
    "# feature_imp = pd.Series(RF_model_tr_un.best_estimator_.named_steps['randomforestclassifier'].feature_importances_).sort_values(ascending=False)\n",
    "# #feature_imp\n",
    "\n",
    "# features=pd.Series(RF_model_tr_un.best_estimator_.named_steps['randomforestclassifier'].feature_importances_)\n",
    "# #features\n",
    "\n",
    "# band_list1 =  ['TCB','TCG','TCW','NDWI','MNDWI','EVI','NDVI','SAVI','MSAVI','MSI','NDMI','SWIR','Slope']\n",
    "# plt.figure(figsize=(12, 8))\n",
    "# plt.plot(band_list1, features,\"-o\")\n",
    "# plt.grid()"
   ]
  },
  {
   "cell_type": "code",
   "execution_count": 226,
   "metadata": {},
   "outputs": [
    {
     "name": "stdout",
     "output_type": "stream",
     "text": [
      "Variable: SAVI                 Importance: 0.21\n",
      "Variable: SWIR                 Importance: 0.18\n",
      "Variable: TCW                  Importance: 0.13\n",
      "Variable: MSAVI                Importance: 0.12\n",
      "Variable: NDVI                 Importance: 0.08\n",
      "Variable: TCB                  Importance: 0.05\n",
      "Variable: NDWI                 Importance: 0.05\n",
      "Variable: MSI                  Importance: 0.05\n",
      "Variable: TCG                  Importance: 0.03\n",
      "Variable: EVI                  Importance: 0.03\n",
      "Variable: NDMI                 Importance: 0.03\n",
      "Variable: MNDWI                Importance: 0.02\n"
     ]
    }
   ],
   "source": [
    "feature_list =  ['TCB','TCG','TCW','NDWI','MNDWI','EVI','NDVI','SAVI','MSAVI','MSI','NDMI','SWIR']\n",
    "# Get numerical feature importances\n",
    "importances = list(RF_model_tr_un_acc.best_estimator_.named_steps['randomforestclassifier'].feature_importances_)\n",
    "\n",
    "# List of tuples with variable and importance\n",
    "feature_importances = [(feature, round(importance, 2)) for feature, importance in zip(feature_list, importances)]\n",
    "\n",
    "# Sort the feature importances by most important first\n",
    "feature_importances = sorted(feature_importances, key = lambda x: x[1], reverse = True)\n",
    "\n",
    "# Print out the feature and importances \n",
    "[print('Variable: {:20} Importance: {}'.format(*pair)) for pair in feature_importances];"
   ]
  },
  {
   "cell_type": "code",
   "execution_count": 227,
   "metadata": {},
   "outputs": [
    {
     "data": {
      "image/png": "[encoded data removed]",
      "text/plain": [
       "<Figure size 432x288 with 1 Axes>"
      ]
     },
     "metadata": {
      "needs_background": "light"
     },
     "output_type": "display_data"
    }
   ],
   "source": [
    "# Reset style \n",
    "#plt.style.use('fivethirtyeight')\n",
    "# list of x locations for plotting\n",
    "x_values = list(range(len(importances)))\n",
    "\n",
    "# Make a bar chart\n",
    "plt.bar(x_values, importances, orientation = 'vertical', color = 'r', edgecolor = 'k', linewidth = 1.2)\n",
    "\n",
    "# Tick labels for x axis\n",
    "plt.xticks(x_values, feature_list, rotation='vertical')\n",
    "\n",
    "# Axis labels and title\n",
    "plt.ylabel('Importance'); plt.xlabel('Variable'); plt.title('Variable Importances');\n",
    "plt.grid()"
   ]
  },
  {
   "cell_type": "code",
   "execution_count": 228,
   "metadata": {},
   "outputs": [
    {
     "data": {
      "image/png": "[encoded data removed]",
      "text/plain": [
       "<Figure size 432x288 with 1 Axes>"
      ]
     },
     "metadata": {
      "needs_background": "light"
     },
     "output_type": "display_data"
    }
   ],
   "source": [
    "# List of features sorted from most to least important\n",
    "sorted_importances = [importance[1] for importance in feature_importances]\n",
    "sorted_features = [importance[0] for importance in feature_importances]\n",
    "\n",
    "# Cumulative importances\n",
    "cumulative_importances = np.cumsum(sorted_importances)\n",
    "\n",
    "# Make a line graph\n",
    "plt.plot(x_values, cumulative_importances, 'g-')\n",
    "\n",
    "# Draw line at 95% of importance retained\n",
    "plt.hlines(y = 0.997, xmin=0, xmax=len(sorted_importances), color = 'r', linestyles = 'dashed')\n",
    "\n",
    "# Format x ticks and labels\n",
    "plt.xticks(x_values, sorted_features, rotation = 'vertical')\n",
    "\n",
    "# Axis labels and title\n",
    "plt.xlabel('Variable'); plt.ylabel('Cumulative Importance'); plt.title('Cumulative Importances');\n",
    "plt.grid()"
   ]
  },
  {
   "cell_type": "code",
   "execution_count": 229,
   "metadata": {},
   "outputs": [
    {
     "name": "stdout",
     "output_type": "stream",
     "text": [
      "The false_positive_rate is: 0.004918032786885246\n",
      "The false_negative_rate is: 0.06989247311827956\n",
      "The true_negative_rate is: 0.9950819672131147\n",
      "The negative_predictive_value is: 0.9894050529747351\n",
      "The false_discovery_rate is: 0.0335195530726257\n",
      "The true_positive_rate is: 0.9301075268817204\n",
      "The positive_predictive_value is: 0.9664804469273743\n"
     ]
    }
   ],
   "source": [
    "from sklearn.metrics import confusion_matrix\n",
    "tn, fp, fn, tp = confusion_matrix(test_labels, y_predicted9).ravel()\n",
    "\n",
    "false_positive_rate = fp / (fp + tn)\n",
    "print(\"The false_positive_rate is:\",false_positive_rate)\n",
    "\n",
    "false_negative_rate = fn / (tp + fn)\n",
    "print(\"The false_negative_rate is:\",false_negative_rate)\n",
    "\n",
    "true_negative_rate = tn / (tn + fp)\n",
    "print(\"The true_negative_rate is:\",true_negative_rate)\n",
    "\n",
    "negative_predictive_value = tn/ (tn + fn)\n",
    "print(\"The negative_predictive_value is:\",negative_predictive_value)\n",
    "\n",
    "false_discovery_rate = fp/ (tp + fp)\n",
    "print(\"The false_discovery_rate is:\",false_discovery_rate)\n",
    "\n",
    "true_positive_rate = tp / (tp + fn)\n",
    "print(\"The true_positive_rate is:\",true_positive_rate)\n",
    "# or simply\n",
    "#recall_score(y_true, y_pred_class)\n",
    "\n",
    "positive_predictive_value = tp/ (tp + fp)\n",
    "print(\"The positive_predictive_value is:\",positive_predictive_value)"
   ]
  },
  {
   "cell_type": "code",
   "execution_count": 230,
   "metadata": {},
   "outputs": [
    {
     "data": {
      "text/plain": [
       "(1406,)"
      ]
     },
     "execution_count": 230,
     "metadata": {},
     "output_type": "execute_result"
    }
   ],
   "source": [
    "y_score_1 = RF_model_tr_un.predict_proba(X_test)[:, 1]\n",
    "y_score_1.shape\n",
    "\n",
    "y_score_0 = RF_model_tr_un.predict_proba(X_test)[:, 0]\n",
    "y_score_0.shape"
   ]
  },
  {
   "cell_type": "code",
   "execution_count": 231,
   "metadata": {},
   "outputs": [],
   "source": [
    "y_score_0_1=RF_model_tr_un.predict_proba(X)"
   ]
  },
  {
   "cell_type": "code",
   "execution_count": null,
   "metadata": {},
   "outputs": [],
   "source": []
  },
  {
   "cell_type": "markdown",
   "metadata": {},
   "source": [
    "# For each scene: using the model with the highest metric, predict the RTSs on the entire scene.\n"
   ]
  },
  {
   "cell_type": "markdown",
   "metadata": {},
   "source": [
    "**Metric = Accuracy**"
   ]
  },
  {
   "cell_type": "code",
   "execution_count": 285,
   "metadata": {},
   "outputs": [
    {
     "data": {
      "text/html": [
       "<div>\n",
       "<style scoped>\n",
       "    .dataframe tbody tr th:only-of-type {\n",
       "        vertical-align: middle;\n",
       "    }\n",
       "\n",
       "    .dataframe tbody tr th {\n",
       "        vertical-align: top;\n",
       "    }\n",
       "\n",
       "    .dataframe thead th {\n",
       "        text-align: right;\n",
       "    }\n",
       "</style>\n",
       "<table border=\"1\" class=\"dataframe\">\n",
       "  <thead>\n",
       "    <tr style=\"text-align: right;\">\n",
       "      <th></th>\n",
       "      <th>clf</th>\n",
       "      <th>score</th>\n",
       "      <th>score_std</th>\n",
       "    </tr>\n",
       "  </thead>\n",
       "  <tbody>\n",
       "    <tr>\n",
       "      <th>knn_model_tr_uni_acc</th>\n",
       "      <td>GridSearchCV(cv=10,\\n             estimator=Pi...</td>\n",
       "      <td>0.987739</td>\n",
       "      <td>0.009873</td>\n",
       "    </tr>\n",
       "    <tr>\n",
       "      <th>knn_model_tr_un_f1</th>\n",
       "      <td>GridSearchCV(cv=15,\\n             estimator=Pi...</td>\n",
       "      <td>0.987739</td>\n",
       "      <td>0.008012</td>\n",
       "    </tr>\n",
       "    <tr>\n",
       "      <th>RF_model_tr_nor_f1</th>\n",
       "      <td>GridSearchCV(cv=15,\\n             estimator=Pi...</td>\n",
       "      <td>0.987995</td>\n",
       "      <td>0.012154</td>\n",
       "    </tr>\n",
       "    <tr>\n",
       "      <th>RF_100_trees_uni</th>\n",
       "      <td>GridSearchCV(cv=15,\\n             estimator=Pi...</td>\n",
       "      <td>0.988497</td>\n",
       "      <td>0.011906</td>\n",
       "    </tr>\n",
       "    <tr>\n",
       "      <th>RF_100_trees_normal</th>\n",
       "      <td>GridSearchCV(cv=15,\\n             estimator=Pi...</td>\n",
       "      <td>0.988497</td>\n",
       "      <td>0.011906</td>\n",
       "    </tr>\n",
       "    <tr>\n",
       "      <th>KNN_QT_uniform</th>\n",
       "      <td>GridSearchCV(cv=15,\\n             estimator=Pi...</td>\n",
       "      <td>0.988497</td>\n",
       "      <td>0.010321</td>\n",
       "    </tr>\n",
       "    <tr>\n",
       "      <th>RF_model_tr_nor_acc</th>\n",
       "      <td>GridSearchCV(cv=15,\\n             estimator=Pi...</td>\n",
       "      <td>0.988506</td>\n",
       "      <td>0.011537</td>\n",
       "    </tr>\n",
       "    <tr>\n",
       "      <th>KNN_QT_normal</th>\n",
       "      <td>GridSearchCV(cv=15,\\n             estimator=Pi...</td>\n",
       "      <td>0.988882</td>\n",
       "      <td>0.011483</td>\n",
       "    </tr>\n",
       "    <tr>\n",
       "      <th>knn_model_tr_norm_acc</th>\n",
       "      <td>GridSearchCV(cv=10,\\n             estimator=Pi...</td>\n",
       "      <td>0.988889</td>\n",
       "      <td>0.010535</td>\n",
       "    </tr>\n",
       "    <tr>\n",
       "      <th>RF_model_tr_un_f1</th>\n",
       "      <td>GridSearchCV(cv=15,\\n             estimator=Pi...</td>\n",
       "      <td>0.989017</td>\n",
       "      <td>0.011146</td>\n",
       "    </tr>\n",
       "    <tr>\n",
       "      <th>RF_model_tr_un_acc</th>\n",
       "      <td>GridSearchCV(cv=15,\\n             estimator=Pi...</td>\n",
       "      <td>0.989272</td>\n",
       "      <td>0.014046</td>\n",
       "    </tr>\n",
       "    <tr>\n",
       "      <th>knn_model_tr_nor</th>\n",
       "      <td>GridSearchCV(cv=10,\\n             estimator=Pi...</td>\n",
       "      <td>0.991315</td>\n",
       "      <td>0.010642</td>\n",
       "    </tr>\n",
       "  </tbody>\n",
       "</table>\n",
       "</div>"
      ],
      "text/plain": [
       "                                                                     clf  \\\n",
       "knn_model_tr_uni_acc   GridSearchCV(cv=10,\\n             estimator=Pi...   \n",
       "knn_model_tr_un_f1     GridSearchCV(cv=15,\\n             estimator=Pi...   \n",
       "RF_model_tr_nor_f1     GridSearchCV(cv=15,\\n             estimator=Pi...   \n",
       "RF_100_trees_uni       GridSearchCV(cv=15,\\n             estimator=Pi...   \n",
       "RF_100_trees_normal    GridSearchCV(cv=15,\\n             estimator=Pi...   \n",
       "KNN_QT_uniform         GridSearchCV(cv=15,\\n             estimator=Pi...   \n",
       "RF_model_tr_nor_acc    GridSearchCV(cv=15,\\n             estimator=Pi...   \n",
       "KNN_QT_normal          GridSearchCV(cv=15,\\n             estimator=Pi...   \n",
       "knn_model_tr_norm_acc  GridSearchCV(cv=10,\\n             estimator=Pi...   \n",
       "RF_model_tr_un_f1      GridSearchCV(cv=15,\\n             estimator=Pi...   \n",
       "RF_model_tr_un_acc     GridSearchCV(cv=15,\\n             estimator=Pi...   \n",
       "knn_model_tr_nor       GridSearchCV(cv=10,\\n             estimator=Pi...   \n",
       "\n",
       "                          score  score_std  \n",
       "knn_model_tr_uni_acc   0.987739   0.009873  \n",
       "knn_model_tr_un_f1     0.987739   0.008012  \n",
       "RF_model_tr_nor_f1     0.987995   0.012154  \n",
       "RF_100_trees_uni       0.988497   0.011906  \n",
       "RF_100_trees_normal    0.988497   0.011906  \n",
       "KNN_QT_uniform         0.988497   0.010321  \n",
       "RF_model_tr_nor_acc    0.988506   0.011537  \n",
       "KNN_QT_normal          0.988882   0.011483  \n",
       "knn_model_tr_norm_acc  0.988889   0.010535  \n",
       "RF_model_tr_un_f1      0.989017   0.011146  \n",
       "RF_model_tr_un_acc     0.989272   0.014046  \n",
       "knn_model_tr_nor       0.991315   0.010642  "
      ]
     },
     "execution_count": 285,
     "metadata": {},
     "output_type": "execute_result"
    }
   ],
   "source": [
    "res = pd.DataFrame(index=names, data={'clf': clfs, 'score': scores, 'score_std': scores_std})\n",
    "res.sort_values('score')"
   ]
  },
  {
   "cell_type": "markdown",
   "metadata": {},
   "source": [
    "**Metric = f1 score**"
   ]
  },
  {
   "cell_type": "code",
   "execution_count": 286,
   "metadata": {},
   "outputs": [
    {
     "data": {
      "text/html": [
       "<div>\n",
       "<style scoped>\n",
       "    .dataframe tbody tr th:only-of-type {\n",
       "        vertical-align: middle;\n",
       "    }\n",
       "\n",
       "    .dataframe tbody tr th {\n",
       "        vertical-align: top;\n",
       "    }\n",
       "\n",
       "    .dataframe thead th {\n",
       "        text-align: right;\n",
       "    }\n",
       "</style>\n",
       "<table border=\"1\" class=\"dataframe\">\n",
       "  <thead>\n",
       "    <tr style=\"text-align: right;\">\n",
       "      <th></th>\n",
       "      <th>clf</th>\n",
       "      <th>score</th>\n",
       "      <th>score_std</th>\n",
       "      <th>f1</th>\n",
       "    </tr>\n",
       "  </thead>\n",
       "  <tbody>\n",
       "    <tr>\n",
       "      <th>KNN_QT_normal</th>\n",
       "      <td>GridSearchCV(cv=15,\\n             estimator=Pi...</td>\n",
       "      <td>0.988882</td>\n",
       "      <td>0.011483</td>\n",
       "      <td>0.932615</td>\n",
       "    </tr>\n",
       "    <tr>\n",
       "      <th>RF_model_tr_nor_f1</th>\n",
       "      <td>GridSearchCV(cv=15,\\n             estimator=Pi...</td>\n",
       "      <td>0.987995</td>\n",
       "      <td>0.012154</td>\n",
       "      <td>0.933702</td>\n",
       "    </tr>\n",
       "    <tr>\n",
       "      <th>knn_model_tr_nor</th>\n",
       "      <td>GridSearchCV(cv=10,\\n             estimator=Pi...</td>\n",
       "      <td>0.991315</td>\n",
       "      <td>0.010642</td>\n",
       "      <td>0.940541</td>\n",
       "    </tr>\n",
       "    <tr>\n",
       "      <th>knn_model_tr_norm_acc</th>\n",
       "      <td>GridSearchCV(cv=10,\\n             estimator=Pi...</td>\n",
       "      <td>0.988889</td>\n",
       "      <td>0.010535</td>\n",
       "      <td>0.940541</td>\n",
       "    </tr>\n",
       "    <tr>\n",
       "      <th>RF_100_trees_uni</th>\n",
       "      <td>GridSearchCV(cv=15,\\n             estimator=Pi...</td>\n",
       "      <td>0.988497</td>\n",
       "      <td>0.011906</td>\n",
       "      <td>0.945652</td>\n",
       "    </tr>\n",
       "    <tr>\n",
       "      <th>KNN_QT_uniform</th>\n",
       "      <td>GridSearchCV(cv=15,\\n             estimator=Pi...</td>\n",
       "      <td>0.988497</td>\n",
       "      <td>0.010321</td>\n",
       "      <td>0.945946</td>\n",
       "    </tr>\n",
       "    <tr>\n",
       "      <th>RF_100_trees_normal</th>\n",
       "      <td>GridSearchCV(cv=15,\\n             estimator=Pi...</td>\n",
       "      <td>0.988497</td>\n",
       "      <td>0.011906</td>\n",
       "      <td>0.947945</td>\n",
       "    </tr>\n",
       "    <tr>\n",
       "      <th>RF_model_tr_un_acc</th>\n",
       "      <td>GridSearchCV(cv=15,\\n             estimator=Pi...</td>\n",
       "      <td>0.989272</td>\n",
       "      <td>0.014046</td>\n",
       "      <td>0.947945</td>\n",
       "    </tr>\n",
       "    <tr>\n",
       "      <th>RF_model_tr_nor_acc</th>\n",
       "      <td>GridSearchCV(cv=15,\\n             estimator=Pi...</td>\n",
       "      <td>0.988506</td>\n",
       "      <td>0.011537</td>\n",
       "      <td>0.947945</td>\n",
       "    </tr>\n",
       "    <tr>\n",
       "      <th>RF_model_tr_un_f1</th>\n",
       "      <td>GridSearchCV(cv=15,\\n             estimator=Pi...</td>\n",
       "      <td>0.989017</td>\n",
       "      <td>0.011146</td>\n",
       "      <td>0.950820</td>\n",
       "    </tr>\n",
       "    <tr>\n",
       "      <th>knn_model_tr_un_f1</th>\n",
       "      <td>GridSearchCV(cv=15,\\n             estimator=Pi...</td>\n",
       "      <td>0.987739</td>\n",
       "      <td>0.008012</td>\n",
       "      <td>0.954178</td>\n",
       "    </tr>\n",
       "    <tr>\n",
       "      <th>knn_model_tr_uni_acc</th>\n",
       "      <td>GridSearchCV(cv=10,\\n             estimator=Pi...</td>\n",
       "      <td>0.987739</td>\n",
       "      <td>0.009873</td>\n",
       "      <td>0.954178</td>\n",
       "    </tr>\n",
       "  </tbody>\n",
       "</table>\n",
       "</div>"
      ],
      "text/plain": [
       "                                                                     clf  \\\n",
       "KNN_QT_normal          GridSearchCV(cv=15,\\n             estimator=Pi...   \n",
       "RF_model_tr_nor_f1     GridSearchCV(cv=15,\\n             estimator=Pi...   \n",
       "knn_model_tr_nor       GridSearchCV(cv=10,\\n             estimator=Pi...   \n",
       "knn_model_tr_norm_acc  GridSearchCV(cv=10,\\n             estimator=Pi...   \n",
       "RF_100_trees_uni       GridSearchCV(cv=15,\\n             estimator=Pi...   \n",
       "KNN_QT_uniform         GridSearchCV(cv=15,\\n             estimator=Pi...   \n",
       "RF_100_trees_normal    GridSearchCV(cv=15,\\n             estimator=Pi...   \n",
       "RF_model_tr_un_acc     GridSearchCV(cv=15,\\n             estimator=Pi...   \n",
       "RF_model_tr_nor_acc    GridSearchCV(cv=15,\\n             estimator=Pi...   \n",
       "RF_model_tr_un_f1      GridSearchCV(cv=15,\\n             estimator=Pi...   \n",
       "knn_model_tr_un_f1     GridSearchCV(cv=15,\\n             estimator=Pi...   \n",
       "knn_model_tr_uni_acc   GridSearchCV(cv=10,\\n             estimator=Pi...   \n",
       "\n",
       "                          score  score_std        f1  \n",
       "KNN_QT_normal          0.988882   0.011483  0.932615  \n",
       "RF_model_tr_nor_f1     0.987995   0.012154  0.933702  \n",
       "knn_model_tr_nor       0.991315   0.010642  0.940541  \n",
       "knn_model_tr_norm_acc  0.988889   0.010535  0.940541  \n",
       "RF_100_trees_uni       0.988497   0.011906  0.945652  \n",
       "KNN_QT_uniform         0.988497   0.010321  0.945946  \n",
       "RF_100_trees_normal    0.988497   0.011906  0.947945  \n",
       "RF_model_tr_un_acc     0.989272   0.014046  0.947945  \n",
       "RF_model_tr_nor_acc    0.988506   0.011537  0.947945  \n",
       "RF_model_tr_un_f1      0.989017   0.011146  0.950820  \n",
       "knn_model_tr_un_f1     0.987739   0.008012  0.954178  \n",
       "knn_model_tr_uni_acc   0.987739   0.009873  0.954178  "
      ]
     },
     "execution_count": 286,
     "metadata": {},
     "output_type": "execute_result"
    }
   ],
   "source": [
    "res1 = pd.DataFrame(index=names, data={'clf': clfs, 'score': scores, 'score_std': scores_std,'f1':f1})\n",
    "res1.sort_values('f1')"
   ]
  },
  {
   "cell_type": "code",
   "execution_count": null,
   "metadata": {},
   "outputs": [],
   "source": [
    "# save the model with the highest accuracy\n",
    "\n",
    "bands = '12'\n",
    "res.to_pickle('model_results_'+bands+'_bands.pkl'.format(bands))\n",
    "res_saved = pd.read_pickle('model_results_12_bands.pkl')"
   ]
  },
  {
   "cell_type": "code",
   "execution_count": null,
   "metadata": {},
   "outputs": [],
   "source": [
    "# save the model with the highest f1 score\n",
    "\n",
    "bands = '12'\n",
    "res1.to_pickle('model_results1_'+bands+'_bands.pkl'.format(bands))\n",
    "res_model1 = pd.read_pickle('model_results1_12_bands.pkl')"
   ]
  },
  {
   "cell_type": "code",
   "execution_count": 62,
   "metadata": {},
   "outputs": [],
   "source": [
    "import numpy as np\n",
    "import pandas as pd\n",
    "res_saved = pd.read_pickle('model_results_12_bands.pkl')"
   ]
  },
  {
   "cell_type": "code",
   "execution_count": 63,
   "metadata": {},
   "outputs": [],
   "source": [
    "# which model do we want to check? select by score!\n",
    "clf = res_saved.loc[res_saved['score'] == res_saved['score'].max(), 'clf'].values[0]\n",
    "# classifier name\n",
    "classifier_name = res_saved.loc[res_saved['score'] == res_saved['score'].max(), 'clf'].index.values[0]             # knn"
   ]
  },
  {
   "cell_type": "code",
   "execution_count": 64,
   "metadata": {},
   "outputs": [
    {
     "data": {
      "text/plain": [
       "'KNN_QT_uniform'"
      ]
     },
     "execution_count": 64,
     "metadata": {},
     "output_type": "execute_result"
    }
   ],
   "source": [
    "classifier_name"
   ]
  },
  {
   "cell_type": "code",
   "execution_count": 6,
   "metadata": {},
   "outputs": [],
   "source": [
    "# clf1 = res1.loc[res1['f1'] == res1['f1'].max(), 'clf'].values[0]\n",
    "# # classifier name\n",
    "# classifier_name1 = res1.loc[res1['f1'] == res1['f1'].max(), 'clf'].index.values[0]       \n",
    "# classifier_name1"
   ]
  },
  {
   "cell_type": "code",
   "execution_count": 281,
   "metadata": {},
   "outputs": [],
   "source": [
    "X_pred=np.nan_to_num(X_pred)"
   ]
  },
  {
   "cell_type": "code",
   "execution_count": 72,
   "metadata": {},
   "outputs": [],
   "source": [
    "X_pred2=np.nan_to_num(X_pred2)"
   ]
  },
  {
   "cell_type": "code",
   "execution_count": 73,
   "metadata": {},
   "outputs": [],
   "source": [
    "X_pred3=np.nan_to_num(X_pred3)"
   ]
  },
  {
   "cell_type": "code",
   "execution_count": 74,
   "metadata": {},
   "outputs": [],
   "source": [
    "X_pred4=np.nan_to_num(X_pred4)"
   ]
  },
  {
   "cell_type": "code",
   "execution_count": 297,
   "metadata": {},
   "outputs": [],
   "source": [
    "# original shape of scene\n",
    "orig_shape = (height, width)\n",
    "\n",
    "# run prediction on the image\n",
    "y_pred = clf.predict(X_pred)\n",
    "\n",
    "# # reshape y back to a 2D matrix for visualization\n",
    "# y_pred_img = y_pred.reshape(orig_shape)"
   ]
  },
  {
   "cell_type": "code",
   "execution_count": 75,
   "metadata": {},
   "outputs": [],
   "source": [
    "orig_shape_2 = (height2, width2)\n",
    "# run prediction on the image\n",
    "y_pred2 = clf.predict(X_pred2)"
   ]
  },
  {
   "cell_type": "code",
   "execution_count": 76,
   "metadata": {},
   "outputs": [],
   "source": [
    "orig_shape_3 = (height3, width3)\n",
    "# run prediction on the image\n",
    "y_pred3 = clf.predict(X_pred3)"
   ]
  },
  {
   "cell_type": "code",
   "execution_count": 82,
   "metadata": {},
   "outputs": [],
   "source": [
    "orig_shape_4 = (height4, width4)\n",
    "# run prediction on the imageq23\n",
    "y_pred4 = clf.predict(X_pred4)"
   ]
  },
  {
   "cell_type": "code",
   "execution_count": null,
   "metadata": {},
   "outputs": [],
   "source": [
    "y_pred_img = y_pred.reshape(orig_shape)"
   ]
  },
  {
   "cell_type": "code",
   "execution_count": 78,
   "metadata": {},
   "outputs": [],
   "source": [
    "y_pred_img2 = y_pred2.reshape(orig_shape_2)"
   ]
  },
  {
   "cell_type": "code",
   "execution_count": 79,
   "metadata": {},
   "outputs": [],
   "source": [
    "y_pred_img3 = y_pred3.reshape(orig_shape_3)"
   ]
  },
  {
   "cell_type": "code",
   "execution_count": 83,
   "metadata": {},
   "outputs": [],
   "source": [
    "y_pred_img4 = y_pred4.reshape(orig_shape_4)"
   ]
  },
  {
   "cell_type": "code",
   "execution_count": null,
   "metadata": {},
   "outputs": [],
   "source": [
    "(clf.predict(X) == y).sum()"
   ]
  },
  {
   "cell_type": "code",
   "execution_count": null,
   "metadata": {},
   "outputs": [],
   "source": [
    "# #reclassify the string label names as numeric values\n",
    "# labels = ['yes', 'no']\n",
    "\n",
    "# for i, label in enumerate(labels):\n",
    "#     y_pred_img[y_pred_img == label] = i\n",
    "# y_pred_img= y_pred_img.astype(int)\n"
   ]
  },
  {
   "cell_type": "markdown",
   "metadata": {},
   "source": [
    "# Image-prediction"
   ]
  },
  {
   "cell_type": "code",
   "execution_count": null,
   "metadata": {},
   "outputs": [],
   "source": [
    "from matplotlib import colors\n",
    "\n",
    "fig, ax = plt.subplots(figsize=(20,15),dpi= 100)\n",
    "\n",
    "\n",
    "cmap = colors.ListedColormap(['red','green'])\n",
    "\n",
    "predict_plot = ax.imshow(y_pred_img, cmap=cmap)\n",
    "cbar = fig.colorbar(predict_plot, label='class')\n",
    "cbar.set_ticks(np.arange(0, len(labels)))\n",
    "cbar.set_ticklabels(labels)\n",
    "#ax.set_title(classifier_name)\n",
    "ax.set_axis_off()"
   ]
  },
  {
   "cell_type": "code",
   "execution_count": null,
   "metadata": {},
   "outputs": [],
   "source": [
    "from matplotlib import colors\n",
    "\n",
    "fig, ax = plt.subplots(figsize=(20,15),dpi= 100)\n",
    "\n",
    "\n",
    "cmap = colors.ListedColormap(['red','green'])\n",
    "\n",
    "predict_plot2 = ax.imshow(y_pred_img2, cmap=cmap)\n",
    "cbar = fig.colorbar(predict_plot2, label='class')\n",
    "cbar.set_ticks(np.arange(0, len(labels)))\n",
    "cbar.set_ticklabels(labels)\n",
    "#ax.set_title(classifier_name)\n",
    "ax.set_axis_off()"
   ]
  },
  {
   "cell_type": "code",
   "execution_count": null,
   "metadata": {},
   "outputs": [],
   "source": [
    "from matplotlib import colors\n",
    "\n",
    "fig, ax = plt.subplots(figsize=(20,15),dpi= 100)\n",
    "\n",
    "\n",
    "cmap = colors.ListedColormap(['red','green'])\n",
    "\n",
    "predict_plot3 = ax.imshow(y_pred_img3, cmap=cmap)\n",
    "cbar = fig.colorbar(predict_plot3, label='class')\n",
    "cbar.set_ticks(np.arange(0, len(labels)))\n",
    "cbar.set_ticklabels(labels)\n",
    "#ax.set_title(classifier_name)\n",
    "ax.set_axis_off()"
   ]
  },
  {
   "cell_type": "code",
   "execution_count": null,
   "metadata": {},
   "outputs": [],
   "source": [
    "from matplotlib import colors\n",
    "\n",
    "fig, ax = plt.subplots(figsize=(20,15),dpi= 100)\n",
    "\n",
    "\n",
    "cmap = colors.ListedColormap(['red','green'])\n",
    "\n",
    "predict_plot4 = ax.imshow(y_pred_img4, cmap=cmap)\n",
    "cbar = fig.colorbar(predict_plot4, label='class')\n",
    "cbar.set_ticks(np.arange(0, len(labels)))\n",
    "cbar.set_ticklabels(labels)\n",
    "#ax.set_title(classifier_name)\n",
    "ax.set_axis_off()"
   ]
  },
  {
   "cell_type": "code",
   "execution_count": null,
   "metadata": {},
   "outputs": [],
   "source": [
    "# Write an array as a raster band to a new 8-bit file. For\n",
    "# the new file's profile, we start with the profile of the source\n",
    "profile = full_dataset.profile\n",
    "\n",
    "# And then change the band count to 1, set the and set the dtype to uint8\n",
    "profile.update(dtype=rasterio.float32, count=1)\n",
    "\n",
    "# for each label write as separate binary array to a new directory\n",
    "tif_out_dir = 'results_12_Bands_corrected/'\n",
    "try: \n",
    "    os.mkdir(tif_out_dir)\n",
    "except:\n",
    "    pass\n",
    "for i, label in enumerate(labels):\n",
    "    array_out = y_pred_img.copy()\n",
    "    array_out[array_out != i] = 1\n",
    "    array_out[array_out == i] = 0\n",
    "    tif_out = '{}{}12_Bands_E_RF_uni.tif'.format(tif_out_dir, label, classifier_name)\n",
    "    with rasterio.open(tif_out, 'w', **profile) as dst:\n",
    "        dst.write(array_out.astype(rasterio.float32), 1)"
   ]
  },
  {
   "cell_type": "code",
   "execution_count": 80,
   "metadata": {},
   "outputs": [],
   "source": [
    "# Write an array as a raster band to a new 8-bit file. For\n",
    "# the new file's profile, we start with the profile of the source\n",
    "profile = full_dataset2.profile\n",
    "\n",
    "# And then change the band count to 1, set the and set the dtype to uint8\n",
    "profile.update(dtype=rasterio.float32, count=1)\n",
    "\n",
    "# for each label write as separate binary array to a new directory\n",
    "tif_out_dir = 'results_12_Bands_corrected/'\n",
    "try: \n",
    "    os.mkdir(tif_out_dir)\n",
    "except:\n",
    "    pass\n",
    "for i, label in enumerate(labels):\n",
    "    array_out = y_pred_img2.copy()\n",
    "    array_out[array_out != i] = 1\n",
    "    array_out[array_out == i] = 0\n",
    "    tif_out = '{}{}12_B_South_KNN_norm_acc.tif'.format(tif_out_dir, label, classifier_name)\n",
    "    with rasterio.open(tif_out, 'w', **profile) as dst:\n",
    "        dst.write(array_out.astype(rasterio.float32), 1)"
   ]
  },
  {
   "cell_type": "code",
   "execution_count": 81,
   "metadata": {},
   "outputs": [],
   "source": [
    "# Write an array as a raster band to a new 8-bit file. For\n",
    "# the new file's profile, we start with the profile of the source\n",
    "profile = full_dataset3.profile\n",
    "\n",
    "# And then change the band count to 1, set the and set the dtype to uint8\n",
    "profile.update(dtype=rasterio.float32, count=1)\n",
    "\n",
    "# for each label write as separate binary array to a new directory\n",
    "tif_out_dir = 'results_12_Bands_corrected/'\n",
    "try: \n",
    "    os.mkdir(tif_out_dir)\n",
    "except:\n",
    "    pass\n",
    "for i, label in enumerate(labels):\n",
    "    array_out = y_pred_img3.copy()\n",
    "    array_out[array_out != i] = 1\n",
    "    array_out[array_out == i] = 0\n",
    "    tif_out = '{}{}12_B_central_KNN_norm_acc.tif'.format(tif_out_dir, label, classifier_name)\n",
    "    with rasterio.open(tif_out, 'w', **profile) as dst:\n",
    "        dst.write(array_out.astype(rasterio.float32), 1)"
   ]
  },
  {
   "cell_type": "code",
   "execution_count": 84,
   "metadata": {},
   "outputs": [],
   "source": [
    "# Write an array as a raster band to a new 8-bit file. For\n",
    "# the new file's profile, we start with the profile of the source\n",
    "profile = full_dataset4.profile\n",
    "\n",
    "# And then change the band count to 1, set the and set the dtype to uint8\n",
    "profile.update(dtype=rasterio.float32, count=1)\n",
    "\n",
    "# for each label write as separate binary array to a new directory\n",
    "tif_out_dir = 'results_12_Bands_corrected/'\n",
    "try: \n",
    "    os.mkdir(tif_out_dir)\n",
    "except:\n",
    "    pass\n",
    "for i, label in enumerate(labels):\n",
    "    array_out = y_pred_img4.copy()\n",
    "    array_out[array_out != i] = 1\n",
    "    array_out[array_out == i] = 0\n",
    "    tif_out = '{}{}12_B_north_KNN_norm_acc.tif.tif'.format(tif_out_dir, label, classifier_name)\n",
    "    with rasterio.open(tif_out, 'w', **profile) as dst:\n",
    "        dst.write(array_out.astype(rasterio.float32), 1)"
   ]
  }
 ],
 "metadata": {
  "kernelspec": {
   "display_name": "Python 3 (ipykernel)",
   "language": "python",
   "name": "python3"
  },
  "language_info": {
   "codemirror_mode": {
    "name": "ipython",
    "version": 3
   },
   "file_extension": ".py",
   "mimetype": "text/x-python",
   "name": "python",
   "nbconvert_exporter": "python",
   "pygments_lexer": "ipython3",
   "version": "3.8.12"
  },
  "toc": {
   "base_numbering": 1,
   "nav_menu": {},
   "number_sections": true,
   "sideBar": true,
   "skip_h1_title": false,
   "title_cell": "Table of Contents",
   "title_sidebar": "Contents",
   "toc_cell": false,
   "toc_position": {},
   "toc_section_display": true,
   "toc_window_display": false
  },
  "varInspector": {
   "cols": {
    "lenName": 16,
    "lenType": 16,
    "lenVar": 40
   },
   "kernels_config": {
    "python": {
     "delete_cmd_postfix": "",
     "delete_cmd_prefix": "del ",
     "library": "var_list.py",
     "varRefreshCmd": "print(var_dic_list())"
    },
    "r": {
     "delete_cmd_postfix": ") ",
     "delete_cmd_prefix": "rm(",
     "library": "var_list.r",
     "varRefreshCmd": "cat(var_dic_list()) "
    }
   },
   "types_to_exclude": [
    "module",
    "function",
    "builtin_function_or_method",
    "instance",
    "_Feature"
   ],
   "window_display": false
  }
 },
 "nbformat": 4,
 "nbformat_minor": 4
}
